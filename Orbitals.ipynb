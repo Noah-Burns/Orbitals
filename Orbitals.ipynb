{
 "cells": [
  {
   "cell_type": "code",
   "execution_count": null,
   "metadata": {},
   "outputs": [],
   "source": [
    "from IPython.display import Javascript\n",
    "Javascript('IPython.notebook.execute_cells_below()')"
   ]
  },
  {
   "cell_type": "code",
   "execution_count": null,
   "metadata": {
    "execution": {
     "iopub.execute_input": "2021-01-07T02:58:37.936Z",
     "iopub.status.busy": "2021-01-07T02:58:37.930Z",
     "iopub.status.idle": "2021-01-07T02:58:37.953Z",
     "shell.execute_reply": "2021-01-07T02:58:37.898Z"
    }
   },
   "outputs": [],
   "source": [
    "%%html\n",
    "<style>\n",
    ".mpl-message,\n",
    ".output_wrapper button.btn.btn-default,\n",
    ".output_wrapper .ui-dialog-titlebar,\n",
    ".output_prompt {\n",
    "  display: none;\n",
    "}\n",
    ".output_latex {\n",
    "    overflow: hidden;\n",
    "}\n",
    "</style>\n",
    "<script>\n",
    "code_show=true; \n",
    "function code_toggle() {\n",
    " if (code_show){\n",
    " $('div.input').hide();\n",
    " } else {\n",
    " $('div.input').show();\n",
    " }\n",
    " code_show = !code_show\n",
    "} \n",
    "$( document ).ready(code_toggle);\n",
    "</script>\n",
    "<form action=\"javascript:code_toggle()\"><input type=\"submit\" value=\"Toggle Code\"></form>"
   ]
  },
  {
   "cell_type": "code",
   "execution_count": null,
   "metadata": {
    "execution": {
     "iopub.execute_input": "2021-01-07T02:58:49.235Z",
     "iopub.status.busy": "2021-01-07T02:58:49.224Z",
     "iopub.status.idle": "2021-01-07T02:58:49.254Z",
     "shell.execute_reply": "2021-01-07T02:58:49.261Z"
    }
   },
   "outputs": [],
   "source": [
    "%%javascript\n",
    "IPython.OutputArea.prototype._should_scroll = function(lines) {\n",
    "    return false;\n",
    "}"
   ]
  },
  {
   "cell_type": "code",
   "execution_count": null,
   "metadata": {
    "execution": {
     "iopub.execute_input": "2021-01-07T02:58:50.837Z",
     "iopub.status.busy": "2021-01-07T02:58:50.818Z",
     "iopub.status.idle": "2021-01-07T02:58:52.400Z",
     "shell.execute_reply": "2021-01-07T02:58:52.471Z"
    },
    "scrolled": true
   },
   "outputs": [],
   "source": [
    "from sympy import *\n",
    "x, n, k, alpha, l, m, r, theta, phi, Z, a_0, sigma = symbols(\"x n k alpha l m r theta phi Z a_0 sigma\")\n",
    "%matplotlib notebook\n",
    "import numpy as np\n",
    "import matplotlib.pyplot as plt\n",
    "import mpl_toolkits.mplot3d.axes3d as axes3d\n",
    "from matplotlib.colors import LinearSegmentedColormap, Normalize\n",
    "from matplotlib.cm import ScalarMappable\n",
    "from matplotlib.ticker import ScalarFormatter\n",
    "import ipywidgets as wg\n",
    "from IPython.display import display, Math\n",
    "\n",
    "class quantumNumbers:\n",
    "    def __init__(self, name, minmaxinit):\n",
    "        self.name = name\n",
    "        self.minmaxinit = minmaxinit\n",
    "        self.ipywg = wg.BoundedIntText(\n",
    "            value = self.minmaxinit[2],\n",
    "            min = self.minmaxinit[0],\n",
    "            max = self.minmaxinit[1],\n",
    "            description = self.name,\n",
    "            layout={\n",
    "                \"width\": \"125px\"\n",
    "            },\n",
    "            style={\n",
    "                \"description_width\": \"50px\"\n",
    "            }\n",
    "        )\n",
    "        \n",
    "    def get_wg(self):\n",
    "        return self.ipywg\n",
    "\n",
    "class printWg:\n",
    "    def __init__(self):\n",
    "        self.ipywg = wg.Output()\n",
    "        \n",
    "    def get_wg(self):\n",
    "        return self.ipywg\n",
    "        \n",
    "class App:    \n",
    "    # GUI ###################################################\n",
    "    def __init__(self):\n",
    "        # GUI  \n",
    "        self.n = quantumNumbers(r\"$n$\",[1,10,1]).get_wg()\n",
    "        self.l = quantumNumbers(r\"$l$\",[0,0,0]).get_wg()\n",
    "        self.m = quantumNumbers(r\"$\\left| m \\right|$\",[0,0,0]).get_wg()\n",
    "        self.Z = quantumNumbers(r\"$Z$\",[1,180,1]).get_wg()\n",
    "        \n",
    "        self.pm = wg.RadioButtons(\n",
    "            options = [\"+\",\"-\"],\n",
    "            description = r\"$Y_l^m \\pm Y_l^{-m}$\",\n",
    "            layout = wg.Layout(display=\"none\",width=\"125px\"))\n",
    "\n",
    "        self.plotButton = wg.Button(\n",
    "            description=\"Generate Plots\",\n",
    "            layout = {\n",
    "                \"width\": \"125px\"\n",
    "            },\n",
    "            style = {\n",
    "                \"button_color\": \"lightgreen\"\n",
    "            }\n",
    "        )\n",
    "        \n",
    "        self.nPoints = wg.IntSlider(\n",
    "            orientation=\"vertical\",\n",
    "            value = 2000,\n",
    "            min=500,\n",
    "            max=10000,\n",
    "            description=\"# of points\",\n",
    "            layout={\n",
    "                \"height\": \"170px\"\n",
    "            }\n",
    "        )\n",
    "        \n",
    "        self.resetButton = wg.Button(\n",
    "            description=\"Reset\",\n",
    "            layout = {\n",
    "                \"width\": \"100px\"\n",
    "            },\n",
    "            style = {\n",
    "                \"button_color\": \"coral\"\n",
    "            }\n",
    "        )\n",
    "        \n",
    "        self.topLBox = wg.VBox(\n",
    "            [self.n,self.l,self.m,self.pm,self.Z,self.nPoints,\n",
    "             self.plotButton,self.resetButton],\n",
    "            layout={\n",
    "                \"width\": \"160px\",\n",
    "                \"display\": \"flex\",\n",
    "                \"flex_flow\": \"column wrap\",\n",
    "                \"align_items\": \"center\"\n",
    "            }\n",
    "        )\n",
    "        \n",
    "        self.plotPsi = wg.Output(\n",
    "            layout={\n",
    "                \"height\": \"100%\"\n",
    "            }\n",
    "        )\n",
    "\n",
    "        self.topRBox = wg.HBox(\n",
    "            [self.plotPsi],\n",
    "            layout={\n",
    "                \"width\": \"100%\",\n",
    "                \"display\": \"flex\",\n",
    "                \"flex_flow\": \"column\",\n",
    "                \"align_items\": \"center\"\n",
    "            }\n",
    "        )\n",
    "        \n",
    "        self.topBox = wg.HBox([self.topLBox,self.topRBox])\n",
    "        \n",
    "        self.plotY,self.plotR = wg.Output(),wg.Output()\n",
    "        self.botLeftBox = wg.HBox(\n",
    "            [self.plotY],\n",
    "            layout={\n",
    "                \"width\": \"50%\",\n",
    "                \"display\": \"flex\",\n",
    "                \"flex_flow\": \"column\",\n",
    "                \"align_items\": \"center\"\n",
    "            }\n",
    "        )\n",
    "        self.botRightBox = wg.HBox(\n",
    "            [self.plotR],\n",
    "            layout={\n",
    "                \"width\": \"50%\",\n",
    "                \"display\": \"flex\",\n",
    "                \"flex_flow\": \"column\",\n",
    "                \"align_items\": \"center\"\n",
    "            }\n",
    "        )\n",
    "        \n",
    "        \n",
    "        self.botBox = wg.VBox(\n",
    "            [self.botLeftBox,self.botRightBox],\n",
    "            layout={\n",
    "                \"width\": \"100%\",\n",
    "                \"display\": \"flex\",\n",
    "                \"flex_flow\": \"row\",\n",
    "                \"align_items\": \"center\"\n",
    "            }\n",
    "        )\n",
    "        \n",
    "        self.psiOut,self.YOut,self.ROut = printWg().get_wg(),printWg().get_wg(),printWg().get_wg()\n",
    "        self.tBox = wg.VBox(\n",
    "            [self.psiOut,self.YOut,self.ROut],\n",
    "            layout={\n",
    "                \"width\": \"100%\",\n",
    "                \"display\": \"flex\",\n",
    "                \"flex_flow\": \"column\",\n",
    "                \"align_items\": \"center\"\n",
    "            }\n",
    "        )\n",
    "        \n",
    "        self.ghLogo = wg.HTML(\n",
    "            value=\"<div><a href=\\\"https://github.com/Noah-Burns/Orbitals\\\"><img src=\\\"data/ghmark.png\\\"></a></div>\"\n",
    "        )\n",
    "        self.docNB = wg.HTML(\n",
    "            value=\"<div><a href=\\\"https://mybinder.org/v2/gh/Noah-Burns/Orbitals/main?filepath=Orbitals%20Documented.ipynb\\\">Documented notebook</a></div>\"\n",
    "        )\n",
    "        self.fBox = wg.VBox(\n",
    "            [self.ghLogo,self.docNB],\n",
    "            layout={\n",
    "                \"width\": \"100%\",\n",
    "                \"display\": \"flex\",\n",
    "                \"flex_flow\": \"column\",\n",
    "                \"align_items\": \"center\"\n",
    "            }\n",
    "        )\n",
    "        \n",
    "        def update_l_bounds(change):\n",
    "            self.l.max = change[\"new\"]-1\n",
    "        self.n.observe(update_l_bounds, \"value\")\n",
    "        \n",
    "        def update_m_bounds(change):\n",
    "            self.m.max = change[\"new\"]\n",
    "        self.l.observe(update_m_bounds, \"value\")\n",
    "        \n",
    "        def update_pm(change):\n",
    "            if change[\"new\"] > 0 and change[\"old\"] == 0:\n",
    "                self.pm.layout.display = \"flex\" # show radio buttons\n",
    "            elif change[\"new\"] == 0 and change[\"old\"] > 0:\n",
    "                self.pm.layout.display = \"none\" # hide radio buttons\n",
    "        self.m.observe(update_pm, \"value\")\n",
    "        \n",
    "        \n",
    "        self.plotButton.on_click(self.plotter)\n",
    "        self.resetButton.on_click(self.reset)\n",
    "        self.GUI = wg.VBox([self.topBox,self.botBox,self.tBox,self.fBox])\n",
    "    \n",
    "    # Math #############################################################\n",
    "    \n",
    "    def generate_functions(self):\n",
    "        \n",
    "        Legendre = 1/(2**k*factorial(k)) * ((x**2-1)**k).diff((x,k))\n",
    "        ALegendre = (1-x**2)**(abs(alpha)/2) * (Legendre.subs(k,sigma)).diff((x,abs(alpha)))\n",
    "        \n",
    "        def P(l,m):\n",
    "            return ALegendre.subs([(sigma,l),(alpha,m)]).doit().subs(x,cos(theta)).simplify().subs(((sin(theta))**2)**(1/2),sin(theta))\n",
    "        \n",
    "        FinalLs = []\n",
    "        for i in range(3):\n",
    "            for j in range(i+1):\n",
    "                FinalLs.append(P(i,j))\n",
    "        \n",
    "        def Y(l,m):\n",
    "            return (sqrt( ((2*l+1)/(4*pi)) * factorial(l-abs(m))/factorial(l+abs(m)) ) * exp(I*m*phi)) * P(l,m)\n",
    "        \n",
    "        def real_Y(l,mag_m,pm):\n",
    "            if mag_m == 0:\n",
    "                return Y(l,mag_m)\n",
    "            if pm[0] == \"-\":\n",
    "                return simplify((1/(sqrt(2)*I)) * (Y(l,mag_m) - Y(l,-mag_m)))\n",
    "            return simplify((1/sqrt(2)) * (Y(l,mag_m) + Y(l,-mag_m))) \n",
    "        \n",
    "        def Laguerre(k,alpha):\n",
    "            if k > 1:\n",
    "                return expand(((-x + 2*k + alpha - 1)*Laguerre(k-1,alpha) - (k + alpha - 1)*Laguerre(k-2,alpha))/k)\n",
    "            elif k == 1:\n",
    "                return 1 + alpha - x\n",
    "            else:\n",
    "                return 1\n",
    "            \n",
    "        def subsLaguerre(n,l,Z):\n",
    "            res = Laguerre(n-l-1,2*l+1)\n",
    "            if res == 1:\n",
    "                return res\n",
    "            else:\n",
    "                return res.subs(x,2*Z*r/(n*a_0))\n",
    "            \n",
    "        def R(n,l,Z):\n",
    "            return nsimplify((2/n)**(l+3/2)) * (Z/a_0)**(l+3/2) * sqrt(factorial(n-l-1)/(2*n*factorial(n+l))) * subsLaguerre(n,l,Z) * r**l * exp(-Z*r/(n*a_0))  \n",
    "        \n",
    "        def Psi(n,l,m,Z,*pm):\n",
    "            if pm:\n",
    "                return real_Y(l,m,pm[0])*R(n,l,Z)\n",
    "            return real_Y(l,m)*R(n,l,Z)      \n",
    "        \n",
    "        return [Psi(self.n.value, self.l.value, self.m.value, self.Z.value, self.pm.value),\n",
    "                real_Y(self.l.value, self.m.value, self.pm.value),\n",
    "                R(self.n.value, self.l.value, self.Z.value)]\n",
    "        \n",
    "    # Plots #############################################################\n",
    "\n",
    "    def plotter(self,*args):\n",
    "        funcs = self.generate_functions()   \n",
    "        plt.close(\"all\")\n",
    "        \n",
    "        def randrange(nPoints, vmin, vmax):  \n",
    "            return (vmax - vmin)*np.random.rand(nPoints) + vmin\n",
    "        \n",
    "        self.plotPsi.clear_output()\n",
    "        with self.plotPsi:\n",
    "            f = lambdify(\n",
    "                [r,theta,phi],\n",
    "                (funcs[0].subs(a_0,1))**2,\n",
    "                \"numpy\")\n",
    "\n",
    "            r_Range = (10+20*(self.n.value-1))/2\n",
    "            # in units of a_0.\n",
    "            # there's probably some smarter way to do this\n",
    "\n",
    "            fig = plt.figure(figsize=(5,4), num = \" \", facecolor=\"grey\")\n",
    "            ax = fig.add_subplot(1,1,1, projection='3d', facecolor=\"grey\")\n",
    "\n",
    "            # Redefine the inferno color map with scaled alpha (transparency)\n",
    "            nColors = 256\n",
    "            cArray = plt.get_cmap(\"inferno\")(range(nColors))\n",
    "            cArray[:,-1] = np.linspace(0.0,1.0,nColors)\n",
    "            mapObj = LinearSegmentedColormap.from_list(\n",
    "                name=\"inferno_alpha\",colors=cArray)\n",
    "            plt.register_cmap(cmap=mapObj)\n",
    "\n",
    "            rs = randrange(self.nPoints.value, 0, r_Range)\n",
    "            thetas = randrange(self.nPoints.value, 0, np.pi)\n",
    "            phis = randrange(self.nPoints.value, 0, 2*np.pi)\n",
    "\n",
    "            xs = rs * np.sin(thetas) * np.cos(phis)\n",
    "            ys = rs * np.sin(thetas) * np.sin(phis)\n",
    "            zs = rs * np.cos(thetas)\n",
    "\n",
    "            ax.scatter(\n",
    "                xs, ys, zs, marker=\"o\",\n",
    "                c=f(rs,thetas,phis), cmap = \"inferno_alpha\"\n",
    "            )\n",
    "            \n",
    "            fmt = ScalarFormatter(useMathText=True)\n",
    "            fmt.set_powerlimits((0, 0))\n",
    "            fig.colorbar(\n",
    "                ScalarMappable(cmap=\"inferno_alpha\",norm=Normalize(0,max(f(rs,thetas,phis)))),\n",
    "                ax = ax,\n",
    "                orientation = \"vertical\", pad = .15,\n",
    "                label = r\"$\\left|\\psi\\right|^2$ $(a_0^{-3})$\",\n",
    "                format = fmt\n",
    "            )\n",
    "            \n",
    "            lDesignation = \"spdfghiklm\"\n",
    "            if not self.m.value:\n",
    "                pmv = \"\"\n",
    "            else:\n",
    "                pmv = f\"^{self.pm.value}\"\n",
    "            ax.set_title(f\"$f(r,\\\\theta,\\\\phi)=\\\\left|\\\\psi_\"\n",
    "                         f'{{{self.n.value},{self.l.value},{self.m.value}{pmv}}}'\n",
    "                         f\"\\\\right|^2$ for $Z = {self.Z.value}$\\n\"\n",
    "                         f\"{self.n.value}{lDesignation[self.l.value]} Atomic Orbital\",\n",
    "                         y = 1.0,\n",
    "                         pad = -18\n",
    "            )\n",
    "            ax.set_xlim(-r_Range,r_Range)\n",
    "            ax.set_ylim(-r_Range,r_Range)\n",
    "            ax.set_zlim(-r_Range,r_Range)\n",
    "            ax.set_box_aspect((1,1,1))\n",
    "            ax.view_init(5,-45)\n",
    "\n",
    "            ax.set_xlabel(r'$x$ $(a_0)$')\n",
    "            ax.set_ylabel(r'$y$ $(a_0)$')\n",
    "            ax.set_zlabel(r'$z$ $(a_0)$')\n",
    "            plt.tight_layout()\n",
    "        \n",
    "        \n",
    "        self.plotY.clear_output()\n",
    "        with self.plotY:\n",
    "            f = lambdify([theta,phi],funcs[1],\"numpy\")\n",
    "    \n",
    "            t, p = np.linspace(0, np.pi, 100), np.linspace(0, 2*np.pi, 100)\n",
    "            THETA, PHI = np.meshgrid(t, p)\n",
    "            R = abs(f(THETA,PHI)) \n",
    "            X = R * np.sin(THETA) * np.cos(PHI)\n",
    "            Y = R * np.sin(THETA) * np.sin(PHI)\n",
    "            Z = R * np.cos(THETA)\n",
    "        \n",
    "            fig = plt.figure(figsize=(4,3), num = \"   \")\n",
    "            ax = fig.add_subplot(1,1,1, projection='3d')\n",
    "            plot = ax.plot_surface(\n",
    "                X, Y, Z, rstride=1, cstride=1, cmap=plt.get_cmap('jet'),\n",
    "                linewidth=0, antialiased=False, alpha=0.5)\n",
    "            \n",
    "            if self.m.value == 0:\n",
    "                ax.set_title(f\"Real Spherical Harmonic\\n$Y_{{{self.l.value}}}^{{0}}$\")\n",
    "            else:\n",
    "                ax.set_title(\n",
    "                    f\"Real Spherical Harmonic\\n$\\\\frac{{1}}{{\\\\sqrt{{2}}\"\n",
    "                    f\"{'i' if self.pm.value == '-' else ''}\"\n",
    "                    f\"}}\\\\left(Y_{{{self.l.value}}}^{{{self.m.value}}}\"\n",
    "                    f\"{self.pm.value}\"\n",
    "                    f\"Y_{{{self.l.value}}}^{{-{self.m.value}}}\\\\right)$\"\n",
    "                 )\n",
    "            \n",
    "            ax.set_xlim(-np.amax(R),np.amax(R))\n",
    "            ax.set_ylim(-np.amax(R),np.amax(R))\n",
    "            ax.set_zlim(-np.amax(R),np.amax(R))\n",
    "            ax.view_init(5,-45)\n",
    "            ax.set_box_aspect((1,1,1))\n",
    "\n",
    "            ax.set_xlabel(r'$x$')\n",
    "            ax.set_ylabel(r'$y$')\n",
    "            ax.set_zlabel(r'$z$')\n",
    "            plt.tight_layout()\n",
    "            \n",
    "            \n",
    "        self.plotR.clear_output()\n",
    "        with self.plotR:\n",
    "            f = lambdify(r,r**2*(funcs[2].subs([(Z,1),(a_0,1)]))**2,\"numpy\")\n",
    "    \n",
    "            r_Range = 10+20*(self.n.value-1)\n",
    "            # how far to plot up to (in units of a_0)\n",
    "\n",
    "            radius = np.linspace(0, r_Range, 1000)\n",
    "            R_val = f(radius)\n",
    "\n",
    "            fig = plt.figure(figsize=(4,3), num = \"  \")\n",
    "            ax = fig.add_subplot(1,1,1)\n",
    "            ax.plot(radius,R_val)\n",
    "            plt.axvspan(2*self.Z.value*self.n.value**2, r_Range, facecolor='gray', alpha=0.15)\n",
    "\n",
    "            ax.set_title(f\"$f(r) = r^2R_{{{self.n.value},{self.l.value}}}^2$ for $Z = {self.Z.value}$\\n\")\n",
    "            ax.set_xlabel(r'$r/a_0$')\n",
    "            ax.set_ylabel(r'$f(r)$ $(a_0^{{-1}})$')\n",
    "            plt.tight_layout()\n",
    "        \n",
    "            self.update_outs(funcs)\n",
    "    \n",
    "    def update_outs(self,funcs):\n",
    "        if not self.m.value:\n",
    "            pmv = \"\"\n",
    "        else:\n",
    "            pmv = f\"^{self.pm.value}\"\n",
    "            if self.pm.value == \"+\":\n",
    "                istr = \"\"\n",
    "            else:\n",
    "                istr = \"i\"\n",
    "        \n",
    "        prescripts = [\n",
    "            f\"\\\\psi_{{{self.n.value},{self.l.value},{self.m.value}{pmv}}}(r,\\\\theta,\\\\phi)\",\n",
    "            f\"R_{{{self.n.value},{self.l.value}}}(r)\"\n",
    "        ]\n",
    "        if not self.m.value:\n",
    "            prescripts.insert(1,f\"Y_{self.l.value}^0(\\\\theta,\\\\phi)\")\n",
    "        else:\n",
    "            prescripts.insert(1,f\"Y_{self.l.value}^{{{self.m.value}{pmv}}}(\\\\theta,\\\\phi)=\"\n",
    "                f\"\\\\frac{{1}}{{\\sqrt{{2}}{istr}}}\"\n",
    "                f\"(Y_{self.l.value}^{self.m.value}{self.pm.value}\"\n",
    "                f\"Y_{self.l.value}^{{-{self.m.value}}})\"\n",
    "            )\n",
    "            \n",
    "        i=0    \n",
    "        for opw in [self.psiOut, self.YOut, self.ROut]:\n",
    "            opw.clear_output()\n",
    "            with opw:\n",
    "                display(Math(f\"${prescripts[i]} = {latex(funcs[i])}$\"))\n",
    "            i+=1\n",
    "            \n",
    "    \n",
    "    def reset(self,*args):\n",
    "        for opw in [self.plotPsi, self.plotY, self.plotR,\n",
    "                    self.psiOut, self.YOut, self.ROut]:\n",
    "            opw.clear_output()\n",
    "        self.n.value = 1\n",
    "        self.pm.value = \"+\"\n",
    "        self.nPoints.value = 2000\n",
    "            \n",
    "\n",
    "runApp = App()\n",
    "runApp.GUI"
   ]
  }
 ],
 "metadata": {
  "kernelspec": {
   "display_name": "Python 3",
   "language": "python",
   "name": "python3"
  },
  "language_info": {
   "codemirror_mode": {
    "name": "ipython",
    "version": 3
   },
   "file_extension": ".py",
   "mimetype": "text/x-python",
   "name": "python",
   "nbconvert_exporter": "python",
   "pygments_lexer": "ipython3",
   "version": "3.8.5"
  },
  "nteract": {
   "version": "0.27.0"
  },
  "widgets": {
   "application/vnd.jupyter.widget-state+json": {
    "state": {
     "01177e6248334381a320a981ba784c08": {
      "model_module": "@jupyter-widgets/base",
      "model_module_version": "1.2.0",
      "model_name": "LayoutModel",
      "state": {
       "width": "125px"
      }
     },
     "01d24da61ee444029daba32a137bf4aa": {
      "model_module": "@jupyter-widgets/controls",
      "model_module_version": "1.5.0",
      "model_name": "VBoxModel",
      "state": {
       "children": [
        "IPY_MODEL_812719092add4d78af6d98c7e4aeed3a",
        "IPY_MODEL_6292e3dd88934975897d91981b2f6436"
       ],
       "layout": "IPY_MODEL_87083a2e616c42919d06c5579646e9ea"
      }
     },
     "01db395b454f4463921896a0d07a2cc1": {
      "model_module": "@jupyter-widgets/controls",
      "model_module_version": "1.5.0",
      "model_name": "VBoxModel",
      "state": {
       "children": [
        "IPY_MODEL_fb3ed014bee641a88c138e141e317140",
        "IPY_MODEL_63c5016e3c384026891b7a3caa8271bc",
        "IPY_MODEL_1e1ca0ae6b7747d39451c477681f67be"
       ],
       "layout": "IPY_MODEL_da5e6ec004d947029239fa113cccc65c"
      }
     },
     "024bcf3f90b54760b66a7906d28405cc": {
      "model_module": "@jupyter-widgets/base",
      "model_module_version": "1.2.0",
      "model_name": "LayoutModel",
      "state": {
       "width": "125px"
      }
     },
     "03890775f6e64796a9f07cbf7b29cd71": {
      "model_module": "@jupyter-widgets/base",
      "model_module_version": "1.2.0",
      "model_name": "LayoutModel",
      "state": {
       "width": "125px"
      }
     },
     "06969578093a417581ad9bd4c103597c": {
      "model_module": "@jupyter-widgets/output",
      "model_module_version": "1.0.0",
      "model_name": "OutputModel",
      "state": {
       "layout": "IPY_MODEL_c9cc30ff99da486fa7d9dcc433b4a10e"
      }
     },
     "06dea4b159ab437da19090632a2e2f61": {
      "model_module": "@jupyter-widgets/controls",
      "model_module_version": "1.5.0",
      "model_name": "VBoxModel",
      "state": {
       "children": [
        "IPY_MODEL_d4a43e00dc5f4df8acc53ff3613b41c3",
        "IPY_MODEL_bf38af3f460543d0960bae2f0d3ae8c6",
        "IPY_MODEL_3a5f5e5d467e4a5ab4f93b39b37a0750"
       ],
       "layout": "IPY_MODEL_ebf534c1db904961964ed00d8940e12a"
      }
     },
     "087e8a8d3ff0487c83702d719c4d23d1": {
      "model_module": "@jupyter-widgets/controls",
      "model_module_version": "1.5.0",
      "model_name": "HBoxModel",
      "state": {
       "children": [
        "IPY_MODEL_ba4699ee3e5246f78a65349ce948e449"
       ],
       "layout": "IPY_MODEL_0d53ea8d766a4e799529507d7cca5d72"
      }
     },
     "09b446240823447899faf18cff09153d": {
      "model_module": "@jupyter-widgets/controls",
      "model_module_version": "1.5.0",
      "model_name": "BoundedIntTextModel",
      "state": {
       "description": "$n$",
       "layout": "IPY_MODEL_1ae68852550d44daaf2f90dc29774422",
       "max": 10,
       "min": 1,
       "style": "IPY_MODEL_9e8da68343184d4eaab2f6a8fd3102a2",
       "value": 3
      }
     },
     "09b7992c2c8a4464b203e68e7c893b08": {
      "model_module": "@jupyter-widgets/base",
      "model_module_version": "1.2.0",
      "model_name": "LayoutModel",
      "state": {
       "height": "100%"
      }
     },
     "0b38f0c922ad4504a7119a785f7a51fd": {
      "model_module": "@jupyter-widgets/base",
      "model_module_version": "1.2.0",
      "model_name": "LayoutModel",
      "state": {}
     },
     "0bc8aec1a19245b2b1cf7b81dc94d6af": {
      "model_module": "@jupyter-widgets/controls",
      "model_module_version": "1.5.0",
      "model_name": "DescriptionStyleModel",
      "state": {
       "description_width": "50px"
      }
     },
     "0d53ea8d766a4e799529507d7cca5d72": {
      "model_module": "@jupyter-widgets/base",
      "model_module_version": "1.2.0",
      "model_name": "LayoutModel",
      "state": {
       "align_items": "center",
       "display": "flex",
       "flex_flow": "column",
       "width": "50%"
      }
     },
     "0ee50c9b835f4000ada779439985ea51": {
      "model_module": "@jupyter-widgets/base",
      "model_module_version": "1.2.0",
      "model_name": "LayoutModel",
      "state": {}
     },
     "0fcd5d25ed1c4828864cb234f286e8e0": {
      "model_module": "@jupyter-widgets/base",
      "model_module_version": "1.2.0",
      "model_name": "LayoutModel",
      "state": {
       "width": "125px"
      }
     },
     "10d69e9c59634449831c026e326f00e1": {
      "model_module": "@jupyter-widgets/controls",
      "model_module_version": "1.5.0",
      "model_name": "BoundedIntTextModel",
      "state": {
       "description": "$n$",
       "layout": "IPY_MODEL_0fcd5d25ed1c4828864cb234f286e8e0",
       "max": 10,
       "min": 1,
       "style": "IPY_MODEL_daaf154214614c719f50afef61445509",
       "value": 1
      }
     },
     "11284ac0a22b450c8e4747bbc68391eb": {
      "model_module": "@jupyter-widgets/controls",
      "model_module_version": "1.5.0",
      "model_name": "IntSliderModel",
      "state": {
       "description": "# of points",
       "layout": "IPY_MODEL_fdf6884bf6b344d58baa60e56aa3d5f1",
       "max": 10000,
       "min": 500,
       "orientation": "vertical",
       "style": "IPY_MODEL_b62c8c519e894ecab4be24c816d746d1",
       "value": 1000
      }
     },
     "11b381e2923e48af8e107198d009a22c": {
      "model_module": "@jupyter-widgets/controls",
      "model_module_version": "1.5.0",
      "model_name": "SliderStyleModel",
      "state": {
       "description_width": ""
      }
     },
     "1378068c56144161ae8cdfb767b3d509": {
      "model_module": "@jupyter-widgets/base",
      "model_module_version": "1.2.0",
      "model_name": "LayoutModel",
      "state": {
       "align_items": "center",
       "display": "flex",
       "flex_flow": "row",
       "width": "100%"
      }
     },
     "13f690612b6e4deba2f1e8c0533c1fbc": {
      "model_module": "@jupyter-widgets/base",
      "model_module_version": "1.2.0",
      "model_name": "LayoutModel",
      "state": {}
     },
     "140d7ddc1ead432abb320e2b6462d54b": {
      "model_module": "@jupyter-widgets/controls",
      "model_module_version": "1.5.0",
      "model_name": "VBoxModel",
      "state": {
       "children": [
        "IPY_MODEL_ae8cdc2d7f5c400e9ad754d96018a490",
        "IPY_MODEL_22d72438c6ce4ebd9c8b5b02b0a78361",
        "IPY_MODEL_80fddf3242fa4cc3887779b4e98817b7"
       ],
       "layout": "IPY_MODEL_888dd78d351e4206ba48c430c0d02c8e"
      }
     },
     "147b0c333db445778467e7dc4130706c": {
      "model_module": "@jupyter-widgets/controls",
      "model_module_version": "1.5.0",
      "model_name": "BoundedIntTextModel",
      "state": {
       "description": "$\\left| m \\right|$",
       "layout": "IPY_MODEL_8c87d37ddef0473ca3d3c5cd187533cb",
       "max": 2,
       "style": "IPY_MODEL_9cd378caad3847e18cfbead40c5be038"
      }
     },
     "1564fa7d96d8469d85bcefb25be5b7c2": {
      "model_module": "@jupyter-widgets/controls",
      "model_module_version": "1.5.0",
      "model_name": "HBoxModel",
      "state": {
       "children": [
        "IPY_MODEL_85215fddb6f744b3a1caa13e9bd3a5ab"
       ],
       "layout": "IPY_MODEL_455d111224fa41e882137ad22419d544"
      }
     },
     "15c0697b28bf4137abed7742ec4e697b": {
      "model_module": "@jupyter-widgets/base",
      "model_module_version": "1.2.0",
      "model_name": "LayoutModel",
      "state": {}
     },
     "162eea91035a41c6a88adfb14771f87c": {
      "model_module": "@jupyter-widgets/controls",
      "model_module_version": "1.5.0",
      "model_name": "HBoxModel",
      "state": {
       "children": [
        "IPY_MODEL_638834009442470dab28cef8bd9e18a7"
       ],
       "layout": "IPY_MODEL_ff9cb6381029470bb3782376f82bad85"
      }
     },
     "167ce28657ad46eb94fb96a70c52c82a": {
      "model_module": "@jupyter-widgets/controls",
      "model_module_version": "1.5.0",
      "model_name": "BoundedIntTextModel",
      "state": {
       "description": "$\\left| m \\right|$",
       "layout": "IPY_MODEL_744f4df2e4d44d639267c8dc6d8f5b66",
       "max": 0,
       "style": "IPY_MODEL_c5e2a3bdc566448181854629a0d0b48b"
      }
     },
     "1705771b77b04811992076f48cbc4d1a": {
      "model_module": "@jupyter-widgets/output",
      "model_module_version": "1.0.0",
      "model_name": "OutputModel",
      "state": {
       "layout": "IPY_MODEL_eb59d63b425f46e1b7cbdb14fffa0efb",
       "outputs": [
        {
         "data": {
          "application/javascript": "/* Put everything inside the global mpl namespace */\nwindow.mpl = {};\n\n\nmpl.get_websocket_type = function() {\n    if (typeof(WebSocket) !== 'undefined') {\n        return WebSocket;\n    } else if (typeof(MozWebSocket) !== 'undefined') {\n        return MozWebSocket;\n    } else {\n        alert('Your browser does not have WebSocket support. ' +\n              'Please try Chrome, Safari or Firefox ≥ 6. ' +\n              'Firefox 4 and 5 are also supported but you ' +\n              'have to enable WebSockets in about:config.');\n    };\n}\n\nmpl.figure = function(figure_id, websocket, ondownload, parent_element) {\n    this.id = figure_id;\n\n    this.ws = websocket;\n\n    this.supports_binary = (this.ws.binaryType != undefined);\n\n    if (!this.supports_binary) {\n        var warnings = document.getElementById(\"mpl-warnings\");\n        if (warnings) {\n            warnings.style.display = 'block';\n            warnings.textContent = (\n                \"This browser does not support binary websocket messages. \" +\n                    \"Performance may be slow.\");\n        }\n    }\n\n    this.imageObj = new Image();\n\n    this.context = undefined;\n    this.message = undefined;\n    this.canvas = undefined;\n    this.rubberband_canvas = undefined;\n    this.rubberband_context = undefined;\n    this.format_dropdown = undefined;\n\n    this.image_mode = 'full';\n\n    this.root = $('<div/>');\n    this._root_extra_style(this.root)\n    this.root.attr('style', 'display: inline-block');\n\n    $(parent_element).append(this.root);\n\n    this._init_header(this);\n    this._init_canvas(this);\n    this._init_toolbar(this);\n\n    var fig = this;\n\n    this.waiting = false;\n\n    this.ws.onopen =  function () {\n            fig.send_message(\"supports_binary\", {value: fig.supports_binary});\n            fig.send_message(\"send_image_mode\", {});\n            if (mpl.ratio != 1) {\n                fig.send_message(\"set_dpi_ratio\", {'dpi_ratio': mpl.ratio});\n            }\n            fig.send_message(\"refresh\", {});\n        }\n\n    this.imageObj.onload = function() {\n            if (fig.image_mode == 'full') {\n                // Full images could contain transparency (where diff images\n                // almost always do), so we need to clear the canvas so that\n                // there is no ghosting.\n                fig.context.clearRect(0, 0, fig.canvas.width, fig.canvas.height);\n            }\n            fig.context.drawImage(fig.imageObj, 0, 0);\n        };\n\n    this.imageObj.onunload = function() {\n        fig.ws.close();\n    }\n\n    this.ws.onmessage = this._make_on_message_function(this);\n\n    this.ondownload = ondownload;\n}\n\nmpl.figure.prototype._init_header = function() {\n    var titlebar = $(\n        '<div class=\"ui-dialog-titlebar ui-widget-header ui-corner-all ' +\n        'ui-helper-clearfix\"/>');\n    var titletext = $(\n        '<div class=\"ui-dialog-title\" style=\"width: 100%; ' +\n        'text-align: center; padding: 3px;\"/>');\n    titlebar.append(titletext)\n    this.root.append(titlebar);\n    this.header = titletext[0];\n}\n\n\n\nmpl.figure.prototype._canvas_extra_style = function(canvas_div) {\n\n}\n\n\nmpl.figure.prototype._root_extra_style = function(canvas_div) {\n\n}\n\nmpl.figure.prototype._init_canvas = function() {\n    var fig = this;\n\n    var canvas_div = $('<div/>');\n\n    canvas_div.attr('style', 'position: relative; clear: both; outline: 0');\n\n    function canvas_keyboard_event(event) {\n        return fig.key_event(event, event['data']);\n    }\n\n    canvas_div.keydown('key_press', canvas_keyboard_event);\n    canvas_div.keyup('key_release', canvas_keyboard_event);\n    this.canvas_div = canvas_div\n    this._canvas_extra_style(canvas_div)\n    this.root.append(canvas_div);\n\n    var canvas = $('<canvas/>');\n    canvas.addClass('mpl-canvas');\n    canvas.attr('style', \"left: 0; top: 0; z-index: 0; outline: 0\")\n\n    this.canvas = canvas[0];\n    this.context = canvas[0].getContext(\"2d\");\n\n    var backingStore = this.context.backingStorePixelRatio ||\n\tthis.context.webkitBackingStorePixelRatio ||\n\tthis.context.mozBackingStorePixelRatio ||\n\tthis.context.msBackingStorePixelRatio ||\n\tthis.context.oBackingStorePixelRatio ||\n\tthis.context.backingStorePixelRatio || 1;\n\n    mpl.ratio = (window.devicePixelRatio || 1) / backingStore;\n\n    var rubberband = $('<canvas/>');\n    rubberband.attr('style', \"position: absolute; left: 0; top: 0; z-index: 1;\")\n\n    var pass_mouse_events = true;\n\n    canvas_div.resizable({\n        start: function(event, ui) {\n            pass_mouse_events = false;\n        },\n        resize: function(event, ui) {\n            fig.request_resize(ui.size.width, ui.size.height);\n        },\n        stop: function(event, ui) {\n            pass_mouse_events = true;\n            fig.request_resize(ui.size.width, ui.size.height);\n        },\n    });\n\n    function mouse_event_fn(event) {\n        if (pass_mouse_events)\n            return fig.mouse_event(event, event['data']);\n    }\n\n    rubberband.mousedown('button_press', mouse_event_fn);\n    rubberband.mouseup('button_release', mouse_event_fn);\n    // Throttle sequential mouse events to 1 every 20ms.\n    rubberband.mousemove('motion_notify', mouse_event_fn);\n\n    rubberband.mouseenter('figure_enter', mouse_event_fn);\n    rubberband.mouseleave('figure_leave', mouse_event_fn);\n\n    canvas_div.on(\"wheel\", function (event) {\n        event = event.originalEvent;\n        event['data'] = 'scroll'\n        if (event.deltaY < 0) {\n            event.step = 1;\n        } else {\n            event.step = -1;\n        }\n        mouse_event_fn(event);\n    });\n\n    canvas_div.append(canvas);\n    canvas_div.append(rubberband);\n\n    this.rubberband = rubberband;\n    this.rubberband_canvas = rubberband[0];\n    this.rubberband_context = rubberband[0].getContext(\"2d\");\n    this.rubberband_context.strokeStyle = \"#000000\";\n\n    this._resize_canvas = function(width, height) {\n        // Keep the size of the canvas, canvas container, and rubber band\n        // canvas in synch.\n        canvas_div.css('width', width)\n        canvas_div.css('height', height)\n\n        canvas.attr('width', width * mpl.ratio);\n        canvas.attr('height', height * mpl.ratio);\n        canvas.attr('style', 'width: ' + width + 'px; height: ' + height + 'px;');\n\n        rubberband.attr('width', width);\n        rubberband.attr('height', height);\n    }\n\n    // Set the figure to an initial 600x600px, this will subsequently be updated\n    // upon first draw.\n    this._resize_canvas(600, 600);\n\n    // Disable right mouse context menu.\n    $(this.rubberband_canvas).bind(\"contextmenu\",function(e){\n        return false;\n    });\n\n    function set_focus () {\n        canvas.focus();\n        canvas_div.focus();\n    }\n\n    window.setTimeout(set_focus, 100);\n}\n\nmpl.figure.prototype._init_toolbar = function() {\n    var fig = this;\n\n    var nav_element = $('<div/>');\n    nav_element.attr('style', 'width: 100%');\n    this.root.append(nav_element);\n\n    // Define a callback function for later on.\n    function toolbar_event(event) {\n        return fig.toolbar_button_onclick(event['data']);\n    }\n    function toolbar_mouse_event(event) {\n        return fig.toolbar_button_onmouseover(event['data']);\n    }\n\n    for(var toolbar_ind in mpl.toolbar_items) {\n        var name = mpl.toolbar_items[toolbar_ind][0];\n        var tooltip = mpl.toolbar_items[toolbar_ind][1];\n        var image = mpl.toolbar_items[toolbar_ind][2];\n        var method_name = mpl.toolbar_items[toolbar_ind][3];\n\n        if (!name) {\n            // put a spacer in here.\n            continue;\n        }\n        var button = $('<button/>');\n        button.addClass('ui-button ui-widget ui-state-default ui-corner-all ' +\n                        'ui-button-icon-only');\n        button.attr('role', 'button');\n        button.attr('aria-disabled', 'false');\n        button.click(method_name, toolbar_event);\n        button.mouseover(tooltip, toolbar_mouse_event);\n\n        var icon_img = $('<span/>');\n        icon_img.addClass('ui-button-icon-primary ui-icon');\n        icon_img.addClass(image);\n        icon_img.addClass('ui-corner-all');\n\n        var tooltip_span = $('<span/>');\n        tooltip_span.addClass('ui-button-text');\n        tooltip_span.html(tooltip);\n\n        button.append(icon_img);\n        button.append(tooltip_span);\n\n        nav_element.append(button);\n    }\n\n    var fmt_picker_span = $('<span/>');\n\n    var fmt_picker = $('<select/>');\n    fmt_picker.addClass('mpl-toolbar-option ui-widget ui-widget-content');\n    fmt_picker_span.append(fmt_picker);\n    nav_element.append(fmt_picker_span);\n    this.format_dropdown = fmt_picker[0];\n\n    for (var ind in mpl.extensions) {\n        var fmt = mpl.extensions[ind];\n        var option = $(\n            '<option/>', {selected: fmt === mpl.default_extension}).html(fmt);\n        fmt_picker.append(option);\n    }\n\n    // Add hover states to the ui-buttons\n    $( \".ui-button\" ).hover(\n        function() { $(this).addClass(\"ui-state-hover\");},\n        function() { $(this).removeClass(\"ui-state-hover\");}\n    );\n\n    var status_bar = $('<span class=\"mpl-message\"/>');\n    nav_element.append(status_bar);\n    this.message = status_bar[0];\n}\n\nmpl.figure.prototype.request_resize = function(x_pixels, y_pixels) {\n    // Request matplotlib to resize the figure. Matplotlib will then trigger a resize in the client,\n    // which will in turn request a refresh of the image.\n    this.send_message('resize', {'width': x_pixels, 'height': y_pixels});\n}\n\nmpl.figure.prototype.send_message = function(type, properties) {\n    properties['type'] = type;\n    properties['figure_id'] = this.id;\n    this.ws.send(JSON.stringify(properties));\n}\n\nmpl.figure.prototype.send_draw_message = function() {\n    if (!this.waiting) {\n        this.waiting = true;\n        this.ws.send(JSON.stringify({type: \"draw\", figure_id: this.id}));\n    }\n}\n\n\nmpl.figure.prototype.handle_save = function(fig, msg) {\n    var format_dropdown = fig.format_dropdown;\n    var format = format_dropdown.options[format_dropdown.selectedIndex].value;\n    fig.ondownload(fig, format);\n}\n\n\nmpl.figure.prototype.handle_resize = function(fig, msg) {\n    var size = msg['size'];\n    if (size[0] != fig.canvas.width || size[1] != fig.canvas.height) {\n        fig._resize_canvas(size[0], size[1]);\n        fig.send_message(\"refresh\", {});\n    };\n}\n\nmpl.figure.prototype.handle_rubberband = function(fig, msg) {\n    var x0 = msg['x0'] / mpl.ratio;\n    var y0 = (fig.canvas.height - msg['y0']) / mpl.ratio;\n    var x1 = msg['x1'] / mpl.ratio;\n    var y1 = (fig.canvas.height - msg['y1']) / mpl.ratio;\n    x0 = Math.floor(x0) + 0.5;\n    y0 = Math.floor(y0) + 0.5;\n    x1 = Math.floor(x1) + 0.5;\n    y1 = Math.floor(y1) + 0.5;\n    var min_x = Math.min(x0, x1);\n    var min_y = Math.min(y0, y1);\n    var width = Math.abs(x1 - x0);\n    var height = Math.abs(y1 - y0);\n\n    fig.rubberband_context.clearRect(\n        0, 0, fig.canvas.width, fig.canvas.height);\n\n    fig.rubberband_context.strokeRect(min_x, min_y, width, height);\n}\n\nmpl.figure.prototype.handle_figure_label = function(fig, msg) {\n    // Updates the figure title.\n    fig.header.textContent = msg['label'];\n}\n\nmpl.figure.prototype.handle_cursor = function(fig, msg) {\n    var cursor = msg['cursor'];\n    switch(cursor)\n    {\n    case 0:\n        cursor = 'pointer';\n        break;\n    case 1:\n        cursor = 'default';\n        break;\n    case 2:\n        cursor = 'crosshair';\n        break;\n    case 3:\n        cursor = 'move';\n        break;\n    }\n    fig.rubberband_canvas.style.cursor = cursor;\n}\n\nmpl.figure.prototype.handle_message = function(fig, msg) {\n    fig.message.textContent = msg['message'];\n}\n\nmpl.figure.prototype.handle_draw = function(fig, msg) {\n    // Request the server to send over a new figure.\n    fig.send_draw_message();\n}\n\nmpl.figure.prototype.handle_image_mode = function(fig, msg) {\n    fig.image_mode = msg['mode'];\n}\n\nmpl.figure.prototype.updated_canvas_event = function() {\n    // Called whenever the canvas gets updated.\n    this.send_message(\"ack\", {});\n}\n\n// A function to construct a web socket function for onmessage handling.\n// Called in the figure constructor.\nmpl.figure.prototype._make_on_message_function = function(fig) {\n    return function socket_on_message(evt) {\n        if (evt.data instanceof Blob) {\n            /* FIXME: We get \"Resource interpreted as Image but\n             * transferred with MIME type text/plain:\" errors on\n             * Chrome.  But how to set the MIME type?  It doesn't seem\n             * to be part of the websocket stream */\n            evt.data.type = \"image/png\";\n\n            /* Free the memory for the previous frames */\n            if (fig.imageObj.src) {\n                (window.URL || window.webkitURL).revokeObjectURL(\n                    fig.imageObj.src);\n            }\n\n            fig.imageObj.src = (window.URL || window.webkitURL).createObjectURL(\n                evt.data);\n            fig.updated_canvas_event();\n            fig.waiting = false;\n            return;\n        }\n        else if (typeof evt.data === 'string' && evt.data.slice(0, 21) == \"data:image/png;base64\") {\n            fig.imageObj.src = evt.data;\n            fig.updated_canvas_event();\n            fig.waiting = false;\n            return;\n        }\n\n        var msg = JSON.parse(evt.data);\n        var msg_type = msg['type'];\n\n        // Call the  \"handle_{type}\" callback, which takes\n        // the figure and JSON message as its only arguments.\n        try {\n            var callback = fig[\"handle_\" + msg_type];\n        } catch (e) {\n            console.log(\"No handler for the '\" + msg_type + \"' message type: \", msg);\n            return;\n        }\n\n        if (callback) {\n            try {\n                // console.log(\"Handling '\" + msg_type + \"' message: \", msg);\n                callback(fig, msg);\n            } catch (e) {\n                console.log(\"Exception inside the 'handler_\" + msg_type + \"' callback:\", e, e.stack, msg);\n            }\n        }\n    };\n}\n\n// from http://stackoverflow.com/questions/1114465/getting-mouse-location-in-canvas\nmpl.findpos = function(e) {\n    //this section is from http://www.quirksmode.org/js/events_properties.html\n    var targ;\n    if (!e)\n        e = window.event;\n    if (e.target)\n        targ = e.target;\n    else if (e.srcElement)\n        targ = e.srcElement;\n    if (targ.nodeType == 3) // defeat Safari bug\n        targ = targ.parentNode;\n\n    // jQuery normalizes the pageX and pageY\n    // pageX,Y are the mouse positions relative to the document\n    // offset() returns the position of the element relative to the document\n    var x = e.pageX - $(targ).offset().left;\n    var y = e.pageY - $(targ).offset().top;\n\n    return {\"x\": x, \"y\": y};\n};\n\n/*\n * return a copy of an object with only non-object keys\n * we need this to avoid circular references\n * http://stackoverflow.com/a/24161582/3208463\n */\nfunction simpleKeys (original) {\n  return Object.keys(original).reduce(function (obj, key) {\n    if (typeof original[key] !== 'object')\n        obj[key] = original[key]\n    return obj;\n  }, {});\n}\n\nmpl.figure.prototype.mouse_event = function(event, name) {\n    var canvas_pos = mpl.findpos(event)\n\n    if (name === 'button_press')\n    {\n        this.canvas.focus();\n        this.canvas_div.focus();\n    }\n\n    var x = canvas_pos.x * mpl.ratio;\n    var y = canvas_pos.y * mpl.ratio;\n\n    this.send_message(name, {x: x, y: y, button: event.button,\n                             step: event.step,\n                             guiEvent: simpleKeys(event)});\n\n    /* This prevents the web browser from automatically changing to\n     * the text insertion cursor when the button is pressed.  We want\n     * to control all of the cursor setting manually through the\n     * 'cursor' event from matplotlib */\n    event.preventDefault();\n    return false;\n}\n\nmpl.figure.prototype._key_event_extra = function(event, name) {\n    // Handle any extra behaviour associated with a key event\n}\n\nmpl.figure.prototype.key_event = function(event, name) {\n\n    // Prevent repeat events\n    if (name == 'key_press')\n    {\n        if (event.which === this._key)\n            return;\n        else\n            this._key = event.which;\n    }\n    if (name == 'key_release')\n        this._key = null;\n\n    var value = '';\n    if (event.ctrlKey && event.which != 17)\n        value += \"ctrl+\";\n    if (event.altKey && event.which != 18)\n        value += \"alt+\";\n    if (event.shiftKey && event.which != 16)\n        value += \"shift+\";\n\n    value += 'k';\n    value += event.which.toString();\n\n    this._key_event_extra(event, name);\n\n    this.send_message(name, {key: value,\n                             guiEvent: simpleKeys(event)});\n    return false;\n}\n\nmpl.figure.prototype.toolbar_button_onclick = function(name) {\n    if (name == 'download') {\n        this.handle_save(this, null);\n    } else {\n        this.send_message(\"toolbar_button\", {name: name});\n    }\n};\n\nmpl.figure.prototype.toolbar_button_onmouseover = function(tooltip) {\n    this.message.textContent = tooltip;\n};\nmpl.toolbar_items = [[\"Home\", \"Reset original view\", \"fa fa-home icon-home\", \"home\"], [\"Back\", \"Back to previous view\", \"fa fa-arrow-left icon-arrow-left\", \"back\"], [\"Forward\", \"Forward to next view\", \"fa fa-arrow-right icon-arrow-right\", \"forward\"], [\"\", \"\", \"\", \"\"], [\"Pan\", \"Pan axes with left mouse, zoom with right\", \"fa fa-arrows icon-move\", \"pan\"], [\"Zoom\", \"Zoom to rectangle\", \"fa fa-square-o icon-check-empty\", \"zoom\"], [\"\", \"\", \"\", \"\"], [\"Download\", \"Download plot\", \"fa fa-floppy-o icon-save\", \"download\"]];\n\nmpl.extensions = [\"eps\", \"jpeg\", \"pdf\", \"png\", \"ps\", \"raw\", \"svg\", \"tif\"];\n\nmpl.default_extension = \"png\";var comm_websocket_adapter = function(comm) {\n    // Create a \"websocket\"-like object which calls the given IPython comm\n    // object with the appropriate methods. Currently this is a non binary\n    // socket, so there is still some room for performance tuning.\n    var ws = {};\n\n    ws.close = function() {\n        comm.close()\n    };\n    ws.send = function(m) {\n        //console.log('sending', m);\n        comm.send(m);\n    };\n    // Register the callback with on_msg.\n    comm.on_msg(function(msg) {\n        //console.log('receiving', msg['content']['data'], msg);\n        // Pass the mpl event to the overridden (by mpl) onmessage function.\n        ws.onmessage(msg['content']['data'])\n    });\n    return ws;\n}\n\nmpl.mpl_figure_comm = function(comm, msg) {\n    // This is the function which gets called when the mpl process\n    // starts-up an IPython Comm through the \"matplotlib\" channel.\n\n    var id = msg.content.data.id;\n    // Get hold of the div created by the display call when the Comm\n    // socket was opened in Python.\n    var element = $(\"#\" + id);\n    var ws_proxy = comm_websocket_adapter(comm)\n\n    function ondownload(figure, format) {\n        window.open(figure.imageObj.src);\n    }\n\n    var fig = new mpl.figure(id, ws_proxy,\n                           ondownload,\n                           element.get(0));\n\n    // Call onopen now - mpl needs it, as it is assuming we've passed it a real\n    // web socket which is closed, not our websocket->open comm proxy.\n    ws_proxy.onopen();\n\n    fig.parent_element = element.get(0);\n    fig.cell_info = mpl.find_output_cell(\"<div id='\" + id + \"'></div>\");\n    if (!fig.cell_info) {\n        console.error(\"Failed to find cell for figure\", id, fig);\n        return;\n    }\n\n    var output_index = fig.cell_info[2]\n    var cell = fig.cell_info[0];\n\n};\n\nmpl.figure.prototype.handle_close = function(fig, msg) {\n    var width = fig.canvas.width/mpl.ratio\n    fig.root.unbind('remove')\n\n    // Update the output cell to use the data from the current canvas.\n    fig.push_to_output();\n    var dataURL = fig.canvas.toDataURL();\n    // Re-enable the keyboard manager in IPython - without this line, in FF,\n    // the notebook keyboard shortcuts fail.\n    IPython.keyboard_manager.enable()\n    $(fig.parent_element).html('<img src=\"' + dataURL + '\" width=\"' + width + '\">');\n    fig.close_ws(fig, msg);\n}\n\nmpl.figure.prototype.close_ws = function(fig, msg){\n    fig.send_message('closing', msg);\n    // fig.ws.close()\n}\n\nmpl.figure.prototype.push_to_output = function(remove_interactive) {\n    // Turn the data on the canvas into data in the output cell.\n    var width = this.canvas.width/mpl.ratio\n    var dataURL = this.canvas.toDataURL();\n    this.cell_info[1]['text/html'] = '<img src=\"' + dataURL + '\" width=\"' + width + '\">';\n}\n\nmpl.figure.prototype.updated_canvas_event = function() {\n    // Tell IPython that the notebook contents must change.\n    IPython.notebook.set_dirty(true);\n    this.send_message(\"ack\", {});\n    var fig = this;\n    // Wait a second, then push the new image to the DOM so\n    // that it is saved nicely (might be nice to debounce this).\n    setTimeout(function () { fig.push_to_output() }, 1000);\n}\n\nmpl.figure.prototype._init_toolbar = function() {\n    var fig = this;\n\n    var nav_element = $('<div/>');\n    nav_element.attr('style', 'width: 100%');\n    this.root.append(nav_element);\n\n    // Define a callback function for later on.\n    function toolbar_event(event) {\n        return fig.toolbar_button_onclick(event['data']);\n    }\n    function toolbar_mouse_event(event) {\n        return fig.toolbar_button_onmouseover(event['data']);\n    }\n\n    for(var toolbar_ind in mpl.toolbar_items){\n        var name = mpl.toolbar_items[toolbar_ind][0];\n        var tooltip = mpl.toolbar_items[toolbar_ind][1];\n        var image = mpl.toolbar_items[toolbar_ind][2];\n        var method_name = mpl.toolbar_items[toolbar_ind][3];\n\n        if (!name) { continue; };\n\n        var button = $('<button class=\"btn btn-default\" href=\"#\" title=\"' + name + '\"><i class=\"fa ' + image + ' fa-lg\"></i></button>');\n        button.click(method_name, toolbar_event);\n        button.mouseover(tooltip, toolbar_mouse_event);\n        nav_element.append(button);\n    }\n\n    // Add the status bar.\n    var status_bar = $('<span class=\"mpl-message\" style=\"text-align:right; float: right;\"/>');\n    nav_element.append(status_bar);\n    this.message = status_bar[0];\n\n    // Add the close button to the window.\n    var buttongrp = $('<div class=\"btn-group inline pull-right\"></div>');\n    var button = $('<button class=\"btn btn-mini btn-primary\" href=\"#\" title=\"Stop Interaction\"><i class=\"fa fa-power-off icon-remove icon-large\"></i></button>');\n    button.click(function (evt) { fig.handle_close(fig, {}); } );\n    button.mouseover('Stop Interaction', toolbar_mouse_event);\n    buttongrp.append(button);\n    var titlebar = this.root.find($('.ui-dialog-titlebar'));\n    titlebar.prepend(buttongrp);\n}\n\nmpl.figure.prototype._root_extra_style = function(el){\n    var fig = this\n    el.on(\"remove\", function(){\n\tfig.close_ws(fig, {});\n    });\n}\n\nmpl.figure.prototype._canvas_extra_style = function(el){\n    // this is important to make the div 'focusable\n    el.attr('tabindex', 0)\n    // reach out to IPython and tell the keyboard manager to turn it's self\n    // off when our div gets focus\n\n    // location in version 3\n    if (IPython.notebook.keyboard_manager) {\n        IPython.notebook.keyboard_manager.register_events(el);\n    }\n    else {\n        // location in version 2\n        IPython.keyboard_manager.register_events(el);\n    }\n\n}\n\nmpl.figure.prototype._key_event_extra = function(event, name) {\n    var manager = IPython.notebook.keyboard_manager;\n    if (!manager)\n        manager = IPython.keyboard_manager;\n\n    // Check for shift+enter\n    if (event.shiftKey && event.which == 13) {\n        this.canvas_div.blur();\n        event.shiftKey = false;\n        // Send a \"J\" for go to next cell\n        event.which = 74;\n        event.keyCode = 74;\n        manager.command_mode();\n        manager.handle_keydown(event);\n    }\n}\n\nmpl.figure.prototype.handle_save = function(fig, msg) {\n    fig.ondownload(fig, null);\n}\n\n\nmpl.find_output_cell = function(html_output) {\n    // Return the cell and output element which can be found *uniquely* in the notebook.\n    // Note - this is a bit hacky, but it is done because the \"notebook_saving.Notebook\"\n    // IPython event is triggered only after the cells have been serialised, which for\n    // our purposes (turning an active figure into a static one), is too late.\n    var cells = IPython.notebook.get_cells();\n    var ncells = cells.length;\n    for (var i=0; i<ncells; i++) {\n        var cell = cells[i];\n        if (cell.cell_type === 'code'){\n            for (var j=0; j<cell.output_area.outputs.length; j++) {\n                var data = cell.output_area.outputs[j];\n                if (data.data) {\n                    // IPython >= 3 moved mimebundle to data attribute of output\n                    data = data.data;\n                }\n                if (data['text/html'] == html_output) {\n                    return [cell, data, j];\n                }\n            }\n        }\n    }\n}\n\n// Register the function which deals with the matplotlib target/channel.\n// The kernel may be null if the page has been refreshed.\nif (IPython.notebook.kernel != null) {\n    IPython.notebook.kernel.comm_manager.register_target('matplotlib', mpl.mpl_figure_comm);\n}\n",
          "text/plain": "<IPython.core.display.Javascript object>"
         },
         "metadata": {},
         "output_type": "display_data"
        },
        {
         "data": {
          "text/html": "<div id='4ad2950b-ba24-4dd4-9c3b-88ec2b1bb358'></div>",
          "text/plain": "<IPython.core.display.HTML object>"
         },
         "metadata": {},
         "output_type": "display_data"
        }
       ]
      }
     },
     "1937e20552fd4255aa329411b05004c8": {
      "model_module": "@jupyter-widgets/base",
      "model_module_version": "1.2.0",
      "model_name": "LayoutModel",
      "state": {
       "width": "125px"
      }
     },
     "19999aa3d79246149788177406635e89": {
      "model_module": "@jupyter-widgets/controls",
      "model_module_version": "1.5.0",
      "model_name": "DescriptionStyleModel",
      "state": {
       "description_width": "50px"
      }
     },
     "19eff161ef014f98ab0b29a2dd23311d": {
      "model_module": "@jupyter-widgets/base",
      "model_module_version": "1.2.0",
      "model_name": "LayoutModel",
      "state": {
       "height": "170px"
      }
     },
     "1ae68852550d44daaf2f90dc29774422": {
      "model_module": "@jupyter-widgets/base",
      "model_module_version": "1.2.0",
      "model_name": "LayoutModel",
      "state": {
       "width": "125px"
      }
     },
     "1d97b849e2e648319c083f532d74ad62": {
      "model_module": "@jupyter-widgets/controls",
      "model_module_version": "1.5.0",
      "model_name": "DescriptionStyleModel",
      "state": {
       "description_width": "50px"
      }
     },
     "1e1ca0ae6b7747d39451c477681f67be": {
      "model_module": "@jupyter-widgets/output",
      "model_module_version": "1.0.0",
      "model_name": "OutputModel",
      "state": {
       "layout": "IPY_MODEL_a3bbb405b4e84b7b861adbe633fd70d7"
      }
     },
     "21ddd81c56bc4d528b73475d904d1b5c": {
      "model_module": "@jupyter-widgets/output",
      "model_module_version": "1.0.0",
      "model_name": "OutputModel",
      "state": {
       "layout": "IPY_MODEL_ba3bc011e7cf4fc3ac61446a82513871"
      }
     },
     "22b52373826541d6810c9dfc7e4f9def": {
      "model_module": "@jupyter-widgets/base",
      "model_module_version": "1.2.0",
      "model_name": "LayoutModel",
      "state": {}
     },
     "22d72438c6ce4ebd9c8b5b02b0a78361": {
      "model_module": "@jupyter-widgets/controls",
      "model_module_version": "1.5.0",
      "model_name": "VBoxModel",
      "state": {
       "children": [
        "IPY_MODEL_914da16d78c94535b831eb372164e8c6",
        "IPY_MODEL_fb812a9d0ff4461d86f37d445d98eab2"
       ],
       "layout": "IPY_MODEL_1378068c56144161ae8cdfb767b3d509"
      }
     },
     "25eabca3ff6248968161c11dc6d442dc": {
      "model_module": "@jupyter-widgets/base",
      "model_module_version": "1.2.0",
      "model_name": "LayoutModel",
      "state": {
       "align_items": "center",
       "display": "flex",
       "flex_flow": "column",
       "width": "50%"
      }
     },
     "26c40b7ccb3a4f9f949f641cb3d9bffe": {
      "model_module": "@jupyter-widgets/base",
      "model_module_version": "1.2.0",
      "model_name": "LayoutModel",
      "state": {
       "align_items": "center",
       "display": "flex",
       "flex_flow": "column",
       "width": "100%"
      }
     },
     "26d03eb58004452ea7d6775e2c9300ca": {
      "model_module": "@jupyter-widgets/base",
      "model_module_version": "1.2.0",
      "model_name": "LayoutModel",
      "state": {
       "width": "125px"
      }
     },
     "2766c0e901794e7b91c881080593445e": {
      "model_module": "@jupyter-widgets/controls",
      "model_module_version": "1.5.0",
      "model_name": "ButtonStyleModel",
      "state": {
       "button_color": "coral"
      }
     },
     "294aea8c0e1e486383b519b1b75d94fa": {
      "model_module": "@jupyter-widgets/output",
      "model_module_version": "1.0.0",
      "model_name": "OutputModel",
      "state": {
       "layout": "IPY_MODEL_7325cbbbacf74524bb6dbf41422370e1",
       "outputs": [
        {
         "data": {
          "application/javascript": "/* Put everything inside the global mpl namespace */\nwindow.mpl = {};\n\n\nmpl.get_websocket_type = function() {\n    if (typeof(WebSocket) !== 'undefined') {\n        return WebSocket;\n    } else if (typeof(MozWebSocket) !== 'undefined') {\n        return MozWebSocket;\n    } else {\n        alert('Your browser does not have WebSocket support. ' +\n              'Please try Chrome, Safari or Firefox ≥ 6. ' +\n              'Firefox 4 and 5 are also supported but you ' +\n              'have to enable WebSockets in about:config.');\n    };\n}\n\nmpl.figure = function(figure_id, websocket, ondownload, parent_element) {\n    this.id = figure_id;\n\n    this.ws = websocket;\n\n    this.supports_binary = (this.ws.binaryType != undefined);\n\n    if (!this.supports_binary) {\n        var warnings = document.getElementById(\"mpl-warnings\");\n        if (warnings) {\n            warnings.style.display = 'block';\n            warnings.textContent = (\n                \"This browser does not support binary websocket messages. \" +\n                    \"Performance may be slow.\");\n        }\n    }\n\n    this.imageObj = new Image();\n\n    this.context = undefined;\n    this.message = undefined;\n    this.canvas = undefined;\n    this.rubberband_canvas = undefined;\n    this.rubberband_context = undefined;\n    this.format_dropdown = undefined;\n\n    this.image_mode = 'full';\n\n    this.root = $('<div/>');\n    this._root_extra_style(this.root)\n    this.root.attr('style', 'display: inline-block');\n\n    $(parent_element).append(this.root);\n\n    this._init_header(this);\n    this._init_canvas(this);\n    this._init_toolbar(this);\n\n    var fig = this;\n\n    this.waiting = false;\n\n    this.ws.onopen =  function () {\n            fig.send_message(\"supports_binary\", {value: fig.supports_binary});\n            fig.send_message(\"send_image_mode\", {});\n            if (mpl.ratio != 1) {\n                fig.send_message(\"set_dpi_ratio\", {'dpi_ratio': mpl.ratio});\n            }\n            fig.send_message(\"refresh\", {});\n        }\n\n    this.imageObj.onload = function() {\n            if (fig.image_mode == 'full') {\n                // Full images could contain transparency (where diff images\n                // almost always do), so we need to clear the canvas so that\n                // there is no ghosting.\n                fig.context.clearRect(0, 0, fig.canvas.width, fig.canvas.height);\n            }\n            fig.context.drawImage(fig.imageObj, 0, 0);\n        };\n\n    this.imageObj.onunload = function() {\n        fig.ws.close();\n    }\n\n    this.ws.onmessage = this._make_on_message_function(this);\n\n    this.ondownload = ondownload;\n}\n\nmpl.figure.prototype._init_header = function() {\n    var titlebar = $(\n        '<div class=\"ui-dialog-titlebar ui-widget-header ui-corner-all ' +\n        'ui-helper-clearfix\"/>');\n    var titletext = $(\n        '<div class=\"ui-dialog-title\" style=\"width: 100%; ' +\n        'text-align: center; padding: 3px;\"/>');\n    titlebar.append(titletext)\n    this.root.append(titlebar);\n    this.header = titletext[0];\n}\n\n\n\nmpl.figure.prototype._canvas_extra_style = function(canvas_div) {\n\n}\n\n\nmpl.figure.prototype._root_extra_style = function(canvas_div) {\n\n}\n\nmpl.figure.prototype._init_canvas = function() {\n    var fig = this;\n\n    var canvas_div = $('<div/>');\n\n    canvas_div.attr('style', 'position: relative; clear: both; outline: 0');\n\n    function canvas_keyboard_event(event) {\n        return fig.key_event(event, event['data']);\n    }\n\n    canvas_div.keydown('key_press', canvas_keyboard_event);\n    canvas_div.keyup('key_release', canvas_keyboard_event);\n    this.canvas_div = canvas_div\n    this._canvas_extra_style(canvas_div)\n    this.root.append(canvas_div);\n\n    var canvas = $('<canvas/>');\n    canvas.addClass('mpl-canvas');\n    canvas.attr('style', \"left: 0; top: 0; z-index: 0; outline: 0\")\n\n    this.canvas = canvas[0];\n    this.context = canvas[0].getContext(\"2d\");\n\n    var backingStore = this.context.backingStorePixelRatio ||\n\tthis.context.webkitBackingStorePixelRatio ||\n\tthis.context.mozBackingStorePixelRatio ||\n\tthis.context.msBackingStorePixelRatio ||\n\tthis.context.oBackingStorePixelRatio ||\n\tthis.context.backingStorePixelRatio || 1;\n\n    mpl.ratio = (window.devicePixelRatio || 1) / backingStore;\n\n    var rubberband = $('<canvas/>');\n    rubberband.attr('style', \"position: absolute; left: 0; top: 0; z-index: 1;\")\n\n    var pass_mouse_events = true;\n\n    canvas_div.resizable({\n        start: function(event, ui) {\n            pass_mouse_events = false;\n        },\n        resize: function(event, ui) {\n            fig.request_resize(ui.size.width, ui.size.height);\n        },\n        stop: function(event, ui) {\n            pass_mouse_events = true;\n            fig.request_resize(ui.size.width, ui.size.height);\n        },\n    });\n\n    function mouse_event_fn(event) {\n        if (pass_mouse_events)\n            return fig.mouse_event(event, event['data']);\n    }\n\n    rubberband.mousedown('button_press', mouse_event_fn);\n    rubberband.mouseup('button_release', mouse_event_fn);\n    // Throttle sequential mouse events to 1 every 20ms.\n    rubberband.mousemove('motion_notify', mouse_event_fn);\n\n    rubberband.mouseenter('figure_enter', mouse_event_fn);\n    rubberband.mouseleave('figure_leave', mouse_event_fn);\n\n    canvas_div.on(\"wheel\", function (event) {\n        event = event.originalEvent;\n        event['data'] = 'scroll'\n        if (event.deltaY < 0) {\n            event.step = 1;\n        } else {\n            event.step = -1;\n        }\n        mouse_event_fn(event);\n    });\n\n    canvas_div.append(canvas);\n    canvas_div.append(rubberband);\n\n    this.rubberband = rubberband;\n    this.rubberband_canvas = rubberband[0];\n    this.rubberband_context = rubberband[0].getContext(\"2d\");\n    this.rubberband_context.strokeStyle = \"#000000\";\n\n    this._resize_canvas = function(width, height) {\n        // Keep the size of the canvas, canvas container, and rubber band\n        // canvas in synch.\n        canvas_div.css('width', width)\n        canvas_div.css('height', height)\n\n        canvas.attr('width', width * mpl.ratio);\n        canvas.attr('height', height * mpl.ratio);\n        canvas.attr('style', 'width: ' + width + 'px; height: ' + height + 'px;');\n\n        rubberband.attr('width', width);\n        rubberband.attr('height', height);\n    }\n\n    // Set the figure to an initial 600x600px, this will subsequently be updated\n    // upon first draw.\n    this._resize_canvas(600, 600);\n\n    // Disable right mouse context menu.\n    $(this.rubberband_canvas).bind(\"contextmenu\",function(e){\n        return false;\n    });\n\n    function set_focus () {\n        canvas.focus();\n        canvas_div.focus();\n    }\n\n    window.setTimeout(set_focus, 100);\n}\n\nmpl.figure.prototype._init_toolbar = function() {\n    var fig = this;\n\n    var nav_element = $('<div/>');\n    nav_element.attr('style', 'width: 100%');\n    this.root.append(nav_element);\n\n    // Define a callback function for later on.\n    function toolbar_event(event) {\n        return fig.toolbar_button_onclick(event['data']);\n    }\n    function toolbar_mouse_event(event) {\n        return fig.toolbar_button_onmouseover(event['data']);\n    }\n\n    for(var toolbar_ind in mpl.toolbar_items) {\n        var name = mpl.toolbar_items[toolbar_ind][0];\n        var tooltip = mpl.toolbar_items[toolbar_ind][1];\n        var image = mpl.toolbar_items[toolbar_ind][2];\n        var method_name = mpl.toolbar_items[toolbar_ind][3];\n\n        if (!name) {\n            // put a spacer in here.\n            continue;\n        }\n        var button = $('<button/>');\n        button.addClass('ui-button ui-widget ui-state-default ui-corner-all ' +\n                        'ui-button-icon-only');\n        button.attr('role', 'button');\n        button.attr('aria-disabled', 'false');\n        button.click(method_name, toolbar_event);\n        button.mouseover(tooltip, toolbar_mouse_event);\n\n        var icon_img = $('<span/>');\n        icon_img.addClass('ui-button-icon-primary ui-icon');\n        icon_img.addClass(image);\n        icon_img.addClass('ui-corner-all');\n\n        var tooltip_span = $('<span/>');\n        tooltip_span.addClass('ui-button-text');\n        tooltip_span.html(tooltip);\n\n        button.append(icon_img);\n        button.append(tooltip_span);\n\n        nav_element.append(button);\n    }\n\n    var fmt_picker_span = $('<span/>');\n\n    var fmt_picker = $('<select/>');\n    fmt_picker.addClass('mpl-toolbar-option ui-widget ui-widget-content');\n    fmt_picker_span.append(fmt_picker);\n    nav_element.append(fmt_picker_span);\n    this.format_dropdown = fmt_picker[0];\n\n    for (var ind in mpl.extensions) {\n        var fmt = mpl.extensions[ind];\n        var option = $(\n            '<option/>', {selected: fmt === mpl.default_extension}).html(fmt);\n        fmt_picker.append(option);\n    }\n\n    // Add hover states to the ui-buttons\n    $( \".ui-button\" ).hover(\n        function() { $(this).addClass(\"ui-state-hover\");},\n        function() { $(this).removeClass(\"ui-state-hover\");}\n    );\n\n    var status_bar = $('<span class=\"mpl-message\"/>');\n    nav_element.append(status_bar);\n    this.message = status_bar[0];\n}\n\nmpl.figure.prototype.request_resize = function(x_pixels, y_pixels) {\n    // Request matplotlib to resize the figure. Matplotlib will then trigger a resize in the client,\n    // which will in turn request a refresh of the image.\n    this.send_message('resize', {'width': x_pixels, 'height': y_pixels});\n}\n\nmpl.figure.prototype.send_message = function(type, properties) {\n    properties['type'] = type;\n    properties['figure_id'] = this.id;\n    this.ws.send(JSON.stringify(properties));\n}\n\nmpl.figure.prototype.send_draw_message = function() {\n    if (!this.waiting) {\n        this.waiting = true;\n        this.ws.send(JSON.stringify({type: \"draw\", figure_id: this.id}));\n    }\n}\n\n\nmpl.figure.prototype.handle_save = function(fig, msg) {\n    var format_dropdown = fig.format_dropdown;\n    var format = format_dropdown.options[format_dropdown.selectedIndex].value;\n    fig.ondownload(fig, format);\n}\n\n\nmpl.figure.prototype.handle_resize = function(fig, msg) {\n    var size = msg['size'];\n    if (size[0] != fig.canvas.width || size[1] != fig.canvas.height) {\n        fig._resize_canvas(size[0], size[1]);\n        fig.send_message(\"refresh\", {});\n    };\n}\n\nmpl.figure.prototype.handle_rubberband = function(fig, msg) {\n    var x0 = msg['x0'] / mpl.ratio;\n    var y0 = (fig.canvas.height - msg['y0']) / mpl.ratio;\n    var x1 = msg['x1'] / mpl.ratio;\n    var y1 = (fig.canvas.height - msg['y1']) / mpl.ratio;\n    x0 = Math.floor(x0) + 0.5;\n    y0 = Math.floor(y0) + 0.5;\n    x1 = Math.floor(x1) + 0.5;\n    y1 = Math.floor(y1) + 0.5;\n    var min_x = Math.min(x0, x1);\n    var min_y = Math.min(y0, y1);\n    var width = Math.abs(x1 - x0);\n    var height = Math.abs(y1 - y0);\n\n    fig.rubberband_context.clearRect(\n        0, 0, fig.canvas.width, fig.canvas.height);\n\n    fig.rubberband_context.strokeRect(min_x, min_y, width, height);\n}\n\nmpl.figure.prototype.handle_figure_label = function(fig, msg) {\n    // Updates the figure title.\n    fig.header.textContent = msg['label'];\n}\n\nmpl.figure.prototype.handle_cursor = function(fig, msg) {\n    var cursor = msg['cursor'];\n    switch(cursor)\n    {\n    case 0:\n        cursor = 'pointer';\n        break;\n    case 1:\n        cursor = 'default';\n        break;\n    case 2:\n        cursor = 'crosshair';\n        break;\n    case 3:\n        cursor = 'move';\n        break;\n    }\n    fig.rubberband_canvas.style.cursor = cursor;\n}\n\nmpl.figure.prototype.handle_message = function(fig, msg) {\n    fig.message.textContent = msg['message'];\n}\n\nmpl.figure.prototype.handle_draw = function(fig, msg) {\n    // Request the server to send over a new figure.\n    fig.send_draw_message();\n}\n\nmpl.figure.prototype.handle_image_mode = function(fig, msg) {\n    fig.image_mode = msg['mode'];\n}\n\nmpl.figure.prototype.updated_canvas_event = function() {\n    // Called whenever the canvas gets updated.\n    this.send_message(\"ack\", {});\n}\n\n// A function to construct a web socket function for onmessage handling.\n// Called in the figure constructor.\nmpl.figure.prototype._make_on_message_function = function(fig) {\n    return function socket_on_message(evt) {\n        if (evt.data instanceof Blob) {\n            /* FIXME: We get \"Resource interpreted as Image but\n             * transferred with MIME type text/plain:\" errors on\n             * Chrome.  But how to set the MIME type?  It doesn't seem\n             * to be part of the websocket stream */\n            evt.data.type = \"image/png\";\n\n            /* Free the memory for the previous frames */\n            if (fig.imageObj.src) {\n                (window.URL || window.webkitURL).revokeObjectURL(\n                    fig.imageObj.src);\n            }\n\n            fig.imageObj.src = (window.URL || window.webkitURL).createObjectURL(\n                evt.data);\n            fig.updated_canvas_event();\n            fig.waiting = false;\n            return;\n        }\n        else if (typeof evt.data === 'string' && evt.data.slice(0, 21) == \"data:image/png;base64\") {\n            fig.imageObj.src = evt.data;\n            fig.updated_canvas_event();\n            fig.waiting = false;\n            return;\n        }\n\n        var msg = JSON.parse(evt.data);\n        var msg_type = msg['type'];\n\n        // Call the  \"handle_{type}\" callback, which takes\n        // the figure and JSON message as its only arguments.\n        try {\n            var callback = fig[\"handle_\" + msg_type];\n        } catch (e) {\n            console.log(\"No handler for the '\" + msg_type + \"' message type: \", msg);\n            return;\n        }\n\n        if (callback) {\n            try {\n                // console.log(\"Handling '\" + msg_type + \"' message: \", msg);\n                callback(fig, msg);\n            } catch (e) {\n                console.log(\"Exception inside the 'handler_\" + msg_type + \"' callback:\", e, e.stack, msg);\n            }\n        }\n    };\n}\n\n// from http://stackoverflow.com/questions/1114465/getting-mouse-location-in-canvas\nmpl.findpos = function(e) {\n    //this section is from http://www.quirksmode.org/js/events_properties.html\n    var targ;\n    if (!e)\n        e = window.event;\n    if (e.target)\n        targ = e.target;\n    else if (e.srcElement)\n        targ = e.srcElement;\n    if (targ.nodeType == 3) // defeat Safari bug\n        targ = targ.parentNode;\n\n    // jQuery normalizes the pageX and pageY\n    // pageX,Y are the mouse positions relative to the document\n    // offset() returns the position of the element relative to the document\n    var x = e.pageX - $(targ).offset().left;\n    var y = e.pageY - $(targ).offset().top;\n\n    return {\"x\": x, \"y\": y};\n};\n\n/*\n * return a copy of an object with only non-object keys\n * we need this to avoid circular references\n * http://stackoverflow.com/a/24161582/3208463\n */\nfunction simpleKeys (original) {\n  return Object.keys(original).reduce(function (obj, key) {\n    if (typeof original[key] !== 'object')\n        obj[key] = original[key]\n    return obj;\n  }, {});\n}\n\nmpl.figure.prototype.mouse_event = function(event, name) {\n    var canvas_pos = mpl.findpos(event)\n\n    if (name === 'button_press')\n    {\n        this.canvas.focus();\n        this.canvas_div.focus();\n    }\n\n    var x = canvas_pos.x * mpl.ratio;\n    var y = canvas_pos.y * mpl.ratio;\n\n    this.send_message(name, {x: x, y: y, button: event.button,\n                             step: event.step,\n                             guiEvent: simpleKeys(event)});\n\n    /* This prevents the web browser from automatically changing to\n     * the text insertion cursor when the button is pressed.  We want\n     * to control all of the cursor setting manually through the\n     * 'cursor' event from matplotlib */\n    event.preventDefault();\n    return false;\n}\n\nmpl.figure.prototype._key_event_extra = function(event, name) {\n    // Handle any extra behaviour associated with a key event\n}\n\nmpl.figure.prototype.key_event = function(event, name) {\n\n    // Prevent repeat events\n    if (name == 'key_press')\n    {\n        if (event.which === this._key)\n            return;\n        else\n            this._key = event.which;\n    }\n    if (name == 'key_release')\n        this._key = null;\n\n    var value = '';\n    if (event.ctrlKey && event.which != 17)\n        value += \"ctrl+\";\n    if (event.altKey && event.which != 18)\n        value += \"alt+\";\n    if (event.shiftKey && event.which != 16)\n        value += \"shift+\";\n\n    value += 'k';\n    value += event.which.toString();\n\n    this._key_event_extra(event, name);\n\n    this.send_message(name, {key: value,\n                             guiEvent: simpleKeys(event)});\n    return false;\n}\n\nmpl.figure.prototype.toolbar_button_onclick = function(name) {\n    if (name == 'download') {\n        this.handle_save(this, null);\n    } else {\n        this.send_message(\"toolbar_button\", {name: name});\n    }\n};\n\nmpl.figure.prototype.toolbar_button_onmouseover = function(tooltip) {\n    this.message.textContent = tooltip;\n};\nmpl.toolbar_items = [[\"Home\", \"Reset original view\", \"fa fa-home icon-home\", \"home\"], [\"Back\", \"Back to previous view\", \"fa fa-arrow-left icon-arrow-left\", \"back\"], [\"Forward\", \"Forward to next view\", \"fa fa-arrow-right icon-arrow-right\", \"forward\"], [\"\", \"\", \"\", \"\"], [\"Pan\", \"Pan axes with left mouse, zoom with right\", \"fa fa-arrows icon-move\", \"pan\"], [\"Zoom\", \"Zoom to rectangle\", \"fa fa-square-o icon-check-empty\", \"zoom\"], [\"\", \"\", \"\", \"\"], [\"Download\", \"Download plot\", \"fa fa-floppy-o icon-save\", \"download\"]];\n\nmpl.extensions = [\"eps\", \"jpeg\", \"pdf\", \"png\", \"ps\", \"raw\", \"svg\", \"tif\"];\n\nmpl.default_extension = \"png\";var comm_websocket_adapter = function(comm) {\n    // Create a \"websocket\"-like object which calls the given IPython comm\n    // object with the appropriate methods. Currently this is a non binary\n    // socket, so there is still some room for performance tuning.\n    var ws = {};\n\n    ws.close = function() {\n        comm.close()\n    };\n    ws.send = function(m) {\n        //console.log('sending', m);\n        comm.send(m);\n    };\n    // Register the callback with on_msg.\n    comm.on_msg(function(msg) {\n        //console.log('receiving', msg['content']['data'], msg);\n        // Pass the mpl event to the overridden (by mpl) onmessage function.\n        ws.onmessage(msg['content']['data'])\n    });\n    return ws;\n}\n\nmpl.mpl_figure_comm = function(comm, msg) {\n    // This is the function which gets called when the mpl process\n    // starts-up an IPython Comm through the \"matplotlib\" channel.\n\n    var id = msg.content.data.id;\n    // Get hold of the div created by the display call when the Comm\n    // socket was opened in Python.\n    var element = $(\"#\" + id);\n    var ws_proxy = comm_websocket_adapter(comm)\n\n    function ondownload(figure, format) {\n        window.open(figure.imageObj.src);\n    }\n\n    var fig = new mpl.figure(id, ws_proxy,\n                           ondownload,\n                           element.get(0));\n\n    // Call onopen now - mpl needs it, as it is assuming we've passed it a real\n    // web socket which is closed, not our websocket->open comm proxy.\n    ws_proxy.onopen();\n\n    fig.parent_element = element.get(0);\n    fig.cell_info = mpl.find_output_cell(\"<div id='\" + id + \"'></div>\");\n    if (!fig.cell_info) {\n        console.error(\"Failed to find cell for figure\", id, fig);\n        return;\n    }\n\n    var output_index = fig.cell_info[2]\n    var cell = fig.cell_info[0];\n\n};\n\nmpl.figure.prototype.handle_close = function(fig, msg) {\n    var width = fig.canvas.width/mpl.ratio\n    fig.root.unbind('remove')\n\n    // Update the output cell to use the data from the current canvas.\n    fig.push_to_output();\n    var dataURL = fig.canvas.toDataURL();\n    // Re-enable the keyboard manager in IPython - without this line, in FF,\n    // the notebook keyboard shortcuts fail.\n    IPython.keyboard_manager.enable()\n    $(fig.parent_element).html('<img src=\"' + dataURL + '\" width=\"' + width + '\">');\n    fig.close_ws(fig, msg);\n}\n\nmpl.figure.prototype.close_ws = function(fig, msg){\n    fig.send_message('closing', msg);\n    // fig.ws.close()\n}\n\nmpl.figure.prototype.push_to_output = function(remove_interactive) {\n    // Turn the data on the canvas into data in the output cell.\n    var width = this.canvas.width/mpl.ratio\n    var dataURL = this.canvas.toDataURL();\n    this.cell_info[1]['text/html'] = '<img src=\"' + dataURL + '\" width=\"' + width + '\">';\n}\n\nmpl.figure.prototype.updated_canvas_event = function() {\n    // Tell IPython that the notebook contents must change.\n    IPython.notebook.set_dirty(true);\n    this.send_message(\"ack\", {});\n    var fig = this;\n    // Wait a second, then push the new image to the DOM so\n    // that it is saved nicely (might be nice to debounce this).\n    setTimeout(function () { fig.push_to_output() }, 1000);\n}\n\nmpl.figure.prototype._init_toolbar = function() {\n    var fig = this;\n\n    var nav_element = $('<div/>');\n    nav_element.attr('style', 'width: 100%');\n    this.root.append(nav_element);\n\n    // Define a callback function for later on.\n    function toolbar_event(event) {\n        return fig.toolbar_button_onclick(event['data']);\n    }\n    function toolbar_mouse_event(event) {\n        return fig.toolbar_button_onmouseover(event['data']);\n    }\n\n    for(var toolbar_ind in mpl.toolbar_items){\n        var name = mpl.toolbar_items[toolbar_ind][0];\n        var tooltip = mpl.toolbar_items[toolbar_ind][1];\n        var image = mpl.toolbar_items[toolbar_ind][2];\n        var method_name = mpl.toolbar_items[toolbar_ind][3];\n\n        if (!name) { continue; };\n\n        var button = $('<button class=\"btn btn-default\" href=\"#\" title=\"' + name + '\"><i class=\"fa ' + image + ' fa-lg\"></i></button>');\n        button.click(method_name, toolbar_event);\n        button.mouseover(tooltip, toolbar_mouse_event);\n        nav_element.append(button);\n    }\n\n    // Add the status bar.\n    var status_bar = $('<span class=\"mpl-message\" style=\"text-align:right; float: right;\"/>');\n    nav_element.append(status_bar);\n    this.message = status_bar[0];\n\n    // Add the close button to the window.\n    var buttongrp = $('<div class=\"btn-group inline pull-right\"></div>');\n    var button = $('<button class=\"btn btn-mini btn-primary\" href=\"#\" title=\"Stop Interaction\"><i class=\"fa fa-power-off icon-remove icon-large\"></i></button>');\n    button.click(function (evt) { fig.handle_close(fig, {}); } );\n    button.mouseover('Stop Interaction', toolbar_mouse_event);\n    buttongrp.append(button);\n    var titlebar = this.root.find($('.ui-dialog-titlebar'));\n    titlebar.prepend(buttongrp);\n}\n\nmpl.figure.prototype._root_extra_style = function(el){\n    var fig = this\n    el.on(\"remove\", function(){\n\tfig.close_ws(fig, {});\n    });\n}\n\nmpl.figure.prototype._canvas_extra_style = function(el){\n    // this is important to make the div 'focusable\n    el.attr('tabindex', 0)\n    // reach out to IPython and tell the keyboard manager to turn it's self\n    // off when our div gets focus\n\n    // location in version 3\n    if (IPython.notebook.keyboard_manager) {\n        IPython.notebook.keyboard_manager.register_events(el);\n    }\n    else {\n        // location in version 2\n        IPython.keyboard_manager.register_events(el);\n    }\n\n}\n\nmpl.figure.prototype._key_event_extra = function(event, name) {\n    var manager = IPython.notebook.keyboard_manager;\n    if (!manager)\n        manager = IPython.keyboard_manager;\n\n    // Check for shift+enter\n    if (event.shiftKey && event.which == 13) {\n        this.canvas_div.blur();\n        event.shiftKey = false;\n        // Send a \"J\" for go to next cell\n        event.which = 74;\n        event.keyCode = 74;\n        manager.command_mode();\n        manager.handle_keydown(event);\n    }\n}\n\nmpl.figure.prototype.handle_save = function(fig, msg) {\n    fig.ondownload(fig, null);\n}\n\n\nmpl.find_output_cell = function(html_output) {\n    // Return the cell and output element which can be found *uniquely* in the notebook.\n    // Note - this is a bit hacky, but it is done because the \"notebook_saving.Notebook\"\n    // IPython event is triggered only after the cells have been serialised, which for\n    // our purposes (turning an active figure into a static one), is too late.\n    var cells = IPython.notebook.get_cells();\n    var ncells = cells.length;\n    for (var i=0; i<ncells; i++) {\n        var cell = cells[i];\n        if (cell.cell_type === 'code'){\n            for (var j=0; j<cell.output_area.outputs.length; j++) {\n                var data = cell.output_area.outputs[j];\n                if (data.data) {\n                    // IPython >= 3 moved mimebundle to data attribute of output\n                    data = data.data;\n                }\n                if (data['text/html'] == html_output) {\n                    return [cell, data, j];\n                }\n            }\n        }\n    }\n}\n\n// Register the function which deals with the matplotlib target/channel.\n// The kernel may be null if the page has been refreshed.\nif (IPython.notebook.kernel != null) {\n    IPython.notebook.kernel.comm_manager.register_target('matplotlib', mpl.mpl_figure_comm);\n}\n",
          "text/plain": "<IPython.core.display.Javascript object>"
         },
         "metadata": {},
         "output_type": "display_data"
        },
        {
         "data": {
          "text/html": "<div id='8e08d780-18ef-4411-85b3-ba6d722d607f'></div>",
          "text/plain": "<IPython.core.display.HTML object>"
         },
         "metadata": {},
         "output_type": "display_data"
        }
       ]
      }
     },
     "2aa0a2699b6346799f305ff2f1dfffe5": {
      "model_module": "@jupyter-widgets/output",
      "model_module_version": "1.0.0",
      "model_name": "OutputModel",
      "state": {
       "layout": "IPY_MODEL_15c0697b28bf4137abed7742ec4e697b"
      }
     },
     "2b659c05ac2b495ea8d6071646a95f68": {
      "model_module": "@jupyter-widgets/controls",
      "model_module_version": "1.5.0",
      "model_name": "BoundedIntTextModel",
      "state": {
       "description": "$l$",
       "layout": "IPY_MODEL_d6a21c1564254ac981635f5b3536addb",
       "max": 0,
       "style": "IPY_MODEL_c44d868cf3e3461e92da18140af7e22b"
      }
     },
     "2d4151de977c473bbc32b02396136110": {
      "model_module": "@jupyter-widgets/controls",
      "model_module_version": "1.5.0",
      "model_name": "RadioButtonsModel",
      "state": {
       "_options_labels": [
        "+",
        "-"
       ],
       "description": "$Y_l^m \\pm Y_l^{-m}$",
       "index": 0,
       "layout": "IPY_MODEL_b9533b3cb6974474bd8d4f00632023a3",
       "style": "IPY_MODEL_d005e94d97a74317b7ae616ad23b014b"
      }
     },
     "2d78062de26645f6bc9d945c641e1407": {
      "model_module": "@jupyter-widgets/base",
      "model_module_version": "1.2.0",
      "model_name": "LayoutModel",
      "state": {
       "align_items": "center",
       "display": "flex",
       "flex_flow": "column wrap",
       "width": "160px"
      }
     },
     "2dd009e69c9c4dbdbbb7cafa557d8c6a": {
      "model_module": "@jupyter-widgets/controls",
      "model_module_version": "1.5.0",
      "model_name": "HBoxModel",
      "state": {
       "children": [
        "IPY_MODEL_f3040a1d94934767a87d92cd1957fa71",
        "IPY_MODEL_61fe5cb02692411789654286307a6968"
       ],
       "layout": "IPY_MODEL_ae8df00557054634999528723c1a8201"
      }
     },
     "2ecc9d4c633d45aaac990d757df99cd6": {
      "model_module": "@jupyter-widgets/controls",
      "model_module_version": "1.5.0",
      "model_name": "VBoxModel",
      "state": {
       "children": [
        "IPY_MODEL_10d69e9c59634449831c026e326f00e1",
        "IPY_MODEL_5f0d321636934980925dbe13c90ed848",
        "IPY_MODEL_167ce28657ad46eb94fb96a70c52c82a",
        "IPY_MODEL_c8f1aed6e4f54c858540718a2981abe4",
        "IPY_MODEL_df13a5a0a6564ad7bf8ad5aa241f6f45",
        "IPY_MODEL_93ebbf55be0c4499b99d91fc308acce4",
        "IPY_MODEL_f22b257f68da45308b5b89647e112142",
        "IPY_MODEL_d823887aeb68451ea2f9d827cf73dff2"
       ],
       "layout": "IPY_MODEL_a3df8efac4a74bc2b400713cfa45f866"
      }
     },
     "2fee7f57bb374f86a67bccefcd329c4c": {
      "model_module": "@jupyter-widgets/base",
      "model_module_version": "1.2.0",
      "model_name": "LayoutModel",
      "state": {}
     },
     "304b39655cee4d2fa43661c492a2c268": {
      "model_module": "@jupyter-widgets/base",
      "model_module_version": "1.2.0",
      "model_name": "LayoutModel",
      "state": {
       "display": "none",
       "width": "125px"
      }
     },
     "3056ee1bab9143d2b671846d74923a1d": {
      "model_module": "@jupyter-widgets/output",
      "model_module_version": "1.0.0",
      "model_name": "OutputModel",
      "state": {
       "layout": "IPY_MODEL_740d38302c9b4fcdb90c15bd9d47de09"
      }
     },
     "3059c0bb1f90404c87d3104fd212dcf1": {
      "model_module": "@jupyter-widgets/controls",
      "model_module_version": "1.5.0",
      "model_name": "DescriptionStyleModel",
      "state": {
       "description_width": "50px"
      }
     },
     "321e255bf00e4328b8c67abfbcb127b4": {
      "model_module": "@jupyter-widgets/output",
      "model_module_version": "1.0.0",
      "model_name": "OutputModel",
      "state": {
       "layout": "IPY_MODEL_40543e8b7e3b4b068bdc39bcdbd7c5dd",
       "outputs": [
        {
         "data": {
          "text/latex": "$\\displaystyle \\psi_{3,2,0}(r,\\theta,\\phi) = \\frac{\\sqrt{6} r^{2} \\left(\\frac{3 \\cos^{2}{\\left(\\theta \\right)}}{2} - \\frac{1}{2}\\right) \\left(\\frac{1}{a_{0}}\\right)^{3.5} e^{- \\frac{r}{3 a_{0}}}}{243 \\sqrt{\\pi}}$",
          "text/plain": "<IPython.core.display.Math object>"
         },
         "metadata": {},
         "output_type": "display_data"
        }
       ]
      }
     },
     "32ebfc58012c49328426ce76db7cc542": {
      "model_module": "@jupyter-widgets/controls",
      "model_module_version": "1.5.0",
      "model_name": "HBoxModel",
      "state": {
       "children": [
        "IPY_MODEL_80c7ac8892144a8a9c1e27da4de6b863"
       ],
       "layout": "IPY_MODEL_f1798bb3471745ddb3faf756d84e795a"
      }
     },
     "34d259f06b2947e7a5df570010131b4c": {
      "model_module": "@jupyter-widgets/controls",
      "model_module_version": "1.5.0",
      "model_name": "ButtonModel",
      "state": {
       "description": "Generate Plots",
       "layout": "IPY_MODEL_03890775f6e64796a9f07cbf7b29cd71",
       "style": "IPY_MODEL_3595f4f1757e44738a3109a577c1ee05"
      }
     },
     "3595f4f1757e44738a3109a577c1ee05": {
      "model_module": "@jupyter-widgets/controls",
      "model_module_version": "1.5.0",
      "model_name": "ButtonStyleModel",
      "state": {
       "button_color": "lightgreen"
      }
     },
     "376338e5bab64a97a1306ca64ccbcdf3": {
      "model_module": "@jupyter-widgets/base",
      "model_module_version": "1.2.0",
      "model_name": "LayoutModel",
      "state": {
       "width": "125px"
      }
     },
     "3809498890ed4a148b537dd13ec9d832": {
      "model_module": "@jupyter-widgets/controls",
      "model_module_version": "1.5.0",
      "model_name": "DescriptionStyleModel",
      "state": {
       "description_width": "50px"
      }
     },
     "389d1880f32942ab8667fd7fff7000d3": {
      "model_module": "@jupyter-widgets/controls",
      "model_module_version": "1.5.0",
      "model_name": "DescriptionStyleModel",
      "state": {
       "description_width": "50px"
      }
     },
     "39594ce28e8d4aaaa8e137649e1e6734": {
      "model_module": "@jupyter-widgets/base",
      "model_module_version": "1.2.0",
      "model_name": "LayoutModel",
      "state": {
       "height": "170px"
      }
     },
     "39cdfbbb0c8a4a2cb8930da2e08f862c": {
      "model_module": "@jupyter-widgets/base",
      "model_module_version": "1.2.0",
      "model_name": "LayoutModel",
      "state": {
       "width": "100px"
      }
     },
     "3a5a8cebaf634950bb4c6cdfee49fade": {
      "model_module": "@jupyter-widgets/output",
      "model_module_version": "1.0.0",
      "model_name": "OutputModel",
      "state": {
       "layout": "IPY_MODEL_e91998d0cef64bf39c2c0f984c883c8c"
      }
     },
     "3a5f5e5d467e4a5ab4f93b39b37a0750": {
      "model_module": "@jupyter-widgets/output",
      "model_module_version": "1.0.0",
      "model_name": "OutputModel",
      "state": {
       "layout": "IPY_MODEL_7a47b3ddd29a49dd8b6248409a9eea2d"
      }
     },
     "3adeb48ae4d74b0bae394865a1ab93c9": {
      "model_module": "@jupyter-widgets/controls",
      "model_module_version": "1.5.0",
      "model_name": "DescriptionStyleModel",
      "state": {
       "description_width": "50px"
      }
     },
     "3baacffa64af4de096d7fb12fdf03ddd": {
      "model_module": "@jupyter-widgets/base",
      "model_module_version": "1.2.0",
      "model_name": "LayoutModel",
      "state": {
       "display": "none",
       "width": "125px"
      }
     },
     "3bdbf106480b481ca3eeaebf8c7e5d66": {
      "model_module": "@jupyter-widgets/base",
      "model_module_version": "1.2.0",
      "model_name": "LayoutModel",
      "state": {
       "width": "100px"
      }
     },
     "3d6a5642987b47b48f32ebf2215a3ab4": {
      "model_module": "@jupyter-widgets/base",
      "model_module_version": "1.2.0",
      "model_name": "LayoutModel",
      "state": {
       "height": "170px"
      }
     },
     "40543e8b7e3b4b068bdc39bcdbd7c5dd": {
      "model_module": "@jupyter-widgets/base",
      "model_module_version": "1.2.0",
      "model_name": "LayoutModel",
      "state": {}
     },
     "4076254d79db464e92e8f81d2deca2bb": {
      "model_module": "@jupyter-widgets/output",
      "model_module_version": "1.0.0",
      "model_name": "OutputModel",
      "state": {
       "layout": "IPY_MODEL_9801219d9ef6413f96d047df36f72f7c"
      }
     },
     "40a7a408dfd942f9bfe6b47d3f723d6f": {
      "model_module": "@jupyter-widgets/controls",
      "model_module_version": "1.5.0",
      "model_name": "SliderStyleModel",
      "state": {
       "description_width": ""
      }
     },
     "40ba38d7f7fe4bf09b24db7c064fd237": {
      "model_module": "@jupyter-widgets/controls",
      "model_module_version": "1.5.0",
      "model_name": "BoundedIntTextModel",
      "state": {
       "description": "$n$",
       "layout": "IPY_MODEL_fe689999b7bb47818a538ce64badafc8",
       "max": 10,
       "min": 1,
       "style": "IPY_MODEL_7006b5a8767945abbae6a50371b7cd31",
       "value": 1
      }
     },
     "413cb5aa70c1480e9c9831c3fb99c345": {
      "model_module": "@jupyter-widgets/controls",
      "model_module_version": "1.5.0",
      "model_name": "ButtonStyleModel",
      "state": {
       "button_color": "coral"
      }
     },
     "42de2225a21a4e2fb1f96b16ada7e547": {
      "model_module": "@jupyter-widgets/controls",
      "model_module_version": "1.5.0",
      "model_name": "BoundedIntTextModel",
      "state": {
       "description": "$Z$",
       "layout": "IPY_MODEL_f874fc6169624d0889320ba58d0b226b",
       "max": 180,
       "min": 1,
       "style": "IPY_MODEL_0bc8aec1a19245b2b1cf7b81dc94d6af",
       "value": 1
      }
     },
     "455d111224fa41e882137ad22419d544": {
      "model_module": "@jupyter-widgets/base",
      "model_module_version": "1.2.0",
      "model_name": "LayoutModel",
      "state": {
       "align_items": "center",
       "display": "flex",
       "flex_flow": "column",
       "width": "100%"
      }
     },
     "4590b32bf38542459dfdb840ee0d4ae0": {
      "model_module": "@jupyter-widgets/controls",
      "model_module_version": "1.5.0",
      "model_name": "DescriptionStyleModel",
      "state": {
       "description_width": "50px"
      }
     },
     "4894dd337a9e41a7a45d8ef2df96f06f": {
      "model_module": "@jupyter-widgets/base",
      "model_module_version": "1.2.0",
      "model_name": "LayoutModel",
      "state": {
       "width": "100px"
      }
     },
     "4a664f9447704d7ca2d4904a1e5e1c74": {
      "model_module": "@jupyter-widgets/controls",
      "model_module_version": "1.5.0",
      "model_name": "HBoxModel",
      "state": {
       "children": [
        "IPY_MODEL_f17e37ec13b545f295eb995251831458"
       ],
       "layout": "IPY_MODEL_c0f538f817d34811b0d0e2faf402183a"
      }
     },
     "4d4d41c1af954760bd835829c94ba540": {
      "model_module": "@jupyter-widgets/controls",
      "model_module_version": "1.5.0",
      "model_name": "BoundedIntTextModel",
      "state": {
       "description": "$n$",
       "layout": "IPY_MODEL_c90ad664f568421eb7334d144b859a01",
       "max": 10,
       "min": 1,
       "style": "IPY_MODEL_3059c0bb1f90404c87d3104fd212dcf1",
       "value": 1
      }
     },
     "503d647060164c64ba41f0ad9f27810e": {
      "model_module": "@jupyter-widgets/base",
      "model_module_version": "1.2.0",
      "model_name": "LayoutModel",
      "state": {
       "align_items": "center",
       "display": "flex",
       "flex_flow": "column",
       "width": "50%"
      }
     },
     "515476785f8b44998697949b16129f7f": {
      "model_module": "@jupyter-widgets/base",
      "model_module_version": "1.2.0",
      "model_name": "LayoutModel",
      "state": {}
     },
     "51901bc537c645aea161047c46cfdf30": {
      "model_module": "@jupyter-widgets/base",
      "model_module_version": "1.2.0",
      "model_name": "LayoutModel",
      "state": {}
     },
     "51a489d6ef9947f0955caf187abe8291": {
      "model_module": "@jupyter-widgets/controls",
      "model_module_version": "1.5.0",
      "model_name": "BoundedIntTextModel",
      "state": {
       "description": "$n$",
       "layout": "IPY_MODEL_376338e5bab64a97a1306ca64ccbcdf3",
       "max": 10,
       "min": 1,
       "style": "IPY_MODEL_19999aa3d79246149788177406635e89",
       "value": 1
      }
     },
     "51d7f44bc15141ecb477625e3291c3e3": {
      "model_module": "@jupyter-widgets/controls",
      "model_module_version": "1.5.0",
      "model_name": "SliderStyleModel",
      "state": {
       "description_width": ""
      }
     },
     "52b0a37c16a544c0b24a28bee340216e": {
      "model_module": "@jupyter-widgets/controls",
      "model_module_version": "1.5.0",
      "model_name": "BoundedIntTextModel",
      "state": {
       "description": "$Z$",
       "layout": "IPY_MODEL_dc3085b650544c1fa04a2082b2c690a0",
       "max": 180,
       "min": 1,
       "style": "IPY_MODEL_7882f1ae691543b8b2c12bae097ea51e",
       "value": 1
      }
     },
     "53342164ff3e4649b3d562b7312ef6bf": {
      "model_module": "@jupyter-widgets/controls",
      "model_module_version": "1.5.0",
      "model_name": "DescriptionStyleModel",
      "state": {
       "description_width": ""
      }
     },
     "53d20e18fff44d8e9bc8d07731982fba": {
      "model_module": "@jupyter-widgets/base",
      "model_module_version": "1.2.0",
      "model_name": "LayoutModel",
      "state": {
       "align_items": "center",
       "display": "flex",
       "flex_flow": "column",
       "width": "50%"
      }
     },
     "549d4788f3654c668061c452560798bb": {
      "model_module": "@jupyter-widgets/output",
      "model_module_version": "1.0.0",
      "model_name": "OutputModel",
      "state": {
       "layout": "IPY_MODEL_0ee50c9b835f4000ada779439985ea51"
      }
     },
     "55d188350f804c07911e0cf95802e865": {
      "model_module": "@jupyter-widgets/output",
      "model_module_version": "1.0.0",
      "model_name": "OutputModel",
      "state": {
       "layout": "IPY_MODEL_9553e0a0184c41368d7ec16671947664"
      }
     },
     "5b3ed74f49234b158d59f14c67ffa8c4": {
      "model_module": "@jupyter-widgets/base",
      "model_module_version": "1.2.0",
      "model_name": "LayoutModel",
      "state": {
       "width": "125px"
      }
     },
     "5d8baec73b3245ff8e2ffd12e43ee0dd": {
      "model_module": "@jupyter-widgets/base",
      "model_module_version": "1.2.0",
      "model_name": "LayoutModel",
      "state": {
       "height": "100%"
      }
     },
     "5edf0271e7f24b7e8b9d502415a7076c": {
      "model_module": "@jupyter-widgets/output",
      "model_module_version": "1.0.0",
      "model_name": "OutputModel",
      "state": {
       "layout": "IPY_MODEL_ea8826168bae4a899d63ef9604c63b0f"
      }
     },
     "5ee4b83a46ef41c6998e5d882006b68c": {
      "model_module": "@jupyter-widgets/base",
      "model_module_version": "1.2.0",
      "model_name": "LayoutModel",
      "state": {
       "align_items": "center",
       "display": "flex",
       "flex_flow": "column",
       "width": "50%"
      }
     },
     "5f0d321636934980925dbe13c90ed848": {
      "model_module": "@jupyter-widgets/controls",
      "model_module_version": "1.5.0",
      "model_name": "BoundedIntTextModel",
      "state": {
       "description": "$l$",
       "layout": "IPY_MODEL_f9df78361ca6403b8f706d69e6d98a2b",
       "max": 0,
       "style": "IPY_MODEL_3adeb48ae4d74b0bae394865a1ab93c9"
      }
     },
     "5f432e34568244aeb6200dd0fae46004": {
      "model_module": "@jupyter-widgets/controls",
      "model_module_version": "1.5.0",
      "model_name": "HBoxModel",
      "state": {
       "children": [
        "IPY_MODEL_7895b646024b49df9b84c7da28784324",
        "IPY_MODEL_1564fa7d96d8469d85bcefb25be5b7c2"
       ],
       "layout": "IPY_MODEL_13f690612b6e4deba2f1e8c0533c1fbc"
      }
     },
     "5ff781de4d3048c6a89868d05c9f6d49": {
      "model_module": "@jupyter-widgets/base",
      "model_module_version": "1.2.0",
      "model_name": "LayoutModel",
      "state": {
       "width": "125px"
      }
     },
     "610fd145c060403eb1ff7889d4debd23": {
      "model_module": "@jupyter-widgets/controls",
      "model_module_version": "1.5.0",
      "model_name": "HBoxModel",
      "state": {
       "children": [
        "IPY_MODEL_2ecc9d4c633d45aaac990d757df99cd6",
        "IPY_MODEL_4a664f9447704d7ca2d4904a1e5e1c74"
       ],
       "layout": "IPY_MODEL_2fee7f57bb374f86a67bccefcd329c4c"
      }
     },
     "61fe5cb02692411789654286307a6968": {
      "model_module": "@jupyter-widgets/controls",
      "model_module_version": "1.5.0",
      "model_name": "HBoxModel",
      "state": {
       "children": [
        "IPY_MODEL_21ddd81c56bc4d528b73475d904d1b5c"
       ],
       "layout": "IPY_MODEL_bb2061c4a2c1441fa8a9aaec8b3c306b"
      }
     },
     "6292e3dd88934975897d91981b2f6436": {
      "model_module": "@jupyter-widgets/controls",
      "model_module_version": "1.5.0",
      "model_name": "HBoxModel",
      "state": {
       "children": [
        "IPY_MODEL_4076254d79db464e92e8f81d2deca2bb"
       ],
       "layout": "IPY_MODEL_fedd02d5edc74b1d96a07eb97c786488"
      }
     },
     "638834009442470dab28cef8bd9e18a7": {
      "model_module": "@jupyter-widgets/output",
      "model_module_version": "1.0.0",
      "model_name": "OutputModel",
      "state": {
       "layout": "IPY_MODEL_0b38f0c922ad4504a7119a785f7a51fd"
      }
     },
     "63c5016e3c384026891b7a3caa8271bc": {
      "model_module": "@jupyter-widgets/output",
      "model_module_version": "1.0.0",
      "model_name": "OutputModel",
      "state": {
       "layout": "IPY_MODEL_ecc62c8696634b03a6d45d764e83e110"
      }
     },
     "67a535fecd194d7f865f83f673356096": {
      "model_module": "@jupyter-widgets/base",
      "model_module_version": "1.2.0",
      "model_name": "LayoutModel",
      "state": {
       "width": "100px"
      }
     },
     "67ef6f7cf589486db9d356e907aec6c5": {
      "model_module": "@jupyter-widgets/base",
      "model_module_version": "1.2.0",
      "model_name": "LayoutModel",
      "state": {}
     },
     "692db47f54334682884c34cde4cd1f1c": {
      "model_module": "@jupyter-widgets/base",
      "model_module_version": "1.2.0",
      "model_name": "LayoutModel",
      "state": {
       "width": "125px"
      }
     },
     "6973ecb12dfb4c24923381363dc85c51": {
      "model_module": "@jupyter-widgets/base",
      "model_module_version": "1.2.0",
      "model_name": "LayoutModel",
      "state": {}
     },
     "6b07ee365bca45d9a9df446d286fd05a": {
      "model_module": "@jupyter-widgets/controls",
      "model_module_version": "1.5.0",
      "model_name": "HBoxModel",
      "state": {
       "children": [
        "IPY_MODEL_5edf0271e7f24b7e8b9d502415a7076c"
       ],
       "layout": "IPY_MODEL_80851da64c204b0dbce6820238aaaeb6"
      }
     },
     "6b974554ee5040d8bbfb1e7c5214af18": {
      "model_module": "@jupyter-widgets/base",
      "model_module_version": "1.2.0",
      "model_name": "LayoutModel",
      "state": {}
     },
     "6f2f601905a040878197cbb2bd436265": {
      "model_module": "@jupyter-widgets/controls",
      "model_module_version": "1.5.0",
      "model_name": "DescriptionStyleModel",
      "state": {
       "description_width": "50px"
      }
     },
     "7006b5a8767945abbae6a50371b7cd31": {
      "model_module": "@jupyter-widgets/controls",
      "model_module_version": "1.5.0",
      "model_name": "DescriptionStyleModel",
      "state": {
       "description_width": "50px"
      }
     },
     "71c4fdc9f6994c94909ac02ff110f9e7": {
      "model_module": "@jupyter-widgets/controls",
      "model_module_version": "1.5.0",
      "model_name": "DescriptionStyleModel",
      "state": {
       "description_width": "50px"
      }
     },
     "722d3441826f4bda8e6db8dae5644687": {
      "model_module": "@jupyter-widgets/controls",
      "model_module_version": "1.5.0",
      "model_name": "HBoxModel",
      "state": {
       "children": [
        "IPY_MODEL_3a5a8cebaf634950bb4c6cdfee49fade"
       ],
       "layout": "IPY_MODEL_53d20e18fff44d8e9bc8d07731982fba"
      }
     },
     "72f8d4331ff54d6197f6a12ebc36de8b": {
      "model_module": "@jupyter-widgets/controls",
      "model_module_version": "1.5.0",
      "model_name": "IntSliderModel",
      "state": {
       "description": "# of points",
       "layout": "IPY_MODEL_19eff161ef014f98ab0b29a2dd23311d",
       "max": 10000,
       "min": 500,
       "orientation": "vertical",
       "style": "IPY_MODEL_40a7a408dfd942f9bfe6b47d3f723d6f",
       "value": 3764
      }
     },
     "7325cbbbacf74524bb6dbf41422370e1": {
      "model_module": "@jupyter-widgets/base",
      "model_module_version": "1.2.0",
      "model_name": "LayoutModel",
      "state": {}
     },
     "740d38302c9b4fcdb90c15bd9d47de09": {
      "model_module": "@jupyter-widgets/base",
      "model_module_version": "1.2.0",
      "model_name": "LayoutModel",
      "state": {}
     },
     "744f4df2e4d44d639267c8dc6d8f5b66": {
      "model_module": "@jupyter-widgets/base",
      "model_module_version": "1.2.0",
      "model_name": "LayoutModel",
      "state": {
       "width": "125px"
      }
     },
     "750c46cf04334f82b22b71977fe6321c": {
      "model_module": "@jupyter-widgets/controls",
      "model_module_version": "1.5.0",
      "model_name": "VBoxModel",
      "state": {
       "children": [
        "IPY_MODEL_a51cc3223cd6436a81faca25b948f295",
        "IPY_MODEL_6b07ee365bca45d9a9df446d286fd05a"
       ],
       "layout": "IPY_MODEL_eb0562fb45444002b343a0ad2217aeab"
      }
     },
     "764ec55f6f02484ba32ed14e1a0bd757": {
      "model_module": "@jupyter-widgets/controls",
      "model_module_version": "1.5.0",
      "model_name": "ButtonModel",
      "state": {
       "description": "Reset",
       "layout": "IPY_MODEL_67a535fecd194d7f865f83f673356096",
       "style": "IPY_MODEL_d3a96417c81d4cb49039032a0eef7673"
      }
     },
     "7882f1ae691543b8b2c12bae097ea51e": {
      "model_module": "@jupyter-widgets/controls",
      "model_module_version": "1.5.0",
      "model_name": "DescriptionStyleModel",
      "state": {
       "description_width": "50px"
      }
     },
     "7895b646024b49df9b84c7da28784324": {
      "model_module": "@jupyter-widgets/controls",
      "model_module_version": "1.5.0",
      "model_name": "VBoxModel",
      "state": {
       "children": [
        "IPY_MODEL_4d4d41c1af954760bd835829c94ba540",
        "IPY_MODEL_8c9d647568c64168ae06f094d89eed4d",
        "IPY_MODEL_8c7f78b5f40244b591b7f4d9cbb227de",
        "IPY_MODEL_e4d7f92555f54d4e8e1fecf4e630434f",
        "IPY_MODEL_52b0a37c16a544c0b24a28bee340216e",
        "IPY_MODEL_e64c45ab47604502836062b2d61bd665",
        "IPY_MODEL_ee0f8193e27d4675a1289800da87436e",
        "IPY_MODEL_764ec55f6f02484ba32ed14e1a0bd757"
       ],
       "layout": "IPY_MODEL_d7b44a5200784ab1b5f8679f86977c84"
      }
     },
     "795314ec3a42492fb6e48e1e2be36c7f": {
      "model_module": "@jupyter-widgets/base",
      "model_module_version": "1.2.0",
      "model_name": "LayoutModel",
      "state": {
       "display": "none",
       "width": "125px"
      }
     },
     "7a47b3ddd29a49dd8b6248409a9eea2d": {
      "model_module": "@jupyter-widgets/base",
      "model_module_version": "1.2.0",
      "model_name": "LayoutModel",
      "state": {}
     },
     "7a76e6e1efae413dadeebe26689a89a1": {
      "model_module": "@jupyter-widgets/base",
      "model_module_version": "1.2.0",
      "model_name": "LayoutModel",
      "state": {}
     },
     "7aedf9be9d75452ba5305a88b55457cd": {
      "model_module": "@jupyter-widgets/output",
      "model_module_version": "1.0.0",
      "model_name": "OutputModel",
      "state": {
       "layout": "IPY_MODEL_51901bc537c645aea161047c46cfdf30",
       "outputs": [
        {
         "data": {
          "text/latex": "$\\displaystyle Y_2^0(\\theta,\\phi) = \\frac{\\sqrt{5} \\left(\\frac{3 \\cos^{2}{\\left(\\theta \\right)}}{2} - \\frac{1}{2}\\right)}{2 \\sqrt{\\pi}}$",
          "text/plain": "<IPython.core.display.Math object>"
         },
         "metadata": {},
         "output_type": "display_data"
        }
       ]
      }
     },
     "7bbfbdecf4ab4b03821fbdf161a8d7fb": {
      "model_module": "@jupyter-widgets/controls",
      "model_module_version": "1.5.0",
      "model_name": "RadioButtonsModel",
      "state": {
       "_options_labels": [
        "+",
        "-"
       ],
       "description": "$Y_l^m \\pm Y_l^{-m}$",
       "index": 0,
       "layout": "IPY_MODEL_3baacffa64af4de096d7fb12fdf03ddd",
       "style": "IPY_MODEL_fa80a9755e9f4415ac8697e796194057"
      }
     },
     "7d0812a571454fb08fa48f669ce972a9": {
      "model_module": "@jupyter-widgets/controls",
      "model_module_version": "1.5.0",
      "model_name": "BoundedIntTextModel",
      "state": {
       "description": "$\\left| m \\right|$",
       "layout": "IPY_MODEL_c8696b9a174f4e6d9ba281202e267941",
       "max": 0,
       "style": "IPY_MODEL_3809498890ed4a148b537dd13ec9d832"
      }
     },
     "7e4510bf5d40441795107641b656321e": {
      "model_module": "@jupyter-widgets/controls",
      "model_module_version": "1.5.0",
      "model_name": "ButtonStyleModel",
      "state": {
       "button_color": "coral"
      }
     },
     "7ea6077763734659a0d42a5fa0f9ad76": {
      "model_module": "@jupyter-widgets/controls",
      "model_module_version": "1.5.0",
      "model_name": "ButtonModel",
      "state": {
       "description": "Generate Plots",
       "layout": "IPY_MODEL_eebeb0df98ee4786af05a6138092803f",
       "style": "IPY_MODEL_9a5eef941ee4480980c66871fae55099"
      }
     },
     "7ef45bd385f14572b4dd0f5bb95f0c64": {
      "model_module": "@jupyter-widgets/controls",
      "model_module_version": "1.5.0",
      "model_name": "ButtonModel",
      "state": {
       "description": "Reset",
       "layout": "IPY_MODEL_3bdbf106480b481ca3eeaebf8c7e5d66",
       "style": "IPY_MODEL_7e4510bf5d40441795107641b656321e"
      }
     },
     "7f4e6a7308e941e1b6d8ef8f293e8d70": {
      "model_module": "@jupyter-widgets/controls",
      "model_module_version": "1.5.0",
      "model_name": "ButtonModel",
      "state": {
       "description": "Generate Plots",
       "layout": "IPY_MODEL_82a1e1a8a2d142d3b256e9697dc18869",
       "style": "IPY_MODEL_ccf9c10f222f40d6b5ec3e27a4d7beb0"
      }
     },
     "8060d874d5aa46008583546f348a1ae6": {
      "model_module": "@jupyter-widgets/base",
      "model_module_version": "1.2.0",
      "model_name": "LayoutModel",
      "state": {}
     },
     "80851da64c204b0dbce6820238aaaeb6": {
      "model_module": "@jupyter-widgets/base",
      "model_module_version": "1.2.0",
      "model_name": "LayoutModel",
      "state": {
       "align_items": "center",
       "display": "flex",
       "flex_flow": "column",
       "width": "50%"
      }
     },
     "80c7ac8892144a8a9c1e27da4de6b863": {
      "model_module": "@jupyter-widgets/output",
      "model_module_version": "1.0.0",
      "model_name": "OutputModel",
      "state": {
       "layout": "IPY_MODEL_ad52cbae96324f3798acba3b80933989",
       "outputs": [
        {
         "data": {
          "application/javascript": "/* Put everything inside the global mpl namespace */\nwindow.mpl = {};\n\n\nmpl.get_websocket_type = function() {\n    if (typeof(WebSocket) !== 'undefined') {\n        return WebSocket;\n    } else if (typeof(MozWebSocket) !== 'undefined') {\n        return MozWebSocket;\n    } else {\n        alert('Your browser does not have WebSocket support. ' +\n              'Please try Chrome, Safari or Firefox ≥ 6. ' +\n              'Firefox 4 and 5 are also supported but you ' +\n              'have to enable WebSockets in about:config.');\n    };\n}\n\nmpl.figure = function(figure_id, websocket, ondownload, parent_element) {\n    this.id = figure_id;\n\n    this.ws = websocket;\n\n    this.supports_binary = (this.ws.binaryType != undefined);\n\n    if (!this.supports_binary) {\n        var warnings = document.getElementById(\"mpl-warnings\");\n        if (warnings) {\n            warnings.style.display = 'block';\n            warnings.textContent = (\n                \"This browser does not support binary websocket messages. \" +\n                    \"Performance may be slow.\");\n        }\n    }\n\n    this.imageObj = new Image();\n\n    this.context = undefined;\n    this.message = undefined;\n    this.canvas = undefined;\n    this.rubberband_canvas = undefined;\n    this.rubberband_context = undefined;\n    this.format_dropdown = undefined;\n\n    this.image_mode = 'full';\n\n    this.root = $('<div/>');\n    this._root_extra_style(this.root)\n    this.root.attr('style', 'display: inline-block');\n\n    $(parent_element).append(this.root);\n\n    this._init_header(this);\n    this._init_canvas(this);\n    this._init_toolbar(this);\n\n    var fig = this;\n\n    this.waiting = false;\n\n    this.ws.onopen =  function () {\n            fig.send_message(\"supports_binary\", {value: fig.supports_binary});\n            fig.send_message(\"send_image_mode\", {});\n            if (mpl.ratio != 1) {\n                fig.send_message(\"set_dpi_ratio\", {'dpi_ratio': mpl.ratio});\n            }\n            fig.send_message(\"refresh\", {});\n        }\n\n    this.imageObj.onload = function() {\n            if (fig.image_mode == 'full') {\n                // Full images could contain transparency (where diff images\n                // almost always do), so we need to clear the canvas so that\n                // there is no ghosting.\n                fig.context.clearRect(0, 0, fig.canvas.width, fig.canvas.height);\n            }\n            fig.context.drawImage(fig.imageObj, 0, 0);\n        };\n\n    this.imageObj.onunload = function() {\n        fig.ws.close();\n    }\n\n    this.ws.onmessage = this._make_on_message_function(this);\n\n    this.ondownload = ondownload;\n}\n\nmpl.figure.prototype._init_header = function() {\n    var titlebar = $(\n        '<div class=\"ui-dialog-titlebar ui-widget-header ui-corner-all ' +\n        'ui-helper-clearfix\"/>');\n    var titletext = $(\n        '<div class=\"ui-dialog-title\" style=\"width: 100%; ' +\n        'text-align: center; padding: 3px;\"/>');\n    titlebar.append(titletext)\n    this.root.append(titlebar);\n    this.header = titletext[0];\n}\n\n\n\nmpl.figure.prototype._canvas_extra_style = function(canvas_div) {\n\n}\n\n\nmpl.figure.prototype._root_extra_style = function(canvas_div) {\n\n}\n\nmpl.figure.prototype._init_canvas = function() {\n    var fig = this;\n\n    var canvas_div = $('<div/>');\n\n    canvas_div.attr('style', 'position: relative; clear: both; outline: 0');\n\n    function canvas_keyboard_event(event) {\n        return fig.key_event(event, event['data']);\n    }\n\n    canvas_div.keydown('key_press', canvas_keyboard_event);\n    canvas_div.keyup('key_release', canvas_keyboard_event);\n    this.canvas_div = canvas_div\n    this._canvas_extra_style(canvas_div)\n    this.root.append(canvas_div);\n\n    var canvas = $('<canvas/>');\n    canvas.addClass('mpl-canvas');\n    canvas.attr('style', \"left: 0; top: 0; z-index: 0; outline: 0\")\n\n    this.canvas = canvas[0];\n    this.context = canvas[0].getContext(\"2d\");\n\n    var backingStore = this.context.backingStorePixelRatio ||\n\tthis.context.webkitBackingStorePixelRatio ||\n\tthis.context.mozBackingStorePixelRatio ||\n\tthis.context.msBackingStorePixelRatio ||\n\tthis.context.oBackingStorePixelRatio ||\n\tthis.context.backingStorePixelRatio || 1;\n\n    mpl.ratio = (window.devicePixelRatio || 1) / backingStore;\n\n    var rubberband = $('<canvas/>');\n    rubberband.attr('style', \"position: absolute; left: 0; top: 0; z-index: 1;\")\n\n    var pass_mouse_events = true;\n\n    canvas_div.resizable({\n        start: function(event, ui) {\n            pass_mouse_events = false;\n        },\n        resize: function(event, ui) {\n            fig.request_resize(ui.size.width, ui.size.height);\n        },\n        stop: function(event, ui) {\n            pass_mouse_events = true;\n            fig.request_resize(ui.size.width, ui.size.height);\n        },\n    });\n\n    function mouse_event_fn(event) {\n        if (pass_mouse_events)\n            return fig.mouse_event(event, event['data']);\n    }\n\n    rubberband.mousedown('button_press', mouse_event_fn);\n    rubberband.mouseup('button_release', mouse_event_fn);\n    // Throttle sequential mouse events to 1 every 20ms.\n    rubberband.mousemove('motion_notify', mouse_event_fn);\n\n    rubberband.mouseenter('figure_enter', mouse_event_fn);\n    rubberband.mouseleave('figure_leave', mouse_event_fn);\n\n    canvas_div.on(\"wheel\", function (event) {\n        event = event.originalEvent;\n        event['data'] = 'scroll'\n        if (event.deltaY < 0) {\n            event.step = 1;\n        } else {\n            event.step = -1;\n        }\n        mouse_event_fn(event);\n    });\n\n    canvas_div.append(canvas);\n    canvas_div.append(rubberband);\n\n    this.rubberband = rubberband;\n    this.rubberband_canvas = rubberband[0];\n    this.rubberband_context = rubberband[0].getContext(\"2d\");\n    this.rubberband_context.strokeStyle = \"#000000\";\n\n    this._resize_canvas = function(width, height) {\n        // Keep the size of the canvas, canvas container, and rubber band\n        // canvas in synch.\n        canvas_div.css('width', width)\n        canvas_div.css('height', height)\n\n        canvas.attr('width', width * mpl.ratio);\n        canvas.attr('height', height * mpl.ratio);\n        canvas.attr('style', 'width: ' + width + 'px; height: ' + height + 'px;');\n\n        rubberband.attr('width', width);\n        rubberband.attr('height', height);\n    }\n\n    // Set the figure to an initial 600x600px, this will subsequently be updated\n    // upon first draw.\n    this._resize_canvas(600, 600);\n\n    // Disable right mouse context menu.\n    $(this.rubberband_canvas).bind(\"contextmenu\",function(e){\n        return false;\n    });\n\n    function set_focus () {\n        canvas.focus();\n        canvas_div.focus();\n    }\n\n    window.setTimeout(set_focus, 100);\n}\n\nmpl.figure.prototype._init_toolbar = function() {\n    var fig = this;\n\n    var nav_element = $('<div/>');\n    nav_element.attr('style', 'width: 100%');\n    this.root.append(nav_element);\n\n    // Define a callback function for later on.\n    function toolbar_event(event) {\n        return fig.toolbar_button_onclick(event['data']);\n    }\n    function toolbar_mouse_event(event) {\n        return fig.toolbar_button_onmouseover(event['data']);\n    }\n\n    for(var toolbar_ind in mpl.toolbar_items) {\n        var name = mpl.toolbar_items[toolbar_ind][0];\n        var tooltip = mpl.toolbar_items[toolbar_ind][1];\n        var image = mpl.toolbar_items[toolbar_ind][2];\n        var method_name = mpl.toolbar_items[toolbar_ind][3];\n\n        if (!name) {\n            // put a spacer in here.\n            continue;\n        }\n        var button = $('<button/>');\n        button.addClass('ui-button ui-widget ui-state-default ui-corner-all ' +\n                        'ui-button-icon-only');\n        button.attr('role', 'button');\n        button.attr('aria-disabled', 'false');\n        button.click(method_name, toolbar_event);\n        button.mouseover(tooltip, toolbar_mouse_event);\n\n        var icon_img = $('<span/>');\n        icon_img.addClass('ui-button-icon-primary ui-icon');\n        icon_img.addClass(image);\n        icon_img.addClass('ui-corner-all');\n\n        var tooltip_span = $('<span/>');\n        tooltip_span.addClass('ui-button-text');\n        tooltip_span.html(tooltip);\n\n        button.append(icon_img);\n        button.append(tooltip_span);\n\n        nav_element.append(button);\n    }\n\n    var fmt_picker_span = $('<span/>');\n\n    var fmt_picker = $('<select/>');\n    fmt_picker.addClass('mpl-toolbar-option ui-widget ui-widget-content');\n    fmt_picker_span.append(fmt_picker);\n    nav_element.append(fmt_picker_span);\n    this.format_dropdown = fmt_picker[0];\n\n    for (var ind in mpl.extensions) {\n        var fmt = mpl.extensions[ind];\n        var option = $(\n            '<option/>', {selected: fmt === mpl.default_extension}).html(fmt);\n        fmt_picker.append(option);\n    }\n\n    // Add hover states to the ui-buttons\n    $( \".ui-button\" ).hover(\n        function() { $(this).addClass(\"ui-state-hover\");},\n        function() { $(this).removeClass(\"ui-state-hover\");}\n    );\n\n    var status_bar = $('<span class=\"mpl-message\"/>');\n    nav_element.append(status_bar);\n    this.message = status_bar[0];\n}\n\nmpl.figure.prototype.request_resize = function(x_pixels, y_pixels) {\n    // Request matplotlib to resize the figure. Matplotlib will then trigger a resize in the client,\n    // which will in turn request a refresh of the image.\n    this.send_message('resize', {'width': x_pixels, 'height': y_pixels});\n}\n\nmpl.figure.prototype.send_message = function(type, properties) {\n    properties['type'] = type;\n    properties['figure_id'] = this.id;\n    this.ws.send(JSON.stringify(properties));\n}\n\nmpl.figure.prototype.send_draw_message = function() {\n    if (!this.waiting) {\n        this.waiting = true;\n        this.ws.send(JSON.stringify({type: \"draw\", figure_id: this.id}));\n    }\n}\n\n\nmpl.figure.prototype.handle_save = function(fig, msg) {\n    var format_dropdown = fig.format_dropdown;\n    var format = format_dropdown.options[format_dropdown.selectedIndex].value;\n    fig.ondownload(fig, format);\n}\n\n\nmpl.figure.prototype.handle_resize = function(fig, msg) {\n    var size = msg['size'];\n    if (size[0] != fig.canvas.width || size[1] != fig.canvas.height) {\n        fig._resize_canvas(size[0], size[1]);\n        fig.send_message(\"refresh\", {});\n    };\n}\n\nmpl.figure.prototype.handle_rubberband = function(fig, msg) {\n    var x0 = msg['x0'] / mpl.ratio;\n    var y0 = (fig.canvas.height - msg['y0']) / mpl.ratio;\n    var x1 = msg['x1'] / mpl.ratio;\n    var y1 = (fig.canvas.height - msg['y1']) / mpl.ratio;\n    x0 = Math.floor(x0) + 0.5;\n    y0 = Math.floor(y0) + 0.5;\n    x1 = Math.floor(x1) + 0.5;\n    y1 = Math.floor(y1) + 0.5;\n    var min_x = Math.min(x0, x1);\n    var min_y = Math.min(y0, y1);\n    var width = Math.abs(x1 - x0);\n    var height = Math.abs(y1 - y0);\n\n    fig.rubberband_context.clearRect(\n        0, 0, fig.canvas.width, fig.canvas.height);\n\n    fig.rubberband_context.strokeRect(min_x, min_y, width, height);\n}\n\nmpl.figure.prototype.handle_figure_label = function(fig, msg) {\n    // Updates the figure title.\n    fig.header.textContent = msg['label'];\n}\n\nmpl.figure.prototype.handle_cursor = function(fig, msg) {\n    var cursor = msg['cursor'];\n    switch(cursor)\n    {\n    case 0:\n        cursor = 'pointer';\n        break;\n    case 1:\n        cursor = 'default';\n        break;\n    case 2:\n        cursor = 'crosshair';\n        break;\n    case 3:\n        cursor = 'move';\n        break;\n    }\n    fig.rubberband_canvas.style.cursor = cursor;\n}\n\nmpl.figure.prototype.handle_message = function(fig, msg) {\n    fig.message.textContent = msg['message'];\n}\n\nmpl.figure.prototype.handle_draw = function(fig, msg) {\n    // Request the server to send over a new figure.\n    fig.send_draw_message();\n}\n\nmpl.figure.prototype.handle_image_mode = function(fig, msg) {\n    fig.image_mode = msg['mode'];\n}\n\nmpl.figure.prototype.updated_canvas_event = function() {\n    // Called whenever the canvas gets updated.\n    this.send_message(\"ack\", {});\n}\n\n// A function to construct a web socket function for onmessage handling.\n// Called in the figure constructor.\nmpl.figure.prototype._make_on_message_function = function(fig) {\n    return function socket_on_message(evt) {\n        if (evt.data instanceof Blob) {\n            /* FIXME: We get \"Resource interpreted as Image but\n             * transferred with MIME type text/plain:\" errors on\n             * Chrome.  But how to set the MIME type?  It doesn't seem\n             * to be part of the websocket stream */\n            evt.data.type = \"image/png\";\n\n            /* Free the memory for the previous frames */\n            if (fig.imageObj.src) {\n                (window.URL || window.webkitURL).revokeObjectURL(\n                    fig.imageObj.src);\n            }\n\n            fig.imageObj.src = (window.URL || window.webkitURL).createObjectURL(\n                evt.data);\n            fig.updated_canvas_event();\n            fig.waiting = false;\n            return;\n        }\n        else if (typeof evt.data === 'string' && evt.data.slice(0, 21) == \"data:image/png;base64\") {\n            fig.imageObj.src = evt.data;\n            fig.updated_canvas_event();\n            fig.waiting = false;\n            return;\n        }\n\n        var msg = JSON.parse(evt.data);\n        var msg_type = msg['type'];\n\n        // Call the  \"handle_{type}\" callback, which takes\n        // the figure and JSON message as its only arguments.\n        try {\n            var callback = fig[\"handle_\" + msg_type];\n        } catch (e) {\n            console.log(\"No handler for the '\" + msg_type + \"' message type: \", msg);\n            return;\n        }\n\n        if (callback) {\n            try {\n                // console.log(\"Handling '\" + msg_type + \"' message: \", msg);\n                callback(fig, msg);\n            } catch (e) {\n                console.log(\"Exception inside the 'handler_\" + msg_type + \"' callback:\", e, e.stack, msg);\n            }\n        }\n    };\n}\n\n// from http://stackoverflow.com/questions/1114465/getting-mouse-location-in-canvas\nmpl.findpos = function(e) {\n    //this section is from http://www.quirksmode.org/js/events_properties.html\n    var targ;\n    if (!e)\n        e = window.event;\n    if (e.target)\n        targ = e.target;\n    else if (e.srcElement)\n        targ = e.srcElement;\n    if (targ.nodeType == 3) // defeat Safari bug\n        targ = targ.parentNode;\n\n    // jQuery normalizes the pageX and pageY\n    // pageX,Y are the mouse positions relative to the document\n    // offset() returns the position of the element relative to the document\n    var x = e.pageX - $(targ).offset().left;\n    var y = e.pageY - $(targ).offset().top;\n\n    return {\"x\": x, \"y\": y};\n};\n\n/*\n * return a copy of an object with only non-object keys\n * we need this to avoid circular references\n * http://stackoverflow.com/a/24161582/3208463\n */\nfunction simpleKeys (original) {\n  return Object.keys(original).reduce(function (obj, key) {\n    if (typeof original[key] !== 'object')\n        obj[key] = original[key]\n    return obj;\n  }, {});\n}\n\nmpl.figure.prototype.mouse_event = function(event, name) {\n    var canvas_pos = mpl.findpos(event)\n\n    if (name === 'button_press')\n    {\n        this.canvas.focus();\n        this.canvas_div.focus();\n    }\n\n    var x = canvas_pos.x * mpl.ratio;\n    var y = canvas_pos.y * mpl.ratio;\n\n    this.send_message(name, {x: x, y: y, button: event.button,\n                             step: event.step,\n                             guiEvent: simpleKeys(event)});\n\n    /* This prevents the web browser from automatically changing to\n     * the text insertion cursor when the button is pressed.  We want\n     * to control all of the cursor setting manually through the\n     * 'cursor' event from matplotlib */\n    event.preventDefault();\n    return false;\n}\n\nmpl.figure.prototype._key_event_extra = function(event, name) {\n    // Handle any extra behaviour associated with a key event\n}\n\nmpl.figure.prototype.key_event = function(event, name) {\n\n    // Prevent repeat events\n    if (name == 'key_press')\n    {\n        if (event.which === this._key)\n            return;\n        else\n            this._key = event.which;\n    }\n    if (name == 'key_release')\n        this._key = null;\n\n    var value = '';\n    if (event.ctrlKey && event.which != 17)\n        value += \"ctrl+\";\n    if (event.altKey && event.which != 18)\n        value += \"alt+\";\n    if (event.shiftKey && event.which != 16)\n        value += \"shift+\";\n\n    value += 'k';\n    value += event.which.toString();\n\n    this._key_event_extra(event, name);\n\n    this.send_message(name, {key: value,\n                             guiEvent: simpleKeys(event)});\n    return false;\n}\n\nmpl.figure.prototype.toolbar_button_onclick = function(name) {\n    if (name == 'download') {\n        this.handle_save(this, null);\n    } else {\n        this.send_message(\"toolbar_button\", {name: name});\n    }\n};\n\nmpl.figure.prototype.toolbar_button_onmouseover = function(tooltip) {\n    this.message.textContent = tooltip;\n};\nmpl.toolbar_items = [[\"Home\", \"Reset original view\", \"fa fa-home icon-home\", \"home\"], [\"Back\", \"Back to previous view\", \"fa fa-arrow-left icon-arrow-left\", \"back\"], [\"Forward\", \"Forward to next view\", \"fa fa-arrow-right icon-arrow-right\", \"forward\"], [\"\", \"\", \"\", \"\"], [\"Pan\", \"Pan axes with left mouse, zoom with right\", \"fa fa-arrows icon-move\", \"pan\"], [\"Zoom\", \"Zoom to rectangle\", \"fa fa-square-o icon-check-empty\", \"zoom\"], [\"\", \"\", \"\", \"\"], [\"Download\", \"Download plot\", \"fa fa-floppy-o icon-save\", \"download\"]];\n\nmpl.extensions = [\"eps\", \"jpeg\", \"pdf\", \"png\", \"ps\", \"raw\", \"svg\", \"tif\"];\n\nmpl.default_extension = \"png\";var comm_websocket_adapter = function(comm) {\n    // Create a \"websocket\"-like object which calls the given IPython comm\n    // object with the appropriate methods. Currently this is a non binary\n    // socket, so there is still some room for performance tuning.\n    var ws = {};\n\n    ws.close = function() {\n        comm.close()\n    };\n    ws.send = function(m) {\n        //console.log('sending', m);\n        comm.send(m);\n    };\n    // Register the callback with on_msg.\n    comm.on_msg(function(msg) {\n        //console.log('receiving', msg['content']['data'], msg);\n        // Pass the mpl event to the overridden (by mpl) onmessage function.\n        ws.onmessage(msg['content']['data'])\n    });\n    return ws;\n}\n\nmpl.mpl_figure_comm = function(comm, msg) {\n    // This is the function which gets called when the mpl process\n    // starts-up an IPython Comm through the \"matplotlib\" channel.\n\n    var id = msg.content.data.id;\n    // Get hold of the div created by the display call when the Comm\n    // socket was opened in Python.\n    var element = $(\"#\" + id);\n    var ws_proxy = comm_websocket_adapter(comm)\n\n    function ondownload(figure, format) {\n        window.open(figure.imageObj.src);\n    }\n\n    var fig = new mpl.figure(id, ws_proxy,\n                           ondownload,\n                           element.get(0));\n\n    // Call onopen now - mpl needs it, as it is assuming we've passed it a real\n    // web socket which is closed, not our websocket->open comm proxy.\n    ws_proxy.onopen();\n\n    fig.parent_element = element.get(0);\n    fig.cell_info = mpl.find_output_cell(\"<div id='\" + id + \"'></div>\");\n    if (!fig.cell_info) {\n        console.error(\"Failed to find cell for figure\", id, fig);\n        return;\n    }\n\n    var output_index = fig.cell_info[2]\n    var cell = fig.cell_info[0];\n\n};\n\nmpl.figure.prototype.handle_close = function(fig, msg) {\n    var width = fig.canvas.width/mpl.ratio\n    fig.root.unbind('remove')\n\n    // Update the output cell to use the data from the current canvas.\n    fig.push_to_output();\n    var dataURL = fig.canvas.toDataURL();\n    // Re-enable the keyboard manager in IPython - without this line, in FF,\n    // the notebook keyboard shortcuts fail.\n    IPython.keyboard_manager.enable()\n    $(fig.parent_element).html('<img src=\"' + dataURL + '\" width=\"' + width + '\">');\n    fig.close_ws(fig, msg);\n}\n\nmpl.figure.prototype.close_ws = function(fig, msg){\n    fig.send_message('closing', msg);\n    // fig.ws.close()\n}\n\nmpl.figure.prototype.push_to_output = function(remove_interactive) {\n    // Turn the data on the canvas into data in the output cell.\n    var width = this.canvas.width/mpl.ratio\n    var dataURL = this.canvas.toDataURL();\n    this.cell_info[1]['text/html'] = '<img src=\"' + dataURL + '\" width=\"' + width + '\">';\n}\n\nmpl.figure.prototype.updated_canvas_event = function() {\n    // Tell IPython that the notebook contents must change.\n    IPython.notebook.set_dirty(true);\n    this.send_message(\"ack\", {});\n    var fig = this;\n    // Wait a second, then push the new image to the DOM so\n    // that it is saved nicely (might be nice to debounce this).\n    setTimeout(function () { fig.push_to_output() }, 1000);\n}\n\nmpl.figure.prototype._init_toolbar = function() {\n    var fig = this;\n\n    var nav_element = $('<div/>');\n    nav_element.attr('style', 'width: 100%');\n    this.root.append(nav_element);\n\n    // Define a callback function for later on.\n    function toolbar_event(event) {\n        return fig.toolbar_button_onclick(event['data']);\n    }\n    function toolbar_mouse_event(event) {\n        return fig.toolbar_button_onmouseover(event['data']);\n    }\n\n    for(var toolbar_ind in mpl.toolbar_items){\n        var name = mpl.toolbar_items[toolbar_ind][0];\n        var tooltip = mpl.toolbar_items[toolbar_ind][1];\n        var image = mpl.toolbar_items[toolbar_ind][2];\n        var method_name = mpl.toolbar_items[toolbar_ind][3];\n\n        if (!name) { continue; };\n\n        var button = $('<button class=\"btn btn-default\" href=\"#\" title=\"' + name + '\"><i class=\"fa ' + image + ' fa-lg\"></i></button>');\n        button.click(method_name, toolbar_event);\n        button.mouseover(tooltip, toolbar_mouse_event);\n        nav_element.append(button);\n    }\n\n    // Add the status bar.\n    var status_bar = $('<span class=\"mpl-message\" style=\"text-align:right; float: right;\"/>');\n    nav_element.append(status_bar);\n    this.message = status_bar[0];\n\n    // Add the close button to the window.\n    var buttongrp = $('<div class=\"btn-group inline pull-right\"></div>');\n    var button = $('<button class=\"btn btn-mini btn-primary\" href=\"#\" title=\"Stop Interaction\"><i class=\"fa fa-power-off icon-remove icon-large\"></i></button>');\n    button.click(function (evt) { fig.handle_close(fig, {}); } );\n    button.mouseover('Stop Interaction', toolbar_mouse_event);\n    buttongrp.append(button);\n    var titlebar = this.root.find($('.ui-dialog-titlebar'));\n    titlebar.prepend(buttongrp);\n}\n\nmpl.figure.prototype._root_extra_style = function(el){\n    var fig = this\n    el.on(\"remove\", function(){\n\tfig.close_ws(fig, {});\n    });\n}\n\nmpl.figure.prototype._canvas_extra_style = function(el){\n    // this is important to make the div 'focusable\n    el.attr('tabindex', 0)\n    // reach out to IPython and tell the keyboard manager to turn it's self\n    // off when our div gets focus\n\n    // location in version 3\n    if (IPython.notebook.keyboard_manager) {\n        IPython.notebook.keyboard_manager.register_events(el);\n    }\n    else {\n        // location in version 2\n        IPython.keyboard_manager.register_events(el);\n    }\n\n}\n\nmpl.figure.prototype._key_event_extra = function(event, name) {\n    var manager = IPython.notebook.keyboard_manager;\n    if (!manager)\n        manager = IPython.keyboard_manager;\n\n    // Check for shift+enter\n    if (event.shiftKey && event.which == 13) {\n        this.canvas_div.blur();\n        event.shiftKey = false;\n        // Send a \"J\" for go to next cell\n        event.which = 74;\n        event.keyCode = 74;\n        manager.command_mode();\n        manager.handle_keydown(event);\n    }\n}\n\nmpl.figure.prototype.handle_save = function(fig, msg) {\n    fig.ondownload(fig, null);\n}\n\n\nmpl.find_output_cell = function(html_output) {\n    // Return the cell and output element which can be found *uniquely* in the notebook.\n    // Note - this is a bit hacky, but it is done because the \"notebook_saving.Notebook\"\n    // IPython event is triggered only after the cells have been serialised, which for\n    // our purposes (turning an active figure into a static one), is too late.\n    var cells = IPython.notebook.get_cells();\n    var ncells = cells.length;\n    for (var i=0; i<ncells; i++) {\n        var cell = cells[i];\n        if (cell.cell_type === 'code'){\n            for (var j=0; j<cell.output_area.outputs.length; j++) {\n                var data = cell.output_area.outputs[j];\n                if (data.data) {\n                    // IPython >= 3 moved mimebundle to data attribute of output\n                    data = data.data;\n                }\n                if (data['text/html'] == html_output) {\n                    return [cell, data, j];\n                }\n            }\n        }\n    }\n}\n\n// Register the function which deals with the matplotlib target/channel.\n// The kernel may be null if the page has been refreshed.\nif (IPython.notebook.kernel != null) {\n    IPython.notebook.kernel.comm_manager.register_target('matplotlib', mpl.mpl_figure_comm);\n}\n",
          "text/plain": "<IPython.core.display.Javascript object>"
         },
         "metadata": {},
         "output_type": "display_data"
        },
        {
         "data": {
          "text/html": "<div id='6aff426f-0346-42b6-8b98-2f816139254b'></div>",
          "text/plain": "<IPython.core.display.HTML object>"
         },
         "metadata": {},
         "output_type": "display_data"
        }
       ]
      }
     },
     "80fddf3242fa4cc3887779b4e98817b7": {
      "model_module": "@jupyter-widgets/controls",
      "model_module_version": "1.5.0",
      "model_name": "VBoxModel",
      "state": {
       "children": [
        "IPY_MODEL_321e255bf00e4328b8c67abfbcb127b4",
        "IPY_MODEL_7aedf9be9d75452ba5305a88b55457cd",
        "IPY_MODEL_f2c01b7eeeb24cdf99797cd9f4abe089"
       ],
       "layout": "IPY_MODEL_ba69445f60fb444f8227ad24c2c6e288"
      }
     },
     "812719092add4d78af6d98c7e4aeed3a": {
      "model_module": "@jupyter-widgets/controls",
      "model_module_version": "1.5.0",
      "model_name": "HBoxModel",
      "state": {
       "children": [
        "IPY_MODEL_8ce01a1245dd4a078756b391ef1f4d80"
       ],
       "layout": "IPY_MODEL_25eabca3ff6248968161c11dc6d442dc"
      }
     },
     "82a1e1a8a2d142d3b256e9697dc18869": {
      "model_module": "@jupyter-widgets/base",
      "model_module_version": "1.2.0",
      "model_name": "LayoutModel",
      "state": {
       "width": "125px"
      }
     },
     "843a1b11ffa5493b9766d438c52b441b": {
      "model_module": "@jupyter-widgets/output",
      "model_module_version": "1.0.0",
      "model_name": "OutputModel",
      "state": {
       "layout": "IPY_MODEL_fcc23c9a72344f3d9fb0bb0568af533f"
      }
     },
     "85215fddb6f744b3a1caa13e9bd3a5ab": {
      "model_module": "@jupyter-widgets/output",
      "model_module_version": "1.0.0",
      "model_name": "OutputModel",
      "state": {
       "layout": "IPY_MODEL_f438b57386b7441586b9dc28a4e871e0"
      }
     },
     "854656e0e0a7422cb616c24789936f3c": {
      "model_module": "@jupyter-widgets/controls",
      "model_module_version": "1.5.0",
      "model_name": "VBoxModel",
      "state": {
       "children": [
        "IPY_MODEL_2dd009e69c9c4dbdbbb7cafa557d8c6a",
        "IPY_MODEL_750c46cf04334f82b22b71977fe6321c",
        "IPY_MODEL_01db395b454f4463921896a0d07a2cc1"
       ],
       "layout": "IPY_MODEL_6b974554ee5040d8bbfb1e7c5214af18"
      }
     },
     "87083a2e616c42919d06c5579646e9ea": {
      "model_module": "@jupyter-widgets/base",
      "model_module_version": "1.2.0",
      "model_name": "LayoutModel",
      "state": {
       "align_items": "center",
       "display": "flex",
       "flex_flow": "row",
       "width": "100%"
      }
     },
     "888dd78d351e4206ba48c430c0d02c8e": {
      "model_module": "@jupyter-widgets/base",
      "model_module_version": "1.2.0",
      "model_name": "LayoutModel",
      "state": {}
     },
     "8a7f90877a374302b1e291df5286194c": {
      "model_module": "@jupyter-widgets/output",
      "model_module_version": "1.0.0",
      "model_name": "OutputModel",
      "state": {
       "layout": "IPY_MODEL_8060d874d5aa46008583546f348a1ae6"
      }
     },
     "8c61a8d91e1b483b881e4b40a2a183bb": {
      "model_module": "@jupyter-widgets/controls",
      "model_module_version": "1.5.0",
      "model_name": "VBoxModel",
      "state": {
       "children": [
        "IPY_MODEL_5f432e34568244aeb6200dd0fae46004",
        "IPY_MODEL_a3d8d58dc311489ea06a4aefffe2a13f",
        "IPY_MODEL_a4e843e824114a2fb352f3273577b007"
       ],
       "layout": "IPY_MODEL_ee7456ce521649349722eecf35d41315"
      }
     },
     "8c7f78b5f40244b591b7f4d9cbb227de": {
      "model_module": "@jupyter-widgets/controls",
      "model_module_version": "1.5.0",
      "model_name": "BoundedIntTextModel",
      "state": {
       "description": "$\\left| m \\right|$",
       "layout": "IPY_MODEL_1937e20552fd4255aa329411b05004c8",
       "max": 0,
       "style": "IPY_MODEL_4590b32bf38542459dfdb840ee0d4ae0"
      }
     },
     "8c87d37ddef0473ca3d3c5cd187533cb": {
      "model_module": "@jupyter-widgets/base",
      "model_module_version": "1.2.0",
      "model_name": "LayoutModel",
      "state": {
       "width": "125px"
      }
     },
     "8c9d647568c64168ae06f094d89eed4d": {
      "model_module": "@jupyter-widgets/controls",
      "model_module_version": "1.5.0",
      "model_name": "BoundedIntTextModel",
      "state": {
       "description": "$l$",
       "layout": "IPY_MODEL_26d03eb58004452ea7d6775e2c9300ca",
       "max": 0,
       "style": "IPY_MODEL_b655fc1907f7466c9b978528f082d028"
      }
     },
     "8ce01a1245dd4a078756b391ef1f4d80": {
      "model_module": "@jupyter-widgets/output",
      "model_module_version": "1.0.0",
      "model_name": "OutputModel",
      "state": {
       "layout": "IPY_MODEL_b5df624c348f4664b91384501751a341"
      }
     },
     "906e7f3e5caa4227b5a8b54d7b12651c": {
      "model_module": "@jupyter-widgets/controls",
      "model_module_version": "1.5.0",
      "model_name": "BoundedIntTextModel",
      "state": {
       "description": "$\\left| m \\right|$",
       "layout": "IPY_MODEL_cd5e4f02ad514448b934fe7a06b61256",
       "max": 0,
       "style": "IPY_MODEL_71c4fdc9f6994c94909ac02ff110f9e7"
      }
     },
     "914da16d78c94535b831eb372164e8c6": {
      "model_module": "@jupyter-widgets/controls",
      "model_module_version": "1.5.0",
      "model_name": "HBoxModel",
      "state": {
       "children": [
        "IPY_MODEL_1705771b77b04811992076f48cbc4d1a"
       ],
       "layout": "IPY_MODEL_9d331e6bd14645d192583a5a3dd03b08"
      }
     },
     "93ebbf55be0c4499b99d91fc308acce4": {
      "model_module": "@jupyter-widgets/controls",
      "model_module_version": "1.5.0",
      "model_name": "IntSliderModel",
      "state": {
       "description": "# of points",
       "layout": "IPY_MODEL_39594ce28e8d4aaaa8e137649e1e6734",
       "max": 10000,
       "min": 500,
       "orientation": "vertical",
       "style": "IPY_MODEL_9850b24c23464f54b213b6d6f5cb31eb",
       "value": 1000
      }
     },
     "9553e0a0184c41368d7ec16671947664": {
      "model_module": "@jupyter-widgets/base",
      "model_module_version": "1.2.0",
      "model_name": "LayoutModel",
      "state": {}
     },
     "9801219d9ef6413f96d047df36f72f7c": {
      "model_module": "@jupyter-widgets/base",
      "model_module_version": "1.2.0",
      "model_name": "LayoutModel",
      "state": {}
     },
     "9850b24c23464f54b213b6d6f5cb31eb": {
      "model_module": "@jupyter-widgets/controls",
      "model_module_version": "1.5.0",
      "model_name": "SliderStyleModel",
      "state": {
       "description_width": ""
      }
     },
     "9a5eef941ee4480980c66871fae55099": {
      "model_module": "@jupyter-widgets/controls",
      "model_module_version": "1.5.0",
      "model_name": "ButtonStyleModel",
      "state": {
       "button_color": "lightgreen"
      }
     },
     "9b0a16bb9217470e9ea5f99ef4f5510c": {
      "model_module": "@jupyter-widgets/controls",
      "model_module_version": "1.5.0",
      "model_name": "ButtonStyleModel",
      "state": {
       "button_color": "lightgreen"
      }
     },
     "9b4966e3a45945a3befc38980b6e1238": {
      "model_module": "@jupyter-widgets/controls",
      "model_module_version": "1.5.0",
      "model_name": "BoundedIntTextModel",
      "state": {
       "description": "$Z$",
       "layout": "IPY_MODEL_01177e6248334381a320a981ba784c08",
       "max": 180,
       "min": 1,
       "style": "IPY_MODEL_389d1880f32942ab8667fd7fff7000d3",
       "value": 1
      }
     },
     "9cd378caad3847e18cfbead40c5be038": {
      "model_module": "@jupyter-widgets/controls",
      "model_module_version": "1.5.0",
      "model_name": "DescriptionStyleModel",
      "state": {
       "description_width": "50px"
      }
     },
     "9d331e6bd14645d192583a5a3dd03b08": {
      "model_module": "@jupyter-widgets/base",
      "model_module_version": "1.2.0",
      "model_name": "LayoutModel",
      "state": {
       "align_items": "center",
       "display": "flex",
       "flex_flow": "column",
       "width": "50%"
      }
     },
     "9e8da68343184d4eaab2f6a8fd3102a2": {
      "model_module": "@jupyter-widgets/controls",
      "model_module_version": "1.5.0",
      "model_name": "DescriptionStyleModel",
      "state": {
       "description_width": "50px"
      }
     },
     "a08fbbf035934cc296369c4d8e4ec086": {
      "model_module": "@jupyter-widgets/controls",
      "model_module_version": "1.5.0",
      "model_name": "VBoxModel",
      "state": {
       "children": [
        "IPY_MODEL_e7067d39339c42e387ad35b8bbdd45cc",
        "IPY_MODEL_e5dbb2ab1f4840c08a1e1b8652eafe4b",
        "IPY_MODEL_f927f1c8367441a9a1f6287be152122c"
       ],
       "layout": "IPY_MODEL_7a76e6e1efae413dadeebe26689a89a1"
      }
     },
     "a0a9ee1664a54d18bcd49584efde4e64": {
      "model_module": "@jupyter-widgets/controls",
      "model_module_version": "1.5.0",
      "model_name": "VBoxModel",
      "state": {
       "children": [
        "IPY_MODEL_09b446240823447899faf18cff09153d",
        "IPY_MODEL_b74f0856b9434213a9176154ebb9b718",
        "IPY_MODEL_147b0c333db445778467e7dc4130706c",
        "IPY_MODEL_2d4151de977c473bbc32b02396136110",
        "IPY_MODEL_9b4966e3a45945a3befc38980b6e1238",
        "IPY_MODEL_72f8d4331ff54d6197f6a12ebc36de8b",
        "IPY_MODEL_7ea6077763734659a0d42a5fa0f9ad76",
        "IPY_MODEL_7ef45bd385f14572b4dd0f5bb95f0c64"
       ],
       "layout": "IPY_MODEL_2d78062de26645f6bc9d945c641e1407"
      }
     },
     "a3bbb405b4e84b7b861adbe633fd70d7": {
      "model_module": "@jupyter-widgets/base",
      "model_module_version": "1.2.0",
      "model_name": "LayoutModel",
      "state": {}
     },
     "a3d8d58dc311489ea06a4aefffe2a13f": {
      "model_module": "@jupyter-widgets/controls",
      "model_module_version": "1.5.0",
      "model_name": "VBoxModel",
      "state": {
       "children": [
        "IPY_MODEL_722d3441826f4bda8e6db8dae5644687",
        "IPY_MODEL_bdf19d45afee48899534cc01a7144bf0"
       ],
       "layout": "IPY_MODEL_d128b64663064791946917961083ecd0"
      }
     },
     "a3df8efac4a74bc2b400713cfa45f866": {
      "model_module": "@jupyter-widgets/base",
      "model_module_version": "1.2.0",
      "model_name": "LayoutModel",
      "state": {
       "align_items": "center",
       "display": "flex",
       "flex_flow": "column wrap",
       "width": "160px"
      }
     },
     "a4193dfd14dc48568e33044cb44a83c0": {
      "model_module": "@jupyter-widgets/controls",
      "model_module_version": "1.5.0",
      "model_name": "VBoxModel",
      "state": {
       "children": [
        "IPY_MODEL_40ba38d7f7fe4bf09b24db7c064fd237",
        "IPY_MODEL_ba7cbedb430440b9a7c596057cf240a1",
        "IPY_MODEL_7d0812a571454fb08fa48f669ce972a9",
        "IPY_MODEL_e0099a6b9f8a438eb58470abcc6b2a2c",
        "IPY_MODEL_c4a778d2f0474e31afa8d1a3fc49ea5a",
        "IPY_MODEL_11284ac0a22b450c8e4747bbc68391eb",
        "IPY_MODEL_7f4e6a7308e941e1b6d8ef8f293e8d70",
        "IPY_MODEL_dc09b1472dcb434ca7bf673114af1188"
       ],
       "layout": "IPY_MODEL_ecff2954613d440e9e6928a56196c47a"
      }
     },
     "a4e843e824114a2fb352f3273577b007": {
      "model_module": "@jupyter-widgets/controls",
      "model_module_version": "1.5.0",
      "model_name": "VBoxModel",
      "state": {
       "children": [
        "IPY_MODEL_06969578093a417581ad9bd4c103597c",
        "IPY_MODEL_55d188350f804c07911e0cf95802e865",
        "IPY_MODEL_2aa0a2699b6346799f305ff2f1dfffe5"
       ],
       "layout": "IPY_MODEL_eefd652afff143c9a8fd022571af17f9"
      }
     },
     "a51cc3223cd6436a81faca25b948f295": {
      "model_module": "@jupyter-widgets/controls",
      "model_module_version": "1.5.0",
      "model_name": "HBoxModel",
      "state": {
       "children": [
        "IPY_MODEL_3056ee1bab9143d2b671846d74923a1d"
       ],
       "layout": "IPY_MODEL_e25dc6d7be7747339c444ede92944741"
      }
     },
     "a57f5d1f708544fea0228038271fc8d5": {
      "model_module": "@jupyter-widgets/controls",
      "model_module_version": "1.5.0",
      "model_name": "DescriptionStyleModel",
      "state": {
       "description_width": "50px"
      }
     },
     "a5f31d69615b4b9bb451226ea6273e85": {
      "model_module": "@jupyter-widgets/controls",
      "model_module_version": "1.5.0",
      "model_name": "ButtonModel",
      "state": {
       "description": "Reset",
       "layout": "IPY_MODEL_ffc45eb0fb764c49b4379ed1d0b7bffb",
       "style": "IPY_MODEL_2766c0e901794e7b91c881080593445e"
      }
     },
     "a8bf22697bee40c2a670dfe1e5478dba": {
      "model_module": "@jupyter-widgets/base",
      "model_module_version": "1.2.0",
      "model_name": "LayoutModel",
      "state": {
       "width": "125px"
      }
     },
     "a9412ec6913a47de9b36f3be3907925c": {
      "model_module": "@jupyter-widgets/base",
      "model_module_version": "1.2.0",
      "model_name": "LayoutModel",
      "state": {
       "align_items": "center",
       "display": "flex",
       "flex_flow": "column wrap",
       "width": "160px"
      }
     },
     "ad52cbae96324f3798acba3b80933989": {
      "model_module": "@jupyter-widgets/base",
      "model_module_version": "1.2.0",
      "model_name": "LayoutModel",
      "state": {
       "height": "100%"
      }
     },
     "ae8cdc2d7f5c400e9ad754d96018a490": {
      "model_module": "@jupyter-widgets/controls",
      "model_module_version": "1.5.0",
      "model_name": "HBoxModel",
      "state": {
       "children": [
        "IPY_MODEL_a0a9ee1664a54d18bcd49584efde4e64",
        "IPY_MODEL_32ebfc58012c49328426ce76db7cc542"
       ],
       "layout": "IPY_MODEL_515476785f8b44998697949b16129f7f"
      }
     },
     "ae8df00557054634999528723c1a8201": {
      "model_module": "@jupyter-widgets/base",
      "model_module_version": "1.2.0",
      "model_name": "LayoutModel",
      "state": {}
     },
     "aee5c9f248a64f3cb71f32e644447846": {
      "model_module": "@jupyter-widgets/base",
      "model_module_version": "1.2.0",
      "model_name": "LayoutModel",
      "state": {}
     },
     "b3f9afae639c4803875878cb358a81ee": {
      "model_module": "@jupyter-widgets/base",
      "model_module_version": "1.2.0",
      "model_name": "LayoutModel",
      "state": {
       "align_items": "center",
       "display": "flex",
       "flex_flow": "row",
       "width": "100%"
      }
     },
     "b5df624c348f4664b91384501751a341": {
      "model_module": "@jupyter-widgets/base",
      "model_module_version": "1.2.0",
      "model_name": "LayoutModel",
      "state": {}
     },
     "b62c8c519e894ecab4be24c816d746d1": {
      "model_module": "@jupyter-widgets/controls",
      "model_module_version": "1.5.0",
      "model_name": "SliderStyleModel",
      "state": {
       "description_width": ""
      }
     },
     "b655fc1907f7466c9b978528f082d028": {
      "model_module": "@jupyter-widgets/controls",
      "model_module_version": "1.5.0",
      "model_name": "DescriptionStyleModel",
      "state": {
       "description_width": "50px"
      }
     },
     "b74f0856b9434213a9176154ebb9b718": {
      "model_module": "@jupyter-widgets/controls",
      "model_module_version": "1.5.0",
      "model_name": "BoundedIntTextModel",
      "state": {
       "description": "$l$",
       "layout": "IPY_MODEL_5b3ed74f49234b158d59f14c67ffa8c4",
       "max": 2,
       "style": "IPY_MODEL_1d97b849e2e648319c083f532d74ad62",
       "value": 2
      }
     },
     "b93bc9c42a7646aea2c332f22bd8c857": {
      "model_module": "@jupyter-widgets/base",
      "model_module_version": "1.2.0",
      "model_name": "LayoutModel",
      "state": {}
     },
     "b9533b3cb6974474bd8d4f00632023a3": {
      "model_module": "@jupyter-widgets/base",
      "model_module_version": "1.2.0",
      "model_name": "LayoutModel",
      "state": {
       "display": "none",
       "width": "125px"
      }
     },
     "ba3bc011e7cf4fc3ac61446a82513871": {
      "model_module": "@jupyter-widgets/base",
      "model_module_version": "1.2.0",
      "model_name": "LayoutModel",
      "state": {
       "height": "100%"
      }
     },
     "ba4699ee3e5246f78a65349ce948e449": {
      "model_module": "@jupyter-widgets/output",
      "model_module_version": "1.0.0",
      "model_name": "OutputModel",
      "state": {
       "layout": "IPY_MODEL_bfb42e7cce8f49cc9a83b0ae1e7cbfea"
      }
     },
     "ba69445f60fb444f8227ad24c2c6e288": {
      "model_module": "@jupyter-widgets/base",
      "model_module_version": "1.2.0",
      "model_name": "LayoutModel",
      "state": {
       "align_items": "center",
       "display": "flex",
       "flex_flow": "column",
       "width": "100%"
      }
     },
     "ba7cbedb430440b9a7c596057cf240a1": {
      "model_module": "@jupyter-widgets/controls",
      "model_module_version": "1.5.0",
      "model_name": "BoundedIntTextModel",
      "state": {
       "description": "$l$",
       "layout": "IPY_MODEL_a8bf22697bee40c2a670dfe1e5478dba",
       "max": 0,
       "style": "IPY_MODEL_6f2f601905a040878197cbb2bd436265"
      }
     },
     "bb2061c4a2c1441fa8a9aaec8b3c306b": {
      "model_module": "@jupyter-widgets/base",
      "model_module_version": "1.2.0",
      "model_name": "LayoutModel",
      "state": {
       "align_items": "center",
       "display": "flex",
       "flex_flow": "column",
       "width": "100%"
      }
     },
     "bb62176ac8b44d139f2f5703213afddd": {
      "model_module": "@jupyter-widgets/controls",
      "model_module_version": "1.5.0",
      "model_name": "ButtonStyleModel",
      "state": {
       "button_color": "coral"
      }
     },
     "bdf19d45afee48899534cc01a7144bf0": {
      "model_module": "@jupyter-widgets/controls",
      "model_module_version": "1.5.0",
      "model_name": "HBoxModel",
      "state": {
       "children": [
        "IPY_MODEL_f34065882d144deebf0074f7776f926b"
       ],
       "layout": "IPY_MODEL_503d647060164c64ba41f0ad9f27810e"
      }
     },
     "bf38af3f460543d0960bae2f0d3ae8c6": {
      "model_module": "@jupyter-widgets/output",
      "model_module_version": "1.0.0",
      "model_name": "OutputModel",
      "state": {
       "layout": "IPY_MODEL_fabc3ba1aeb34a6db27db29ae2453a67"
      }
     },
     "bf593c0497ba4db79fb94e9c1e0921c4": {
      "model_module": "@jupyter-widgets/base",
      "model_module_version": "1.2.0",
      "model_name": "LayoutModel",
      "state": {}
     },
     "bfb42e7cce8f49cc9a83b0ae1e7cbfea": {
      "model_module": "@jupyter-widgets/base",
      "model_module_version": "1.2.0",
      "model_name": "LayoutModel",
      "state": {}
     },
     "c0f12bb1021d4daf875dc2290e44c2e1": {
      "model_module": "@jupyter-widgets/base",
      "model_module_version": "1.2.0",
      "model_name": "LayoutModel",
      "state": {
       "align_items": "center",
       "display": "flex",
       "flex_flow": "column",
       "width": "100%"
      }
     },
     "c0f538f817d34811b0d0e2faf402183a": {
      "model_module": "@jupyter-widgets/base",
      "model_module_version": "1.2.0",
      "model_name": "LayoutModel",
      "state": {
       "align_items": "center",
       "display": "flex",
       "flex_flow": "column",
       "width": "100%"
      }
     },
     "c0fa3bc95bcd4ad49f99eda6e567ed0c": {
      "model_module": "@jupyter-widgets/controls",
      "model_module_version": "1.5.0",
      "model_name": "VBoxModel",
      "state": {
       "children": [
        "IPY_MODEL_610fd145c060403eb1ff7889d4debd23",
        "IPY_MODEL_01d24da61ee444029daba32a137bf4aa",
        "IPY_MODEL_06dea4b159ab437da19090632a2e2f61"
       ],
       "layout": "IPY_MODEL_bf593c0497ba4db79fb94e9c1e0921c4"
      }
     },
     "c44d868cf3e3461e92da18140af7e22b": {
      "model_module": "@jupyter-widgets/controls",
      "model_module_version": "1.5.0",
      "model_name": "DescriptionStyleModel",
      "state": {
       "description_width": "50px"
      }
     },
     "c4a778d2f0474e31afa8d1a3fc49ea5a": {
      "model_module": "@jupyter-widgets/controls",
      "model_module_version": "1.5.0",
      "model_name": "BoundedIntTextModel",
      "state": {
       "description": "$Z$",
       "layout": "IPY_MODEL_692db47f54334682884c34cde4cd1f1c",
       "max": 180,
       "min": 1,
       "style": "IPY_MODEL_f8c8ca2c770a473eb0de4499e11a3806",
       "value": 1
      }
     },
     "c5e2a3bdc566448181854629a0d0b48b": {
      "model_module": "@jupyter-widgets/controls",
      "model_module_version": "1.5.0",
      "model_name": "DescriptionStyleModel",
      "state": {
       "description_width": "50px"
      }
     },
     "c8696b9a174f4e6d9ba281202e267941": {
      "model_module": "@jupyter-widgets/base",
      "model_module_version": "1.2.0",
      "model_name": "LayoutModel",
      "state": {
       "width": "125px"
      }
     },
     "c8f1aed6e4f54c858540718a2981abe4": {
      "model_module": "@jupyter-widgets/controls",
      "model_module_version": "1.5.0",
      "model_name": "RadioButtonsModel",
      "state": {
       "_options_labels": [
        "+",
        "-"
       ],
       "description": "$Y_l^m \\pm Y_l^{-m}$",
       "index": 0,
       "layout": "IPY_MODEL_e4c9d550eb814b16831891c2b6b7d024",
       "style": "IPY_MODEL_53342164ff3e4649b3d562b7312ef6bf"
      }
     },
     "c90ad664f568421eb7334d144b859a01": {
      "model_module": "@jupyter-widgets/base",
      "model_module_version": "1.2.0",
      "model_name": "LayoutModel",
      "state": {
       "width": "125px"
      }
     },
     "c9cc30ff99da486fa7d9dcc433b4a10e": {
      "model_module": "@jupyter-widgets/base",
      "model_module_version": "1.2.0",
      "model_name": "LayoutModel",
      "state": {}
     },
     "ccf9c10f222f40d6b5ec3e27a4d7beb0": {
      "model_module": "@jupyter-widgets/controls",
      "model_module_version": "1.5.0",
      "model_name": "ButtonStyleModel",
      "state": {
       "button_color": "lightgreen"
      }
     },
     "cd5e4f02ad514448b934fe7a06b61256": {
      "model_module": "@jupyter-widgets/base",
      "model_module_version": "1.2.0",
      "model_name": "LayoutModel",
      "state": {
       "width": "125px"
      }
     },
     "cd6a38f89c8e43cf8c90a2cc341ac2b9": {
      "model_module": "@jupyter-widgets/controls",
      "model_module_version": "1.5.0",
      "model_name": "IntSliderModel",
      "state": {
       "description": "# of points",
       "layout": "IPY_MODEL_f7402653db1a4ffb8d6e3a5ef2797cce",
       "max": 10000,
       "min": 500,
       "orientation": "vertical",
       "style": "IPY_MODEL_51d7f44bc15141ecb477625e3291c3e3",
       "value": 1000
      }
     },
     "d005e94d97a74317b7ae616ad23b014b": {
      "model_module": "@jupyter-widgets/controls",
      "model_module_version": "1.5.0",
      "model_name": "DescriptionStyleModel",
      "state": {
       "description_width": ""
      }
     },
     "d128b64663064791946917961083ecd0": {
      "model_module": "@jupyter-widgets/base",
      "model_module_version": "1.2.0",
      "model_name": "LayoutModel",
      "state": {
       "align_items": "center",
       "display": "flex",
       "flex_flow": "row",
       "width": "100%"
      }
     },
     "d3a96417c81d4cb49039032a0eef7673": {
      "model_module": "@jupyter-widgets/controls",
      "model_module_version": "1.5.0",
      "model_name": "ButtonStyleModel",
      "state": {
       "button_color": "coral"
      }
     },
     "d4a43e00dc5f4df8acc53ff3613b41c3": {
      "model_module": "@jupyter-widgets/output",
      "model_module_version": "1.0.0",
      "model_name": "OutputModel",
      "state": {
       "layout": "IPY_MODEL_22b52373826541d6810c9dfc7e4f9def"
      }
     },
     "d6a21c1564254ac981635f5b3536addb": {
      "model_module": "@jupyter-widgets/base",
      "model_module_version": "1.2.0",
      "model_name": "LayoutModel",
      "state": {
       "width": "125px"
      }
     },
     "d7b44a5200784ab1b5f8679f86977c84": {
      "model_module": "@jupyter-widgets/base",
      "model_module_version": "1.2.0",
      "model_name": "LayoutModel",
      "state": {
       "align_items": "center",
       "display": "flex",
       "flex_flow": "column wrap",
       "width": "160px"
      }
     },
     "d823887aeb68451ea2f9d827cf73dff2": {
      "model_module": "@jupyter-widgets/controls",
      "model_module_version": "1.5.0",
      "model_name": "ButtonModel",
      "state": {
       "description": "Reset",
       "layout": "IPY_MODEL_4894dd337a9e41a7a45d8ef2df96f06f",
       "style": "IPY_MODEL_413cb5aa70c1480e9c9831c3fb99c345"
      }
     },
     "da5e6ec004d947029239fa113cccc65c": {
      "model_module": "@jupyter-widgets/base",
      "model_module_version": "1.2.0",
      "model_name": "LayoutModel",
      "state": {
       "align_items": "center",
       "display": "flex",
       "flex_flow": "column",
       "width": "100%"
      }
     },
     "daaf154214614c719f50afef61445509": {
      "model_module": "@jupyter-widgets/controls",
      "model_module_version": "1.5.0",
      "model_name": "DescriptionStyleModel",
      "state": {
       "description_width": "50px"
      }
     },
     "db4a72bf90d1425987f17d08a8b0e8c3": {
      "model_module": "@jupyter-widgets/base",
      "model_module_version": "1.2.0",
      "model_name": "LayoutModel",
      "state": {
       "width": "125px"
      }
     },
     "dc09b1472dcb434ca7bf673114af1188": {
      "model_module": "@jupyter-widgets/controls",
      "model_module_version": "1.5.0",
      "model_name": "ButtonModel",
      "state": {
       "description": "Reset",
       "layout": "IPY_MODEL_39cdfbbb0c8a4a2cb8930da2e08f862c",
       "style": "IPY_MODEL_bb62176ac8b44d139f2f5703213afddd"
      }
     },
     "dc3085b650544c1fa04a2082b2c690a0": {
      "model_module": "@jupyter-widgets/base",
      "model_module_version": "1.2.0",
      "model_name": "LayoutModel",
      "state": {
       "width": "125px"
      }
     },
     "dcee293770c643d7beb47d0d61b5cda2": {
      "model_module": "@jupyter-widgets/controls",
      "model_module_version": "1.5.0",
      "model_name": "ButtonStyleModel",
      "state": {
       "button_color": "lightgreen"
      }
     },
     "df13a5a0a6564ad7bf8ad5aa241f6f45": {
      "model_module": "@jupyter-widgets/controls",
      "model_module_version": "1.5.0",
      "model_name": "BoundedIntTextModel",
      "state": {
       "description": "$Z$",
       "layout": "IPY_MODEL_5ff781de4d3048c6a89868d05c9f6d49",
       "max": 180,
       "min": 1,
       "style": "IPY_MODEL_a57f5d1f708544fea0228038271fc8d5",
       "value": 1
      }
     },
     "e0099a6b9f8a438eb58470abcc6b2a2c": {
      "model_module": "@jupyter-widgets/controls",
      "model_module_version": "1.5.0",
      "model_name": "RadioButtonsModel",
      "state": {
       "_options_labels": [
        "+",
        "-"
       ],
       "description": "$Y_l^m \\pm Y_l^{-m}$",
       "index": 0,
       "layout": "IPY_MODEL_795314ec3a42492fb6e48e1e2be36c7f",
       "style": "IPY_MODEL_f8ae37c8e34d4af39a39b6245954c65f"
      }
     },
     "e25dc6d7be7747339c444ede92944741": {
      "model_module": "@jupyter-widgets/base",
      "model_module_version": "1.2.0",
      "model_name": "LayoutModel",
      "state": {
       "align_items": "center",
       "display": "flex",
       "flex_flow": "column",
       "width": "50%"
      }
     },
     "e4c9d550eb814b16831891c2b6b7d024": {
      "model_module": "@jupyter-widgets/base",
      "model_module_version": "1.2.0",
      "model_name": "LayoutModel",
      "state": {
       "display": "none",
       "width": "125px"
      }
     },
     "e4d7f92555f54d4e8e1fecf4e630434f": {
      "model_module": "@jupyter-widgets/controls",
      "model_module_version": "1.5.0",
      "model_name": "RadioButtonsModel",
      "state": {
       "_options_labels": [
        "+",
        "-"
       ],
       "description": "$Y_l^m \\pm Y_l^{-m}$",
       "index": 0,
       "layout": "IPY_MODEL_304b39655cee4d2fa43661c492a2c268",
       "style": "IPY_MODEL_f3499895c997484c875d0cabaedce0c7"
      }
     },
     "e52680d80ab84d4cab213859161ba769": {
      "model_module": "@jupyter-widgets/output",
      "model_module_version": "1.0.0",
      "model_name": "OutputModel",
      "state": {
       "layout": "IPY_MODEL_5d8baec73b3245ff8e2ffd12e43ee0dd"
      }
     },
     "e5dbb2ab1f4840c08a1e1b8652eafe4b": {
      "model_module": "@jupyter-widgets/controls",
      "model_module_version": "1.5.0",
      "model_name": "VBoxModel",
      "state": {
       "children": [
        "IPY_MODEL_162eea91035a41c6a88adfb14771f87c",
        "IPY_MODEL_087e8a8d3ff0487c83702d719c4d23d1"
       ],
       "layout": "IPY_MODEL_b3f9afae639c4803875878cb358a81ee"
      }
     },
     "e64c45ab47604502836062b2d61bd665": {
      "model_module": "@jupyter-widgets/controls",
      "model_module_version": "1.5.0",
      "model_name": "IntSliderModel",
      "state": {
       "description": "# of points",
       "layout": "IPY_MODEL_3d6a5642987b47b48f32ebf2215a3ab4",
       "max": 10000,
       "min": 500,
       "orientation": "vertical",
       "style": "IPY_MODEL_11b381e2923e48af8e107198d009a22c",
       "value": 1000
      }
     },
     "e7067d39339c42e387ad35b8bbdd45cc": {
      "model_module": "@jupyter-widgets/controls",
      "model_module_version": "1.5.0",
      "model_name": "HBoxModel",
      "state": {
       "children": [
        "IPY_MODEL_a4193dfd14dc48568e33044cb44a83c0",
        "IPY_MODEL_ea588a2c65544acc84bf9ad055a368d7"
       ],
       "layout": "IPY_MODEL_67ef6f7cf589486db9d356e907aec6c5"
      }
     },
     "e91998d0cef64bf39c2c0f984c883c8c": {
      "model_module": "@jupyter-widgets/base",
      "model_module_version": "1.2.0",
      "model_name": "LayoutModel",
      "state": {}
     },
     "ea588a2c65544acc84bf9ad055a368d7": {
      "model_module": "@jupyter-widgets/controls",
      "model_module_version": "1.5.0",
      "model_name": "HBoxModel",
      "state": {
       "children": [
        "IPY_MODEL_e52680d80ab84d4cab213859161ba769"
       ],
       "layout": "IPY_MODEL_26c40b7ccb3a4f9f949f641cb3d9bffe"
      }
     },
     "ea8826168bae4a899d63ef9604c63b0f": {
      "model_module": "@jupyter-widgets/base",
      "model_module_version": "1.2.0",
      "model_name": "LayoutModel",
      "state": {}
     },
     "eb0562fb45444002b343a0ad2217aeab": {
      "model_module": "@jupyter-widgets/base",
      "model_module_version": "1.2.0",
      "model_name": "LayoutModel",
      "state": {
       "align_items": "center",
       "display": "flex",
       "flex_flow": "row",
       "width": "100%"
      }
     },
     "eb59d63b425f46e1b7cbdb14fffa0efb": {
      "model_module": "@jupyter-widgets/base",
      "model_module_version": "1.2.0",
      "model_name": "LayoutModel",
      "state": {}
     },
     "ebf534c1db904961964ed00d8940e12a": {
      "model_module": "@jupyter-widgets/base",
      "model_module_version": "1.2.0",
      "model_name": "LayoutModel",
      "state": {
       "align_items": "center",
       "display": "flex",
       "flex_flow": "column",
       "width": "100%"
      }
     },
     "ecc62c8696634b03a6d45d764e83e110": {
      "model_module": "@jupyter-widgets/base",
      "model_module_version": "1.2.0",
      "model_name": "LayoutModel",
      "state": {}
     },
     "ecff2954613d440e9e6928a56196c47a": {
      "model_module": "@jupyter-widgets/base",
      "model_module_version": "1.2.0",
      "model_name": "LayoutModel",
      "state": {
       "align_items": "center",
       "display": "flex",
       "flex_flow": "column wrap",
       "width": "160px"
      }
     },
     "ee0f8193e27d4675a1289800da87436e": {
      "model_module": "@jupyter-widgets/controls",
      "model_module_version": "1.5.0",
      "model_name": "ButtonModel",
      "state": {
       "description": "Generate Plots",
       "layout": "IPY_MODEL_db4a72bf90d1425987f17d08a8b0e8c3",
       "style": "IPY_MODEL_dcee293770c643d7beb47d0d61b5cda2"
      }
     },
     "ee7456ce521649349722eecf35d41315": {
      "model_module": "@jupyter-widgets/base",
      "model_module_version": "1.2.0",
      "model_name": "LayoutModel",
      "state": {}
     },
     "eebeb0df98ee4786af05a6138092803f": {
      "model_module": "@jupyter-widgets/base",
      "model_module_version": "1.2.0",
      "model_name": "LayoutModel",
      "state": {
       "width": "125px"
      }
     },
     "eefd652afff143c9a8fd022571af17f9": {
      "model_module": "@jupyter-widgets/base",
      "model_module_version": "1.2.0",
      "model_name": "LayoutModel",
      "state": {
       "align_items": "center",
       "display": "flex",
       "flex_flow": "column",
       "width": "100%"
      }
     },
     "f1798bb3471745ddb3faf756d84e795a": {
      "model_module": "@jupyter-widgets/base",
      "model_module_version": "1.2.0",
      "model_name": "LayoutModel",
      "state": {
       "align_items": "center",
       "display": "flex",
       "flex_flow": "column",
       "width": "100%"
      }
     },
     "f17e37ec13b545f295eb995251831458": {
      "model_module": "@jupyter-widgets/output",
      "model_module_version": "1.0.0",
      "model_name": "OutputModel",
      "state": {
       "layout": "IPY_MODEL_09b7992c2c8a4464b203e68e7c893b08"
      }
     },
     "f22b257f68da45308b5b89647e112142": {
      "model_module": "@jupyter-widgets/controls",
      "model_module_version": "1.5.0",
      "model_name": "ButtonModel",
      "state": {
       "description": "Generate Plots",
       "layout": "IPY_MODEL_024bcf3f90b54760b66a7906d28405cc",
       "style": "IPY_MODEL_9b0a16bb9217470e9ea5f99ef4f5510c"
      }
     },
     "f2c01b7eeeb24cdf99797cd9f4abe089": {
      "model_module": "@jupyter-widgets/output",
      "model_module_version": "1.0.0",
      "model_name": "OutputModel",
      "state": {
       "layout": "IPY_MODEL_b93bc9c42a7646aea2c332f22bd8c857",
       "outputs": [
        {
         "data": {
          "text/latex": "$\\displaystyle R_{3,2}(r) = \\frac{2 \\sqrt{30} r^{2} \\left(\\frac{1}{a_{0}}\\right)^{3.5} e^{- \\frac{r}{3 a_{0}}}}{1215}$",
          "text/plain": "<IPython.core.display.Math object>"
         },
         "metadata": {},
         "output_type": "display_data"
        }
       ]
      }
     },
     "f3040a1d94934767a87d92cd1957fa71": {
      "model_module": "@jupyter-widgets/controls",
      "model_module_version": "1.5.0",
      "model_name": "VBoxModel",
      "state": {
       "children": [
        "IPY_MODEL_51a489d6ef9947f0955caf187abe8291",
        "IPY_MODEL_2b659c05ac2b495ea8d6071646a95f68",
        "IPY_MODEL_906e7f3e5caa4227b5a8b54d7b12651c",
        "IPY_MODEL_7bbfbdecf4ab4b03821fbdf161a8d7fb",
        "IPY_MODEL_42de2225a21a4e2fb1f96b16ada7e547",
        "IPY_MODEL_cd6a38f89c8e43cf8c90a2cc341ac2b9",
        "IPY_MODEL_34d259f06b2947e7a5df570010131b4c",
        "IPY_MODEL_a5f31d69615b4b9bb451226ea6273e85"
       ],
       "layout": "IPY_MODEL_a9412ec6913a47de9b36f3be3907925c"
      }
     },
     "f34065882d144deebf0074f7776f926b": {
      "model_module": "@jupyter-widgets/output",
      "model_module_version": "1.0.0",
      "model_name": "OutputModel",
      "state": {
       "layout": "IPY_MODEL_6973ecb12dfb4c24923381363dc85c51"
      }
     },
     "f3499895c997484c875d0cabaedce0c7": {
      "model_module": "@jupyter-widgets/controls",
      "model_module_version": "1.5.0",
      "model_name": "DescriptionStyleModel",
      "state": {
       "description_width": ""
      }
     },
     "f438b57386b7441586b9dc28a4e871e0": {
      "model_module": "@jupyter-widgets/base",
      "model_module_version": "1.2.0",
      "model_name": "LayoutModel",
      "state": {
       "height": "100%"
      }
     },
     "f7402653db1a4ffb8d6e3a5ef2797cce": {
      "model_module": "@jupyter-widgets/base",
      "model_module_version": "1.2.0",
      "model_name": "LayoutModel",
      "state": {
       "height": "170px"
      }
     },
     "f874fc6169624d0889320ba58d0b226b": {
      "model_module": "@jupyter-widgets/base",
      "model_module_version": "1.2.0",
      "model_name": "LayoutModel",
      "state": {
       "width": "125px"
      }
     },
     "f8ae37c8e34d4af39a39b6245954c65f": {
      "model_module": "@jupyter-widgets/controls",
      "model_module_version": "1.5.0",
      "model_name": "DescriptionStyleModel",
      "state": {
       "description_width": ""
      }
     },
     "f8c8ca2c770a473eb0de4499e11a3806": {
      "model_module": "@jupyter-widgets/controls",
      "model_module_version": "1.5.0",
      "model_name": "DescriptionStyleModel",
      "state": {
       "description_width": "50px"
      }
     },
     "f927f1c8367441a9a1f6287be152122c": {
      "model_module": "@jupyter-widgets/controls",
      "model_module_version": "1.5.0",
      "model_name": "VBoxModel",
      "state": {
       "children": [
        "IPY_MODEL_549d4788f3654c668061c452560798bb",
        "IPY_MODEL_843a1b11ffa5493b9766d438c52b441b",
        "IPY_MODEL_8a7f90877a374302b1e291df5286194c"
       ],
       "layout": "IPY_MODEL_c0f12bb1021d4daf875dc2290e44c2e1"
      }
     },
     "f9df78361ca6403b8f706d69e6d98a2b": {
      "model_module": "@jupyter-widgets/base",
      "model_module_version": "1.2.0",
      "model_name": "LayoutModel",
      "state": {
       "width": "125px"
      }
     },
     "fa80a9755e9f4415ac8697e796194057": {
      "model_module": "@jupyter-widgets/controls",
      "model_module_version": "1.5.0",
      "model_name": "DescriptionStyleModel",
      "state": {
       "description_width": ""
      }
     },
     "fabc3ba1aeb34a6db27db29ae2453a67": {
      "model_module": "@jupyter-widgets/base",
      "model_module_version": "1.2.0",
      "model_name": "LayoutModel",
      "state": {}
     },
     "fb3ed014bee641a88c138e141e317140": {
      "model_module": "@jupyter-widgets/output",
      "model_module_version": "1.0.0",
      "model_name": "OutputModel",
      "state": {
       "layout": "IPY_MODEL_aee5c9f248a64f3cb71f32e644447846"
      }
     },
     "fb812a9d0ff4461d86f37d445d98eab2": {
      "model_module": "@jupyter-widgets/controls",
      "model_module_version": "1.5.0",
      "model_name": "HBoxModel",
      "state": {
       "children": [
        "IPY_MODEL_294aea8c0e1e486383b519b1b75d94fa"
       ],
       "layout": "IPY_MODEL_5ee4b83a46ef41c6998e5d882006b68c"
      }
     },
     "fcc23c9a72344f3d9fb0bb0568af533f": {
      "model_module": "@jupyter-widgets/base",
      "model_module_version": "1.2.0",
      "model_name": "LayoutModel",
      "state": {}
     },
     "fdf6884bf6b344d58baa60e56aa3d5f1": {
      "model_module": "@jupyter-widgets/base",
      "model_module_version": "1.2.0",
      "model_name": "LayoutModel",
      "state": {
       "height": "170px"
      }
     },
     "fe689999b7bb47818a538ce64badafc8": {
      "model_module": "@jupyter-widgets/base",
      "model_module_version": "1.2.0",
      "model_name": "LayoutModel",
      "state": {
       "width": "125px"
      }
     },
     "fedd02d5edc74b1d96a07eb97c786488": {
      "model_module": "@jupyter-widgets/base",
      "model_module_version": "1.2.0",
      "model_name": "LayoutModel",
      "state": {
       "align_items": "center",
       "display": "flex",
       "flex_flow": "column",
       "width": "50%"
      }
     },
     "ff9cb6381029470bb3782376f82bad85": {
      "model_module": "@jupyter-widgets/base",
      "model_module_version": "1.2.0",
      "model_name": "LayoutModel",
      "state": {
       "align_items": "center",
       "display": "flex",
       "flex_flow": "column",
       "width": "50%"
      }
     },
     "ffc45eb0fb764c49b4379ed1d0b7bffb": {
      "model_module": "@jupyter-widgets/base",
      "model_module_version": "1.2.0",
      "model_name": "LayoutModel",
      "state": {
       "width": "100px"
      }
     }
    },
    "version_major": 2,
    "version_minor": 0
   }
  }
 },
 "nbformat": 4,
 "nbformat_minor": 4
}
