{
 "cells": [
  {
   "cell_type": "markdown",
   "metadata": {},
   "source": [
    "# Visualizing Orbitals Using Hydrogen-Like Wave Functions\n",
    "- [Angular Part](#ang)\n",
    "- [Radial Part](#rad)\n",
    "- [Overall Wave Functions: Probability Density](#pd)\n",
    "\n",
    "**Later cells in this notebook depend on earlier cells. The posted binder should be in a state with all cells run and widgets at defaults, otherwise restart kernel and run all.**\n",
    "\n",
    "This notebook may be cleaned up in the future its main purpose is to document the math behind the [main notebook](mnbspec)."
   ]
  },
  {
   "cell_type": "code",
   "execution_count": 1,
   "metadata": {},
   "outputs": [],
   "source": [
    "from sympy import *\n",
    "init_printing()\n",
    "x, n, k, alpha, l, m, r, theta, phi, Z, a_0, sigma = symbols(\"x n k alpha l m r theta phi Z a_0 sigma\")"
   ]
  },
  {
   "cell_type": "markdown",
   "metadata": {},
   "source": [
    "# Angular Part<a id=\"ang\"></a>\n",
    "\n",
    "Construct the (real-valued) angular parts of the wave function $Y_l^{\\left|m\\right|}(\\theta,\\phi)$"
   ]
  },
  {
   "cell_type": "markdown",
   "metadata": {},
   "source": [
    "Define the Legendre polynomials using Rodrigues' formula:"
   ]
  },
  {
   "cell_type": "code",
   "execution_count": 2,
   "metadata": {},
   "outputs": [
    {
     "data": {
      "image/png": "[encoded data removed]",
      "text/latex": [
       "$\\displaystyle \\frac{2^{- n} \\frac{\\partial^{n}}{\\partial x^{n}} \\left(x^{2} - 1\\right)^{n}}{n!}$"
      ],
      "text/plain": [
       "      n⎛        n⎞\n",
       " -n  ∂ ⎜⎛ 2    ⎞ ⎟\n",
       "2  ⋅───⎝⎝x  - 1⎠ ⎠\n",
       "      n           \n",
       "    ∂x            \n",
       "──────────────────\n",
       "        n!        "
      ]
     },
     "execution_count": 2,
     "metadata": {},
     "output_type": "execute_result"
    }
   ],
   "source": [
    "Legendre = 1/(2**n*factorial(n)) * ((x**2-1)**n).diff((x,n))\n",
    "Legendre"
   ]
  },
  {
   "cell_type": "markdown",
   "metadata": {},
   "source": [
    "Throughout this notebook, test these iterative formulas by printing the first few with sympy pretty printing.\n",
    "\n",
    "First few Legendre polynomials, $P_n(x)=$"
   ]
  },
  {
   "cell_type": "code",
   "execution_count": 3,
   "metadata": {},
   "outputs": [
    {
     "data": {
      "image/png": "[encoded data removed]",
      "text/latex": [
       "$\\displaystyle \\left[ 1, \\  x, \\  \\frac{3 x^{2}}{2} - \\frac{1}{2}, \\  \\frac{5 x^{3}}{2} - \\frac{3 x}{2}, \\  \\frac{35 x^{4}}{8} - \\frac{15 x^{2}}{4} + \\frac{3}{8}\\right]$"
      ],
      "text/plain": [
       "⎡         2         3            4       2    ⎤\n",
       "⎢      3⋅x    1  5⋅x    3⋅x  35⋅x    15⋅x    3⎥\n",
       "⎢1, x, ──── - ─, ──── - ───, ───── - ───── + ─⎥\n",
       "⎣       2     2   2      2     8       4     8⎦"
      ]
     },
     "execution_count": 3,
     "metadata": {},
     "output_type": "execute_result"
    }
   ],
   "source": [
    "Ls = []\n",
    "for i in range(5):\n",
    "    L_i = expand(Legendre.subs(n,i).doit())\n",
    "    Ls.append(L_i)\n",
    "Ls"
   ]
  },
  {
   "cell_type": "markdown",
   "metadata": {},
   "source": [
    "Define the \"physicists'\" associated Legendre polynomials, $P_l^m(x)=$"
   ]
  },
  {
   "cell_type": "code",
   "execution_count": 4,
   "metadata": {},
   "outputs": [
    {
     "data": {
      "image/png": "[encoded data removed]",
      "text/latex": [
       "$\\displaystyle \\left(1 - x^{2}\\right)^{\\frac{\\left|{m}\\right|}{2}} \\sum_{\\substack{0 \\leq k_{1} \\leq \\left|{m}\\right|\\\\0 \\leq k_{2} \\leq \\left|{m}\\right|}} \\frac{\\left(\\left|{m}\\right|\\right)! \\frac{d^{_k1}}{d x^{_k1}} 2^{- l} \\frac{\\partial^{l + Max(0, -_k1 - _k2 + Abs(m))}}{\\partial x^{l + Max(0, -_k1 - _k2 + Abs(m))}} \\left(x^{2} - 1\\right)^{l} \\frac{d^{_k2}}{d x^{_k2}} \\frac{1}{l!}}{k_{1}! k_{2}! \\left(- k_{1} - k_{2} + \\left|{m}\\right|\\right)!}$"
      ],
      "text/plain": [
       "             │m│    │m│                                                       \n",
       "            ______ ______                                                     \n",
       "            ╲      ╲                                                          \n",
       "        │m│  ╲      ╲              _k1        l + Max(0, -_k1 - _k2 + Abs(m))⎛\n",
       "        ───   ╲      ╲            d   ⎛ -l⎞  ∂                               ⎜\n",
       "         2     ╲      ╲   (│m│)!⋅─────⎝2  ⎠⋅─────────────────────────────────⎝\n",
       "⎛     2⎞        ╲      ╲           _k1        l + Max(0, -_k1 - _k2 + Abs(m)) \n",
       "⎝1 - x ⎠   ⋅    ╱      ╱         dx         ∂x                                \n",
       "               ╱      ╱   ────────────────────────────────────────────────────\n",
       "              ╱      ╱                           k₁!⋅k₂!⋅(-k₁ - k₂ + │m│)!    \n",
       "             ╱      ╱                                                         \n",
       "            ╱      ╱                                                          \n",
       "            ‾‾‾‾‾‾ ‾‾‾‾‾‾                                                     \n",
       "            k₂ = 0 k₁ = 0                                                     \n",
       "\n",
       "                    \n",
       "                    \n",
       "                    \n",
       "        l⎞   _k2    \n",
       "⎛ 2    ⎞ ⎟  d   ⎛1 ⎞\n",
       "⎝x  - 1⎠ ⎠⋅─────⎜──⎟\n",
       "             _k2⎝l!⎠\n",
       "           dx       \n",
       "────────────────────\n",
       "                    \n",
       "                    \n",
       "                    \n",
       "                    \n",
       "                    "
      ]
     },
     "execution_count": 4,
     "metadata": {},
     "output_type": "execute_result"
    }
   ],
   "source": [
    "ALegendre = (1-x**2)**(abs(m)/2) * (Legendre.subs(n,l)).diff((x,abs(m)))\n",
    "ALegendre"
   ]
  },
  {
   "cell_type": "markdown",
   "metadata": {},
   "source": [
    "SymPy doesn't simplify that well but it's just\n",
    "\n",
    "$\\large P_l^m(x) = (1-x^2)^{\\left|m\\right|/2} \\frac{d^{\\left|m\\right|}}{dx^{\\left|m\\right|}} P_l$"
   ]
  },
  {
   "cell_type": "markdown",
   "metadata": {},
   "source": [
    "This is as far as we can go with a symbolic expression since we need to substitute $\\cos\\theta$ for $x$ and SymPy can't handle a derivative with respect to $\\cos\\theta$, so make a function to generate the final $n^{\\text{th}},l^{\\text{th}}$ Associated Legendre polynomial:"
   ]
  },
  {
   "cell_type": "code",
   "execution_count": 5,
   "metadata": {},
   "outputs": [],
   "source": [
    "def P(given_l,given_m):\n",
    "    return ALegendre.subs([(l,given_l),(m,given_m)]).doit().subs(x,cos(theta)).simplify().subs(((sin(theta))**2)**(1/2),sin(theta))"
   ]
  },
  {
   "cell_type": "markdown",
   "metadata": {},
   "source": [
    "That last substitution in the above line isn't true in general but is here since $0 \\le \\theta < \\pi$.\n",
    "\n",
    "List out the first few $P_l^{\\left|m\\right|}(\\cos\\theta)$ for $l \\le 2$:"
   ]
  },
  {
   "cell_type": "code",
   "execution_count": 6,
   "metadata": {},
   "outputs": [
    {
     "data": {
      "image/png": "[encoded data removed]",
      "text/latex": [
       "$\\displaystyle \\left[ 1, \\  \\cos{\\left(\\theta \\right)}, \\  \\sin{\\left(\\theta \\right)}, \\  \\frac{3 \\cos^{2}{\\left(\\theta \\right)}}{2} - \\frac{1}{2}, \\  3 \\sin{\\left(\\theta \\right)} \\cos{\\left(\\theta \\right)}, \\  3 \\sin^{2}{\\left(\\theta \\right)}\\right]$"
      ],
      "text/plain": [
       "⎡                        2                                   ⎤\n",
       "⎢                   3⋅cos (θ)   1                        2   ⎥\n",
       "⎢1, cos(θ), sin(θ), ───────── - ─, 3⋅sin(θ)⋅cos(θ), 3⋅sin (θ)⎥\n",
       "⎣                       2       2                            ⎦"
      ]
     },
     "execution_count": 6,
     "metadata": {},
     "output_type": "execute_result"
    }
   ],
   "source": [
    "FinalLs = []\n",
    "for i in range(3):\n",
    "    for j in range(i+1):\n",
    "        FinalLs.append(P(i,j))\n",
    "FinalLs"
   ]
  },
  {
   "cell_type": "markdown",
   "metadata": {},
   "source": [
    "Now define the complex spherical harmonics\n",
    "\n",
    "$\\large Y_l^m(\\theta,\\phi) = \\sqrt{\\frac{2l+1}{4\\pi}\\frac{(l-\\left|m\\right|)!}{(l+\\left|m\\right|)!}} P_l^{\\left|m\\right|}(cos\\theta) e^{im\\phi}$"
   ]
  },
  {
   "cell_type": "code",
   "execution_count": 7,
   "metadata": {},
   "outputs": [],
   "source": [
    "def Y(given_l,given_m):\n",
    "    return (sqrt( ((2*l+1)/(4*pi)) * factorial(l-abs(m))/factorial(l+abs(m)) ) * exp(I*m*phi)).subs([(l,given_l),(m,given_m)]) * P(given_l,given_m)"
   ]
  },
  {
   "cell_type": "markdown",
   "metadata": {},
   "source": [
    "The first few $Y_l^m$ for $l \\le 2$:"
   ]
  },
  {
   "cell_type": "code",
   "execution_count": 8,
   "metadata": {},
   "outputs": [
    {
     "data": {
      "image/png": "[encoded data removed]",
      "text/latex": [
       "$\\displaystyle \\left[ \\frac{1}{2 \\sqrt{\\pi}}, \\  \\frac{\\sqrt{6} e^{- i \\phi} \\sin{\\left(\\theta \\right)}}{4 \\sqrt{\\pi}}, \\  \\frac{\\sqrt{3} \\cos{\\left(\\theta \\right)}}{2 \\sqrt{\\pi}}, \\  \\frac{\\sqrt{6} e^{i \\phi} \\sin{\\left(\\theta \\right)}}{4 \\sqrt{\\pi}}, \\  \\frac{\\sqrt{30} e^{- 2 i \\phi} \\sin^{2}{\\left(\\theta \\right)}}{8 \\sqrt{\\pi}}, \\  \\frac{\\sqrt{30} e^{- i \\phi} \\sin{\\left(\\theta \\right)} \\cos{\\left(\\theta \\right)}}{4 \\sqrt{\\pi}}, \\  \\frac{\\sqrt{5} \\left(\\frac{3 \\cos^{2}{\\left(\\theta \\right)}}{2} - \\frac{1}{2}\\right)}{2 \\sqrt{\\pi}}, \\  \\frac{\\sqrt{30} e^{i \\phi} \\sin{\\left(\\theta \\right)} \\cos{\\left(\\theta \\right)}}{4 \\sqrt{\\pi}}, \\  \\frac{\\sqrt{30} e^{2 i \\phi} \\sin^{2}{\\left(\\theta \\right)}}{8 \\sqrt{\\pi}}\\right]$"
      ],
      "text/plain": [
       "⎡                                                                             \n",
       "⎢                                                                             \n",
       "⎢          -ⅈ⋅φ                        ⅈ⋅φ              -2⋅ⅈ⋅φ    2          -\n",
       "⎢ 1    √6⋅ℯ    ⋅sin(θ)  √3⋅cos(θ)  √6⋅ℯ   ⋅sin(θ)  √30⋅ℯ      ⋅sin (θ)  √30⋅ℯ \n",
       "⎢────, ───────────────, ─────────, ──────────────, ───────────────────, ──────\n",
       "⎣2⋅√π        4⋅√π          2⋅√π         4⋅√π               8⋅√π               \n",
       "\n",
       "                      ⎛     2       ⎞                                         \n",
       "                      ⎜3⋅cos (θ)   1⎟                                         \n",
       "ⅈ⋅φ                √5⋅⎜───────── - ─⎟       ⅈ⋅φ                     2⋅ⅈ⋅φ    2\n",
       "   ⋅sin(θ)⋅cos(θ)     ⎝    2       2⎠  √30⋅ℯ   ⋅sin(θ)⋅cos(θ)  √30⋅ℯ     ⋅sin \n",
       "─────────────────, ──────────────────, ──────────────────────, ───────────────\n",
       "    4⋅√π                  2⋅√π                  4⋅√π                  8⋅√π    \n",
       "\n",
       "   ⎤\n",
       "   ⎥\n",
       "   ⎥\n",
       "(θ)⎥\n",
       "───⎥\n",
       "   ⎦"
      ]
     },
     "execution_count": 8,
     "metadata": {},
     "output_type": "execute_result"
    }
   ],
   "source": [
    "Ys = []\n",
    "for i in range(3):\n",
    "    for j in range(-i,i+1):\n",
    "        Ys.append(Y(i,j))\n",
    "Ys"
   ]
  },
  {
   "cell_type": "markdown",
   "metadata": {},
   "source": [
    "## Real vs. Complex Spherical Harmonics"
   ]
  },
  {
   "cell_type": "markdown",
   "metadata": {},
   "source": [
    "Notice that the only difference between $\\pm m$ in the above is the sign of the exponent. Expanding that exponent out shows that changing the sign of $m$ does not change $\\Re Y$, and only flips the sign of $\\Im Y$.\n",
    "\n",
    "#TODO: plot with a color map as complex phase, with that implemented, changing $m$ to $-m$ should flip colors\n",
    "\n",
    "For $\\left|m\\right| > 0$, the corresponding $Y$s for $+m$ and $-m$ are both eigenfunctions of the angular Hamiltonian representing the same energy, therefore any superposition of them is an eigenfunction as well. The custom is to construct a real-valued $Y$ as the normalized combination of the corresponding $Y$s for $\\pm m$, e.g. for $n=2, l=1, m=\\pm1$:\n",
    "\n",
    "$\\large Y_{2p_x} = \\frac{1}{\\sqrt{2}}(Y_1^1+Y_1^{-1}) = \\sqrt\\frac{3}{4\\pi}\\sin\\theta\\cos\\phi = \\sqrt\\frac{3}{4\\pi}\\frac{x}{r}$\n",
    "\n",
    "$\\large Y_{2p_y} = \\frac{1}{\\sqrt{2}i}(Y_1^1-Y_1^{-1}) = \\sqrt\\frac{3}{4\\pi}\\sin\\theta\\sin\\phi = \\sqrt\\frac{3}{4\\pi}\\frac{y}{r}$\n",
    "\n",
    "By converting these into Cartesian coordinates $(x=r\\sin\\theta\\cos\\phi, y=r\\sin\\theta\\sin\\phi, z=r\\cos\\theta)$, we can see the change of orientation in space. This naming convention $3d_{z^2}, 3d_{x^2-y^2}$, etc. can be derived by converting the corresponding real spherical harmonic into Cartesian coordiantes.\n",
    "\n",
    "For the rest of this notebook, these two options for a given $\\left|m\\right|$ are referred to as the $+$ and $-$ options."
   ]
  },
  {
   "cell_type": "markdown",
   "metadata": {},
   "source": [
    "Using the above, construct the real spherical harmonics:"
   ]
  },
  {
   "cell_type": "code",
   "execution_count": 9,
   "metadata": {},
   "outputs": [],
   "source": [
    "def real_Y(l,mag_m,*pm):\n",
    "    if mag_m == 0:\n",
    "        return Y(l,mag_m)\n",
    "    elif pm:\n",
    "        if pm[0] == \"-\":\n",
    "            return simplify((1/(sqrt(2)*I)) * (Y(l,mag_m) - Y(l,-mag_m)))\n",
    "    return simplify((1/sqrt(2)) * (Y(l,mag_m) + Y(l,-mag_m)))\n",
    "    # defaults to the + option if no plus/minus given"
   ]
  },
  {
   "cell_type": "markdown",
   "metadata": {},
   "source": [
    "The first few real-valued $Y_l^{\\left|m\\right|}$ for $l\\le2$:"
   ]
  },
  {
   "cell_type": "code",
   "execution_count": 10,
   "metadata": {},
   "outputs": [
    {
     "data": {
      "image/png": "[encoded data removed]",
      "text/latex": [
       "$\\displaystyle \\left[ \\frac{1}{2 \\sqrt{\\pi}}, \\  \\frac{\\sqrt{3} \\cos{\\left(\\theta \\right)}}{2 \\sqrt{\\pi}}, \\  \\frac{\\sqrt{3} \\sin{\\left(\\theta \\right)} \\cos{\\left(\\phi \\right)}}{2 \\sqrt{\\pi}}, \\  \\frac{\\sqrt{3} \\sin{\\left(\\phi \\right)} \\sin{\\left(\\theta \\right)}}{2 \\sqrt{\\pi}}, \\  \\frac{\\sqrt{5} \\left(\\frac{3 \\cos^{2}{\\left(\\theta \\right)}}{2} - \\frac{1}{2}\\right)}{2 \\sqrt{\\pi}}, \\  \\frac{\\sqrt{15} \\sin{\\left(2 \\theta \\right)} \\cos{\\left(\\phi \\right)}}{4 \\sqrt{\\pi}}, \\  \\frac{\\sqrt{15} \\sin{\\left(\\phi \\right)} \\sin{\\left(2 \\theta \\right)}}{4 \\sqrt{\\pi}}, \\  \\frac{\\sqrt{15} \\sin^{2}{\\left(\\theta \\right)} \\cos{\\left(2 \\phi \\right)}}{4 \\sqrt{\\pi}}, \\  \\frac{\\sqrt{15} \\sin{\\left(2 \\phi \\right)} \\sin^{2}{\\left(\\theta \\right)}}{4 \\sqrt{\\pi}}\\right]$"
      ],
      "text/plain": [
       "⎡                                                        ⎛     2       ⎞      \n",
       "⎢                                                        ⎜3⋅cos (θ)   1⎟      \n",
       "⎢                                                     √5⋅⎜───────── - ─⎟      \n",
       "⎢ 1    √3⋅cos(θ)  √3⋅sin(θ)⋅cos(φ)  √3⋅sin(φ)⋅sin(θ)     ⎝    2       2⎠  √15⋅\n",
       "⎢────, ─────────, ────────────────, ────────────────, ──────────────────, ────\n",
       "⎣2⋅√π     2⋅√π          2⋅√π              2⋅√π               2⋅√π             \n",
       "\n",
       "                                                                              \n",
       "                                                                              \n",
       "                                             2                              2 \n",
       "sin(2⋅θ)⋅cos(φ)  √15⋅sin(φ)⋅sin(2⋅θ)  √15⋅sin (θ)⋅cos(2⋅φ)  √15⋅sin(2⋅φ)⋅sin (\n",
       "───────────────, ───────────────────, ────────────────────, ──────────────────\n",
       "    4⋅√π                 4⋅√π                 4⋅√π                  4⋅√π      \n",
       "\n",
       "  ⎤\n",
       "  ⎥\n",
       "  ⎥\n",
       "θ)⎥\n",
       "──⎥\n",
       "  ⎦"
      ]
     },
     "execution_count": 10,
     "metadata": {},
     "output_type": "execute_result"
    }
   ],
   "source": [
    "realYs = []\n",
    "for i in range(3):\n",
    "    for j in range(i+1):\n",
    "        if j == 0:\n",
    "            realYs.append(real_Y(i,j))\n",
    "        else:\n",
    "            realYs.append(real_Y(i,j,\"+\"))\n",
    "            realYs.append(real_Y(i,j,\"-\"))\n",
    "realYs"
   ]
  },
  {
   "cell_type": "markdown",
   "metadata": {},
   "source": [
    "## Visualize Spherical Harmonics"
   ]
  },
  {
   "cell_type": "code",
   "execution_count": 11,
   "metadata": {},
   "outputs": [],
   "source": [
    "%matplotlib notebook\n",
    "import numpy as np\n",
    "import matplotlib.pyplot as plt\n",
    "import mpl_toolkits.mplot3d.axes3d as axes3d\n",
    "\n",
    "def plotter(sympy_f):\n",
    "    # Put the sympy symbolic expression in something numpy \n",
    "    # (and therefore matplotlib) can understand\n",
    "    f = lambdify([theta,phi],sympy_f,\"numpy\")\n",
    "    \n",
    "    t, p = np.linspace(0, np.pi, 40), np.linspace(0, 2*np.pi, 40)\n",
    "    THETA, PHI = np.meshgrid(t, p)\n",
    "    R = abs(f(THETA,PHI).real) # plot mag(Re(Y_l^m))\n",
    "    X = R * np.sin(THETA) * np.cos(PHI)\n",
    "    Y = R * np.sin(THETA) * np.sin(PHI)\n",
    "    Z = R * np.cos(THETA)\n",
    "    \n",
    "    fig = plt.figure()\n",
    "    ax = fig.add_subplot(1,1,1, projection='3d')\n",
    "    plot = ax.plot_surface(\n",
    "        X, Y, Z, rstride=1, cstride=1, cmap=plt.get_cmap('jet'),\n",
    "        linewidth=0, antialiased=False, alpha=0.5)\n",
    "\n",
    "    ax.set_xlim(-np.amax(R),np.amax(R))\n",
    "    ax.set_ylim(-np.amax(R),np.amax(R))\n",
    "    ax.set_zlim(-np.amax(R),np.amax(R))\n",
    "\n",
    "    ax.set_xlabel(r'$x$')\n",
    "    ax.set_ylabel(r'$y$')\n",
    "    ax.set_zlabel(r'$z$')\n",
    "\n",
    "    plt.show()"
   ]
  },
  {
   "cell_type": "code",
   "execution_count": 12,
   "metadata": {},
   "outputs": [
    {
     "data": {
      "application/vnd.jupyter.widget-view+json": {
       "model_id": "3daec74441da41d083efe2d839059a24",
       "version_major": 2,
       "version_minor": 0
      },
      "text/plain": [
       "Tab(children=(VBox(children=(BoundedIntText(value=0, description='$l$'), BoundedIntText(value=0, description='…"
      ]
     },
     "metadata": {},
     "output_type": "display_data"
    }
   ],
   "source": [
    "# Make a simple GUI to pick which to plot:\n",
    "import ipywidgets as wg\n",
    "\n",
    "# Set up tabs for real vs. complex harmonics\n",
    "def tab_contents(isReal):\n",
    "    contents = [\n",
    "        wg.BoundedIntText(value=0, min=0, description=\"$l$\"),\n",
    "        wg.BoundedIntText(value=0, min=0, max=0, description=f\"{'$|m|$' if isReal else '$m$'}\"),\n",
    "        wg.Button(description=\"Generate Plot\"),\n",
    "        wg.Output()\n",
    "    ]\n",
    "    if isReal:\n",
    "        contents.insert(\n",
    "            2,\n",
    "            wg.RadioButtons(options=[\"+\",\"-\"],\n",
    "                            description=\"$Y_l^m \\pm Y_l^{-m}$\",\n",
    "                            layout=wg.Layout(display=\"none\")))\n",
    "    return contents\n",
    "\n",
    "tabs = wg.Tab()\n",
    "tabs.set_title(0,\"real\")\n",
    "tabs.set_title(1,\"complex\")\n",
    "tabs.children = [\n",
    "    wg.VBox(children=tab_contents(True)),\n",
    "    wg.VBox(children=tab_contents(False))\n",
    "]\n",
    "\n",
    "def update_m_bounds(change):\n",
    "    curTab = tabs.selected_index\n",
    "    tabs.children[curTab].children[1].max = change[\"new\"]\n",
    "    if curTab:# i.e. if complex tab\n",
    "        tabs.children[1].children[1].min = -change[\"new\"]\n",
    "\n",
    "def update_pm(change):\n",
    "    if change[\"new\"] > 0 and change[\"old\"] == 0:\n",
    "        tabs.children[0].children[2].layout.display = \"flex\" # show radio buttons\n",
    "    elif change[\"new\"] == 0 and change[\"old\"] > 0:\n",
    "        tabs.children[0].children[2].layout.display = \"none\" # hide radio buttons\n",
    "    \n",
    "        \n",
    "def plot_caller(*args):\n",
    "    curTab = tabs.selected_index\n",
    "    curL = tabs.children[curTab].children[0].value\n",
    "    curM = tabs.children[curTab].children[1].value\n",
    "    plt.close()\n",
    "    tabs.children[curTab].children[-1].clear_output()\n",
    "    \n",
    "    with tabs.children[curTab].children[-1]:\n",
    "        if curTab: #i.e. if complex tab\n",
    "            plotter(Y(curL,curM))\n",
    "        else:\n",
    "            plotter(real_Y(curL,curM,tabs.children[curTab].children[2].value))\n",
    "\n",
    "tabs.children[0].children[0].observe(update_m_bounds, \"value\") #real tab\n",
    "tabs.children[0].children[1].observe(update_pm, \"value\")\n",
    "tabs.children[1].children[0].observe(update_m_bounds, \"value\") #complex tab\n",
    "tabs.children[0].children[-2].on_click(plot_caller)\n",
    "tabs.children[1].children[-2].on_click(plot_caller)\n",
    "tabs"
   ]
  },
  {
   "cell_type": "markdown",
   "metadata": {},
   "source": [
    "# Radial Part<a id=\"rad\"></a>"
   ]
  },
  {
   "cell_type": "markdown",
   "metadata": {},
   "source": [
    "Moving on, define the associated Laguerre polynomials $L_k^\\alpha$:"
   ]
  },
  {
   "cell_type": "code",
   "execution_count": 13,
   "metadata": {},
   "outputs": [],
   "source": [
    "def Laguerre(k,alpha):\n",
    "    if k > 1:\n",
    "        return expand(((-x + 2*k + alpha - 1)*Laguerre(k-1,alpha) - (k + alpha - 1)*Laguerre(k-2,alpha))/k)\n",
    "    elif k == 1:\n",
    "        return 1 + alpha - x\n",
    "    else:\n",
    "        return 1"
   ]
  },
  {
   "cell_type": "markdown",
   "metadata": {},
   "source": [
    "What we need for the radial part are $L_{n-l-1}^{2l+1}$, shown below for $n\\le4$:"
   ]
  },
  {
   "cell_type": "code",
   "execution_count": 14,
   "metadata": {},
   "outputs": [
    {
     "data": {
      "image/png": "[encoded data removed]",
      "text/latex": [
       "$\\displaystyle \\left[ 1, \\  2 - x, \\  1, \\  \\frac{x^{2}}{2} - 3 x + 3, \\  4 - x, \\  1, \\  - \\frac{x^{3}}{6} + 2 x^{2} - 6 x + 4, \\  \\frac{x^{2}}{2} - 5 x + 10, \\  6 - x, \\  1\\right]$"
      ],
      "text/plain": [
       "⎡              2                         3                    2               \n",
       "⎢             x                         x       2            x                \n",
       "⎢1, 2 - x, 1, ── - 3⋅x + 3, 4 - x, 1, - ── + 2⋅x  - 6⋅x + 4, ── - 5⋅x + 10, 6 \n",
       "⎣             2                         6                    2                \n",
       "\n",
       "      ⎤\n",
       "      ⎥\n",
       "- x, 1⎥\n",
       "      ⎦"
      ]
     },
     "execution_count": 14,
     "metadata": {},
     "output_type": "execute_result"
    }
   ],
   "source": [
    "Lagus = []\n",
    "for i in range(1,5):\n",
    "    for j in range(i):\n",
    "        Lagus.append(Laguerre(i-j-1,2*j+1))\n",
    "        # these are the particular ones needed\n",
    "Lagus"
   ]
  },
  {
   "cell_type": "markdown",
   "metadata": {},
   "source": [
    "Make a function to return the specific $L_{n-l-1}^{2l+1}$ for a given $n,l$, with the substitution $\\large \\frac{2Zr}{na_0}$ for $x$:"
   ]
  },
  {
   "cell_type": "code",
   "execution_count": 15,
   "metadata": {},
   "outputs": [],
   "source": [
    "def subsLaguerre(n,l,Z):\n",
    "    res = Laguerre(n-l-1,2*l+1)\n",
    "    if res == 1:\n",
    "        return res\n",
    "    else:\n",
    "        return res.subs(x,2*Z*r/(n*a_0))"
   ]
  },
  {
   "cell_type": "code",
   "execution_count": 16,
   "metadata": {},
   "outputs": [
    {
     "data": {
      "image/png": "[encoded data removed]",
      "text/latex": [
       "$\\displaystyle \\left[ 1, \\  2 - \\frac{r}{a_{0}}, \\  1, \\  3 - \\frac{2 r}{a_{0}} + \\frac{2 r^{2}}{9 a_{0}^{2}}, \\  4 - \\frac{2 r}{3 a_{0}}, \\  1, \\  4 - \\frac{3 r}{a_{0}} + \\frac{r^{2}}{2 a_{0}^{2}} - \\frac{r^{3}}{48 a_{0}^{3}}, \\  10 - \\frac{5 r}{2 a_{0}} + \\frac{r^{2}}{8 a_{0}^{2}}, \\  6 - \\frac{r}{2 a_{0}}, \\  1\\right]$"
      ],
      "text/plain": [
       "⎡                            2                            2       3           \n",
       "⎢       r          2⋅r    2⋅r       2⋅r          3⋅r     r       r          5⋅\n",
       "⎢1, 2 - ──, 1, 3 - ─── + ─────, 4 - ────, 1, 4 - ─── + ───── - ──────, 10 - ──\n",
       "⎢       a₀          a₀       2      3⋅a₀          a₀       2        3       2⋅\n",
       "⎣                        9⋅a₀                          2⋅a₀    48⋅a₀          \n",
       "\n",
       "        2              ⎤\n",
       "r      r         r     ⎥\n",
       "── + ─────, 6 - ────, 1⎥\n",
       "a₀       2      2⋅a₀   ⎥\n",
       "     8⋅a₀              ⎦"
      ]
     },
     "execution_count": 16,
     "metadata": {},
     "output_type": "execute_result"
    }
   ],
   "source": [
    "Lagus2 = []\n",
    "for i in range(1,5):\n",
    "    for j in range(i):\n",
    "        Lagus2.append(subsLaguerre(i,j,1))\n",
    "Lagus2"
   ]
  },
  {
   "cell_type": "markdown",
   "metadata": {},
   "source": [
    "Now define the entire radial part:"
   ]
  },
  {
   "cell_type": "code",
   "execution_count": 17,
   "metadata": {},
   "outputs": [],
   "source": [
    "def R(n,l,Z):\n",
    "    return nsimplify((2/n)**(l+3/2)) * (Z/a_0)**(l+3/2) * sqrt(factorial(n-l-1)/(2*n*factorial(n+l))) * subsLaguerre(n,l,Z) * r**l * exp(-Z*r/(n*a_0))\n",
    "    # The weird splitting up of terms is to get things to simplify cleanly"
   ]
  },
  {
   "cell_type": "markdown",
   "metadata": {},
   "source": [
    "The radial parts $R_{n,l}$ for $n\\le4$ are shown below, with the substiution $\\sigma =$ $\\large \\frac{Zr}{a_0}$ for readability:"
   ]
  },
  {
   "cell_type": "code",
   "execution_count": 18,
   "metadata": {},
   "outputs": [
    {
     "data": {
      "image/png": "[encoded data removed]",
      "text/latex": [
       "$\\displaystyle \\left[ 2 \\left(\\frac{Z}{a_{0}}\\right)^{1.5} e^{- \\sigma}, \\  \\frac{\\sqrt{2} \\left(\\frac{Z}{a_{0}}\\right)^{1.5} \\left(2 - \\sigma\\right) e^{- \\frac{\\sigma}{2}}}{4}, \\  \\frac{\\sqrt{6} r \\left(\\frac{Z}{a_{0}}\\right)^{2.5} e^{- \\frac{\\sigma}{2}}}{12}, \\  \\frac{2 \\sqrt{3} \\left(\\frac{Z}{a_{0}}\\right)^{1.5} \\left(\\frac{2 \\sigma^{2}}{9} - 2 \\sigma + 3\\right) e^{- \\frac{\\sigma}{3}}}{27}, \\  \\frac{\\sqrt{6} r \\left(\\frac{Z}{a_{0}}\\right)^{2.5} \\left(4 - \\frac{2 \\sigma}{3}\\right) e^{- \\frac{\\sigma}{3}}}{81}, \\  \\frac{2 \\sqrt{30} r^{2} \\left(\\frac{Z}{a_{0}}\\right)^{3.5} e^{- \\frac{\\sigma}{3}}}{1215}, \\  \\frac{\\left(\\frac{Z}{a_{0}}\\right)^{1.5} \\left(- \\frac{\\sigma^{3}}{48} + \\frac{\\sigma^{2}}{2} - 3 \\sigma + 4\\right) e^{- \\frac{\\sigma}{4}}}{16}, \\  \\frac{\\sqrt{15} r \\left(\\frac{Z}{a_{0}}\\right)^{2.5} \\left(\\frac{\\sigma^{2}}{8} - \\frac{5 \\sigma}{2} + 10\\right) e^{- \\frac{\\sigma}{4}}}{480}, \\  \\frac{\\sqrt{5} r^{2} \\left(\\frac{Z}{a_{0}}\\right)^{3.5} \\left(6 - \\frac{\\sigma}{2}\\right) e^{- \\frac{\\sigma}{4}}}{1920}, \\  \\frac{\\sqrt{35} r^{3} \\left(\\frac{Z}{a_{0}}\\right)^{4.5} e^{- \\frac{\\sigma}{4}}}{26880}\\right]$"
      ],
      "text/plain": [
       "⎡                                   -σ                 -σ                     \n",
       "⎢                      1.5          ───           2.5  ───           1.5 ⎛   2\n",
       "⎢                  ⎛Z ⎞              2        ⎛Z ⎞      2        ⎛Z ⎞    ⎜2⋅σ \n",
       "⎢      1.5      √2⋅⎜──⎟   ⋅(2 - σ)⋅ℯ     √6⋅r⋅⎜──⎟   ⋅ℯ     2⋅√3⋅⎜──⎟   ⋅⎜────\n",
       "⎢  ⎛Z ⎞     -σ     ⎝a₀⎠                       ⎝a₀⎠               ⎝a₀⎠    ⎝ 9  \n",
       "⎢2⋅⎜──⎟   ⋅ℯ  , ───────────────────────, ─────────────────, ──────────────────\n",
       "⎣  ⎝a₀⎠                    4                     12                         27\n",
       "\n",
       "             -σ                           -σ                     -σ           \n",
       "          ⎞  ───           2.5            ───               3.5  ───      1.5 \n",
       "          ⎟   3        ⎛Z ⎞    ⎛    2⋅σ⎞   3          2 ⎛Z ⎞      3   ⎛Z ⎞    \n",
       " - 2⋅σ + 3⎟⋅ℯ     √6⋅r⋅⎜──⎟   ⋅⎜4 - ───⎟⋅ℯ     2⋅√30⋅r ⋅⎜──⎟   ⋅ℯ     ⎜──⎟   ⋅\n",
       "          ⎠            ⎝a₀⎠    ⎝     3 ⎠                ⎝a₀⎠          ⎝a₀⎠    \n",
       "────────────────, ───────────────────────────, ─────────────────────, ────────\n",
       "                               81                       1215                  \n",
       "\n",
       "                       -σ                                  -σ                 \n",
       "⎛   3    2          ⎞  ───            2.5 ⎛ 2           ⎞  ───            3.5 \n",
       "⎜  σ    σ           ⎟   4         ⎛Z ⎞    ⎜σ    5⋅σ     ⎟   4       2 ⎛Z ⎞    \n",
       "⎜- ── + ── - 3⋅σ + 4⎟⋅ℯ     √15⋅r⋅⎜──⎟   ⋅⎜── - ─── + 10⎟⋅ℯ     √5⋅r ⋅⎜──⎟   ⋅\n",
       "⎝  48   2           ⎠             ⎝a₀⎠    ⎝8     2      ⎠             ⎝a₀⎠    \n",
       "──────────────────────────, ──────────────────────────────────, ──────────────\n",
       "        16                                 480                             192\n",
       "\n",
       "         -σ                   -σ ⎤\n",
       "         ───             4.5  ───⎥\n",
       "⎛    σ⎞   4        3 ⎛Z ⎞      4 ⎥\n",
       "⎜6 - ─⎟⋅ℯ     √35⋅r ⋅⎜──⎟   ⋅ℯ   ⎥\n",
       "⎝    2⎠              ⎝a₀⎠        ⎥\n",
       "────────────, ───────────────────⎥\n",
       "0                    26880       ⎦"
      ]
     },
     "execution_count": 18,
     "metadata": {},
     "output_type": "execute_result"
    }
   ],
   "source": [
    "Rs = []\n",
    "for i in range(1,5):\n",
    "    for j in range(i):\n",
    "        Rs.append(R(i,j,Z).subs(Z*r/a_0,sigma))\n",
    "Rs"
   ]
  },
  {
   "cell_type": "markdown",
   "metadata": {},
   "source": [
    "The normalization condition for $R_{n,l}$ is $\\int_0^\\infty R^*Rr^2 dr = 1$, the probability density is $f(r) dr = R^*Rr^2dr$, so $f(r) = r^2R^2$ since $R$ is real-valued. \n",
    "\n",
    "Classically, $\\large E_n = \\frac{1}{n^2}\\frac{-q_e^4m_e}{8\\epsilon_0^2h^2}$ and $\\large V(r) = \\frac{-Zq_e}{4\\pi\\epsilon_0r}$, and $E\\le V$ so $\\large r_n \\le n^2 \\frac{2Z\\epsilon_0h^2}{\\pi q_e^2m_e} = 2Zn^2a_0$.\n",
    "\n",
    "Visualize this (the classically forbidden range is shaded in):"
   ]
  },
  {
   "cell_type": "code",
   "execution_count": 19,
   "metadata": {},
   "outputs": [],
   "source": [
    "def R_plotter(n,l,Z):\n",
    "    f = lambdify(r,(r**2*R(n,l,Z)**2).subs([(Z,1),(a_0,1)]),\"numpy\")\n",
    "    \n",
    "    r_Range = 10+20*(n-1) # how far to plot up to (in units of a_0)\n",
    "    \n",
    "    radius = np.linspace(0, r_Range, 1000)\n",
    "    R_val = f(radius)\n",
    "    \n",
    "    fig, ax = plt.subplots()\n",
    "    ax.plot(radius,R_val)\n",
    "    \n",
    "    plt.axvspan(2*Z*n**2, r_Range, facecolor='gray', alpha=0.15)\n",
    "    \n",
    "    ax.set_title(f\"$f(r)$ for $R_{{{n}}}^{{{l}}}$\")\n",
    "    ax.set_xlabel(\"$r/a_0$\")\n",
    "    ax.set_ylabel(\"$f(r)$\")\n",
    "\n",
    "    plt.show()"
   ]
  },
  {
   "cell_type": "code",
   "execution_count": 20,
   "metadata": {},
   "outputs": [
    {
     "data": {
      "application/vnd.jupyter.widget-view+json": {
       "model_id": "9904a899431e4e01818ecb2257782777",
       "version_major": 2,
       "version_minor": 0
      },
      "text/plain": [
       "VBox(children=(HBox(children=(BoundedIntText(value=1, description='$n$', max=10, min=1), BoundedIntText(value=…"
      ]
     },
     "metadata": {},
     "output_type": "display_data"
    }
   ],
   "source": [
    "# Radial GUI\n",
    "R_n = wg.BoundedIntText(value=1,min=1,max=10,description=r\"$n$\")\n",
    "R_l = wg.BoundedIntText(value=0,min=0,max=0,description=r\"$l$\")\n",
    "R_Z = wg.BoundedIntText(value=1,min=1,max=180,description=r\"$Z$\")\n",
    "R_button = wg.Button(description=\"Generate Plot\")\n",
    "R_out = wg.Output()\n",
    "R_box = wg.HBox([R_n,R_l,R_Z,R_button])\n",
    "R_GUI = wg.VBox([R_box,R_out])\n",
    "\n",
    "def update_l_bounds(change):\n",
    "    R_l.max = change[\"new\"]-1\n",
    "\n",
    "     \n",
    "def R_plot_caller(*args):\n",
    "    plt.close()\n",
    "    R_out.clear_output()  \n",
    "    with R_out:\n",
    "        R_plotter(R_n.value, R_l.value, R_Z.value)\n",
    "\n",
    "R_n.observe(update_l_bounds, \"value\")\n",
    "R_button.on_click(R_plot_caller)\n",
    "R_GUI"
   ]
  },
  {
   "cell_type": "markdown",
   "metadata": {},
   "source": [
    "# Complete Wave Functions<a id=\"pd\"></a>"
   ]
  },
  {
   "cell_type": "markdown",
   "metadata": {},
   "source": [
    "Now the real-valued wave functions are simply $\\psi_{n,l,m}(r,\\theta,\\phi) = R_{n,l}(r)Y_l^{\\left|m\\right|}(\\theta,\\phi)$:"
   ]
  },
  {
   "cell_type": "code",
   "execution_count": 21,
   "metadata": {},
   "outputs": [],
   "source": [
    "def Psi(n,l,m,Z,*pm):\n",
    "    if pm:\n",
    "        return real_Y(l,m,pm[0])*R(n,l,Z)\n",
    "    return real_Y(l,m)*R(n,l,Z)"
   ]
  },
  {
   "cell_type": "markdown",
   "metadata": {},
   "source": [
    "The final hydrogen-like atomic wave functions for $n\\le3$:"
   ]
  },
  {
   "cell_type": "code",
   "execution_count": 22,
   "metadata": {},
   "outputs": [
    {
     "data": {
      "image/png": "[encoded data removed]",
      "text/latex": [
       "$\\displaystyle \\left[ \\frac{\\left(\\frac{Z}{a_{0}}\\right)^{1.5} e^{- \\sigma}}{\\sqrt{\\pi}}, \\  \\frac{\\sqrt{2} \\left(\\frac{Z}{a_{0}}\\right)^{1.5} \\left(2 - \\sigma\\right) e^{- \\frac{\\sigma}{2}}}{8 \\sqrt{\\pi}}, \\  \\frac{\\sqrt{2} r \\left(\\frac{Z}{a_{0}}\\right)^{2.5} e^{- \\frac{\\sigma}{2}} \\cos{\\left(\\theta \\right)}}{8 \\sqrt{\\pi}}, \\  \\frac{\\sqrt{2} r \\left(\\frac{Z}{a_{0}}\\right)^{2.5} e^{- \\frac{\\sigma}{2}} \\sin{\\left(\\theta \\right)} \\cos{\\left(\\phi \\right)}}{8 \\sqrt{\\pi}}, \\  \\frac{\\sqrt{2} r \\left(\\frac{Z}{a_{0}}\\right)^{2.5} e^{- \\frac{\\sigma}{2}} \\sin{\\left(\\phi \\right)} \\sin{\\left(\\theta \\right)}}{8 \\sqrt{\\pi}}, \\  \\frac{\\sqrt{3} \\left(\\frac{Z}{a_{0}}\\right)^{1.5} \\left(\\frac{2 \\sigma^{2}}{9} - 2 \\sigma + 3\\right) e^{- \\frac{\\sigma}{3}}}{27 \\sqrt{\\pi}}, \\  \\frac{\\sqrt{2} r \\left(\\frac{Z}{a_{0}}\\right)^{2.5} \\left(4 - \\frac{2 \\sigma}{3}\\right) e^{- \\frac{\\sigma}{3}} \\cos{\\left(\\theta \\right)}}{54 \\sqrt{\\pi}}, \\  \\frac{\\sqrt{2} r \\left(\\frac{Z}{a_{0}}\\right)^{2.5} \\left(4 - \\frac{2 \\sigma}{3}\\right) e^{- \\frac{\\sigma}{3}} \\sin{\\left(\\theta \\right)} \\cos{\\left(\\phi \\right)}}{54 \\sqrt{\\pi}}, \\  \\frac{\\sqrt{2} r \\left(\\frac{Z}{a_{0}}\\right)^{2.5} \\left(4 - \\frac{2 \\sigma}{3}\\right) e^{- \\frac{\\sigma}{3}} \\sin{\\left(\\phi \\right)} \\sin{\\left(\\theta \\right)}}{54 \\sqrt{\\pi}}, \\  \\frac{\\sqrt{6} r^{2} \\left(\\frac{Z}{a_{0}}\\right)^{3.5} \\left(\\frac{3 \\cos^{2}{\\left(\\theta \\right)}}{2} - \\frac{1}{2}\\right) e^{- \\frac{\\sigma}{3}}}{243 \\sqrt{\\pi}}, \\  \\frac{\\sqrt{2} r^{2} \\left(\\frac{Z}{a_{0}}\\right)^{3.5} e^{- \\frac{\\sigma}{3}} \\sin{\\left(2 \\theta \\right)} \\cos{\\left(\\phi \\right)}}{162 \\sqrt{\\pi}}, \\  \\frac{\\sqrt{2} r^{2} \\left(\\frac{Z}{a_{0}}\\right)^{3.5} e^{- \\frac{\\sigma}{3}} \\sin{\\left(\\phi \\right)} \\sin{\\left(2 \\theta \\right)}}{162 \\sqrt{\\pi}}, \\  \\frac{\\sqrt{2} r^{2} \\left(\\frac{Z}{a_{0}}\\right)^{3.5} e^{- \\frac{\\sigma}{3}} \\sin^{2}{\\left(\\theta \\right)} \\cos{\\left(2 \\phi \\right)}}{162 \\sqrt{\\pi}}, \\  \\frac{\\sqrt{2} r^{2} \\left(\\frac{Z}{a_{0}}\\right)^{3.5} e^{- \\frac{\\sigma}{3}} \\sin{\\left(2 \\phi \\right)} \\sin^{2}{\\left(\\theta \\right)}}{162 \\sqrt{\\pi}}\\right]$"
      ],
      "text/plain": [
       "⎡                                 -σ                 -σ                       \n",
       "⎢    1.5             1.5          ───           2.5  ───                  2.5 \n",
       "⎢⎛Z ⎞     -σ     ⎛Z ⎞              2        ⎛Z ⎞      2               ⎛Z ⎞    \n",
       "⎢⎜──⎟   ⋅ℯ    √2⋅⎜──⎟   ⋅(2 - σ)⋅ℯ     √2⋅r⋅⎜──⎟   ⋅ℯ   ⋅cos(θ)  √2⋅r⋅⎜──⎟   ⋅\n",
       "⎢⎝a₀⎠            ⎝a₀⎠                       ⎝a₀⎠                      ⎝a₀⎠    \n",
       "⎢───────────, ───────────────────────, ────────────────────────, ─────────────\n",
       "⎣     √π                8⋅√π                     8⋅√π                         \n",
       "\n",
       " -σ                               -σ                                          \n",
       " ───                         2.5  ───                       1.5 ⎛   2         \n",
       "  2                      ⎛Z ⎞      2                    ⎛Z ⎞    ⎜2⋅σ          \n",
       "ℯ   ⋅sin(θ)⋅cos(φ)  √2⋅r⋅⎜──⎟   ⋅ℯ   ⋅sin(φ)⋅sin(θ)  √3⋅⎜──⎟   ⋅⎜──── - 2⋅σ + \n",
       "                         ⎝a₀⎠                           ⎝a₀⎠    ⎝ 9           \n",
       "──────────────────, ───────────────────────────────, ─────────────────────────\n",
       " 8⋅√π                             8⋅√π                            27⋅√π       \n",
       "\n",
       "    -σ                           -σ                                  -σ       \n",
       " ⎞  ───           2.5            ───                  2.5            ───      \n",
       " ⎟   3        ⎛Z ⎞    ⎛    2⋅σ⎞   3               ⎛Z ⎞    ⎛    2⋅σ⎞   3       \n",
       "3⎟⋅ℯ     √2⋅r⋅⎜──⎟   ⋅⎜4 - ───⎟⋅ℯ   ⋅cos(θ)  √2⋅r⋅⎜──⎟   ⋅⎜4 - ───⎟⋅ℯ   ⋅sin(θ\n",
       " ⎠            ⎝a₀⎠    ⎝     3 ⎠                   ⎝a₀⎠    ⎝     3 ⎠           \n",
       "───────, ──────────────────────────────────, ─────────────────────────────────\n",
       "                       54⋅√π                                   54⋅√π          \n",
       "\n",
       "                                  -σ                                          \n",
       "                   2.5            ───                          3.5 ⎛     2    \n",
       "               ⎛Z ⎞    ⎛    2⋅σ⎞   3                     2 ⎛Z ⎞    ⎜3⋅cos (θ) \n",
       ")⋅cos(φ)  √2⋅r⋅⎜──⎟   ⋅⎜4 - ───⎟⋅ℯ   ⋅sin(φ)⋅sin(θ)  √6⋅r ⋅⎜──⎟   ⋅⎜───────── \n",
       "               ⎝a₀⎠    ⎝     3 ⎠                           ⎝a₀⎠    ⎝    2     \n",
       "────────, ─────────────────────────────────────────, ─────────────────────────\n",
       "                            54⋅√π                                  243⋅√π     \n",
       "\n",
       "      -σ                  -σ                                  -σ              \n",
       "   ⎞  ───            3.5  ───                            3.5  ───             \n",
       "  1⎟   3       2 ⎛Z ⎞      3                       2 ⎛Z ⎞      3              \n",
       "- ─⎟⋅ℯ     √2⋅r ⋅⎜──⎟   ⋅ℯ   ⋅sin(2⋅θ)⋅cos(φ)  √2⋅r ⋅⎜──⎟   ⋅ℯ   ⋅sin(φ)⋅sin(2\n",
       "  2⎠             ⎝a₀⎠                                ⎝a₀⎠                     \n",
       "─────────, ──────────────────────────────────, ───────────────────────────────\n",
       "                         162⋅√π                              162⋅√π           \n",
       "\n",
       "                    -σ                                   -σ                  ⎤\n",
       "               3.5  ───                             3.5  ───                 ⎥\n",
       "         2 ⎛Z ⎞      3     2                  2 ⎛Z ⎞      3              2   ⎥\n",
       "⋅θ)  √2⋅r ⋅⎜──⎟   ⋅ℯ   ⋅sin (θ)⋅cos(2⋅φ)  √2⋅r ⋅⎜──⎟   ⋅ℯ   ⋅sin(2⋅φ)⋅sin (θ)⎥\n",
       "           ⎝a₀⎠                                 ⎝a₀⎠                         ⎥\n",
       "───, ───────────────────────────────────, ───────────────────────────────────⎥\n",
       "                    162⋅√π                               162⋅√π              ⎦"
      ]
     },
     "execution_count": 22,
     "metadata": {},
     "output_type": "execute_result"
    }
   ],
   "source": [
    "Psis = []\n",
    "for i in range(1,4):\n",
    "    for j in range(i):\n",
    "        for k in range(j+1):\n",
    "            if k == 0:\n",
    "                Psis.append(Psi(i,j,k,Z).subs(Z*r/a_0,sigma))\n",
    "                #substiution sigma = Zr/a_0 for readability\n",
    "            else:\n",
    "                Psis.append(Psi(i,j,k,Z,\"+\").subs(Z*r/a_0,sigma))\n",
    "                Psis.append(Psi(i,j,k,Z,\"-\").subs(Z*r/a_0,sigma))\n",
    "\n",
    "Psis"
   ]
  },
  {
   "cell_type": "markdown",
   "metadata": {},
   "source": [
    "## Visualizing the final functions"
   ]
  },
  {
   "cell_type": "markdown",
   "metadata": {},
   "source": [
    "Visualize the probability density by plotting random points within a certain radius and coloring them according to the value of  $\\left|\\psi\\right|^2$ there.\n",
    "\n",
    "Note $[\\left|\\psi\\right|^2] = L^{-3}$ since $[\\psi^*\\psi r^2dr\\sin\\theta d\\theta d\\phi] = [\\psi^*\\psi dxdydz] = 1$."
   ]
  },
  {
   "cell_type": "code",
   "execution_count": 23,
   "metadata": {},
   "outputs": [],
   "source": [
    "# Visualize the probability densities\n",
    "# by plotting random points in space and coloring them\n",
    "\n",
    "from matplotlib.colors import LinearSegmentedColormap, Normalize\n",
    "from matplotlib.cm import ScalarMappable\n",
    "\n",
    "def randrange(n, vmin, vmax):  \n",
    "    return (vmax - vmin)*np.random.rand(n) + vmin\n",
    "\n",
    "def Psi_plotter(n,l,m,Z,*pm):\n",
    "    f = lambdify(\n",
    "        [r,theta,phi],\n",
    "        (Psi(n,l,m,Z,*pm).subs(a_0,1))**2,\n",
    "        \"numpy\")\n",
    "    \n",
    "    r_Range = (10+20*(n-1))/2\n",
    "    # in units of a_0.\n",
    "    # there's probably some smart way to do this\n",
    "    \n",
    "    fig = plt.figure()\n",
    "    ax = fig.add_subplot(1,1,1, projection='3d')\n",
    "    \n",
    "    # Redefine the inferno color map with scaled alpha (transparency)\n",
    "    nColors = 256\n",
    "    cArray = plt.get_cmap(\"inferno\")(range(nColors))\n",
    "    cArray[:,-1] = np.linspace(0.0,1.0,nColors)\n",
    "    mapObj = LinearSegmentedColormap.from_list(\n",
    "        name=\"inferno_alpha\",colors=cArray)\n",
    "    plt.register_cmap(cmap=mapObj)\n",
    "    \n",
    "    ax.set_facecolor('grey')\n",
    "    fig.set_facecolor('grey')\n",
    "    \n",
    "    nPoints = 5000\n",
    "    rs = randrange(nPoints, 0, r_Range)\n",
    "    thetas = randrange(nPoints, 0, np.pi)\n",
    "    phis = randrange(nPoints, 0, 2*np.pi)\n",
    "    \n",
    "    xs = rs * np.sin(thetas) * np.cos(phis)\n",
    "    ys = rs * np.sin(thetas) * np.sin(phis)\n",
    "    zs = rs * np.cos(thetas)\n",
    "    \n",
    "    ax.scatter(\n",
    "        xs, ys, zs, marker=\"o\",\n",
    "        c=f(rs,thetas,phis), cmap = \"inferno_alpha\"\n",
    "    )\n",
    "    \n",
    "    fig.colorbar(\n",
    "        ScalarMappable(cmap=\"inferno_alpha\",norm=Normalize(0,max(f(rs,thetas,phis)))),\n",
    "        ax = ax,\n",
    "        orientation = \"vertical\", pad = .15,\n",
    "        label = r\"$\\left|\\psi(r,\\theta,\\phi)\\right|^2$ $(a_0^{-3})$\"\n",
    "    )\n",
    "    \n",
    "    ax.set_title(r\"Probability Density\")\n",
    "    ax.set_xlim(-r_Range,r_Range)\n",
    "    ax.set_ylim(-r_Range,r_Range)\n",
    "    ax.set_zlim(-r_Range,r_Range)\n",
    "    ax.view_init(5,-45)\n",
    "    \n",
    "    ax.set_xlabel(r'$x$ $(a_0)$')\n",
    "    ax.set_ylabel(r'$y$ $(a_0)$')\n",
    "    ax.set_zlabel(r'$z$ $(a_0)$')\n",
    "\n",
    "    plt.show()"
   ]
  },
  {
   "cell_type": "code",
   "execution_count": 24,
   "metadata": {},
   "outputs": [
    {
     "data": {
      "application/vnd.jupyter.widget-view+json": {
       "model_id": "52ea126ba0e4480ea6b8c55c0e618832",
       "version_major": 2,
       "version_minor": 0
      },
      "text/plain": [
       "VBox(children=(HBox(children=(BoundedIntText(value=1, description='$n$', max=10, min=1), BoundedIntText(value=…"
      ]
     },
     "metadata": {},
     "output_type": "display_data"
    }
   ],
   "source": [
    "# Probability Density GUI\n",
    "\n",
    "Psi_n = wg.BoundedIntText(value=1,min=1,max=10,description=r\"$n$\")\n",
    "Psi_l = wg.BoundedIntText(value=0,min=0,max=0,description=r\"$l$\")\n",
    "Psi_m = wg.BoundedIntText(value=1,min=0,max=0,description=r\"$\\left|m\\right|$\")\n",
    "Psi_pm = wg.RadioButtons(options=[\"+\",\"-\"],description=\"$Y_l^m \\pm Y_l^{-m}$\", layout=wg.Layout(display=\"none\"))\n",
    "Psi_Z = wg.BoundedIntText(value=1,min=1,max=180,description=r\"$Z$\")\n",
    "Psi_button = wg.Button(description=\"Generate Plot\")\n",
    "Psi_out = wg.Output()\n",
    "Psi_box = wg.HBox([Psi_n,Psi_l,Psi_m,Psi_pm,Psi_Z,Psi_button])\n",
    "Psi_GUI = wg.VBox([Psi_box,Psi_out])\n",
    "\n",
    "def Psi_update_l_bounds(change):\n",
    "    Psi_l.max = change[\"new\"]-1\n",
    "    \n",
    "def Psi_update_m_bounds(change):\n",
    "    Psi_m.max = change[\"new\"]\n",
    "    \n",
    "def Psi_update_pm(change):\n",
    "    if change[\"new\"] > 0 and change[\"old\"] == 0:\n",
    "        Psi_pm.layout.display = \"flex\" # show radio buttons\n",
    "    elif change[\"new\"] == 0 and change[\"old\"] > 0:\n",
    "        Psi_pm.layout.display = \"none\" # hide radio buttons\n",
    "\n",
    "def Psi_plot_caller(*args):\n",
    "    plt.close()\n",
    "    Psi_out.clear_output()  \n",
    "    with Psi_out:\n",
    "        Psi_plotter(Psi_n.value, Psi_l.value, Psi_m.value, Psi_Z.value, Psi_pm.value)\n",
    "\n",
    "Psi_n.observe(Psi_update_l_bounds, \"value\")\n",
    "Psi_l.observe(Psi_update_m_bounds, \"value\")\n",
    "Psi_m.observe(Psi_update_pm, \"value\")\n",
    "Psi_button.on_click(Psi_plot_caller)\n",
    "Psi_GUI"
   ]
  },
  {
   "cell_type": "markdown",
   "metadata": {},
   "source": [
    "Zoom (right click) and rotate these!"
   ]
  }
 ],
 "metadata": {
  "kernelspec": {
   "display_name": "Python 3",
   "language": "python",
   "name": "python3"
  },
  "language_info": {
   "codemirror_mode": {
    "name": "ipython",
    "version": 3
   },
   "file_extension": ".py",
   "mimetype": "text/x-python",
   "name": "python",
   "nbconvert_exporter": "python",
   "pygments_lexer": "ipython3",
   "version": "3.7.3"
  },
  "widgets": {
   "application/vnd.jupyter.widget-state+json": {
    "state": {
     "022a285f33604f8ebbe187ffffc53476": {
      "model_module": "@jupyter-widgets/controls",
      "model_module_version": "1.5.0",
      "model_name": "DescriptionStyleModel",
      "state": {
       "description_width": ""
      }
     },
     "02a2e537783e413cabb7fb37aa07de42": {
      "model_module": "@jupyter-widgets/base",
      "model_module_version": "1.2.0",
      "model_name": "LayoutModel",
      "state": {}
     },
     "03d7a5304c6e4415a500ea5cc4a13b64": {
      "model_module": "@jupyter-widgets/controls",
      "model_module_version": "1.5.0",
      "model_name": "DescriptionStyleModel",
      "state": {
       "description_width": ""
      }
     },
     "04ade74c83d0401a8b3e6ad919b095fa": {
      "model_module": "@jupyter-widgets/output",
      "model_module_version": "1.0.0",
      "model_name": "OutputModel",
      "state": {
       "layout": "IPY_MODEL_94186af0f14c45eaada91198fea5e3e4"
      }
     },
     "076f2740bc8e48f9b9d5232447a315b5": {
      "model_module": "@jupyter-widgets/controls",
      "model_module_version": "1.5.0",
      "model_name": "DescriptionStyleModel",
      "state": {
       "description_width": ""
      }
     },
     "0771aeb769004a1c9606a1943fba0249": {
      "model_module": "@jupyter-widgets/controls",
      "model_module_version": "1.5.0",
      "model_name": "HBoxModel",
      "state": {
       "children": [
        "IPY_MODEL_f9d7ca1e6e264fe79e74a27793e600f3",
        "IPY_MODEL_7ff474075b5f4149888a30a539fb46aa",
        "IPY_MODEL_bf614850a3c34bef9f320d9f540eb873",
        "IPY_MODEL_56d25bbb56764d158f056d9b1b016e97",
        "IPY_MODEL_9e0c58686ebe45e5afc35eea54ad6541",
        "IPY_MODEL_c6e15a9702d64bc7b9b858a32220e744"
       ],
       "layout": "IPY_MODEL_dc4aadf0dd824636b0ee28b263a2734b"
      }
     },
     "07f010ff3f984f18a06a548be841d871": {
      "model_module": "@jupyter-widgets/controls",
      "model_module_version": "1.5.0",
      "model_name": "ButtonStyleModel",
      "state": {}
     },
     "0a08f8c365ea4fcf8d7182ba9aab0d64": {
      "model_module": "@jupyter-widgets/controls",
      "model_module_version": "1.5.0",
      "model_name": "ButtonModel",
      "state": {
       "description": "Generate Plot",
       "layout": "IPY_MODEL_988e9938c6b8478488367d36cc41f079",
       "style": "IPY_MODEL_35244fb84fa149238e170a13bb13f488"
      }
     },
     "0ad12f259cde48eab8eb4699961535cc": {
      "model_module": "@jupyter-widgets/controls",
      "model_module_version": "1.5.0",
      "model_name": "BoundedIntTextModel",
      "state": {
       "description": "$m$",
       "layout": "IPY_MODEL_72a7caee97764fd2a618ba22941f9728",
       "max": 0,
       "style": "IPY_MODEL_639baece5b244c159a60cd2a6e2c8e9f"
      }
     },
     "0b44801a4f1044f29a0dad07ee48449f": {
      "model_module": "@jupyter-widgets/base",
      "model_module_version": "1.2.0",
      "model_name": "LayoutModel",
      "state": {}
     },
     "0dbf0511e23045a19278e5cefa97e57a": {
      "model_module": "@jupyter-widgets/base",
      "model_module_version": "1.2.0",
      "model_name": "LayoutModel",
      "state": {}
     },
     "0dde74378b1d4554a4ea0f1cd7f0174a": {
      "model_module": "@jupyter-widgets/base",
      "model_module_version": "1.2.0",
      "model_name": "LayoutModel",
      "state": {}
     },
     "0fd14c8937bb496292c9fabece994600": {
      "model_module": "@jupyter-widgets/controls",
      "model_module_version": "1.5.0",
      "model_name": "BoundedIntTextModel",
      "state": {
       "description": "$l$",
       "layout": "IPY_MODEL_d9d8034a1f7c4a1ea62a9da78147ee01",
       "style": "IPY_MODEL_1ab6b8ee326e45a79388b9f490aea13a"
      }
     },
     "10d4848bb4c4490d82685225b823231f": {
      "model_module": "@jupyter-widgets/controls",
      "model_module_version": "1.5.0",
      "model_name": "DescriptionStyleModel",
      "state": {
       "description_width": ""
      }
     },
     "110ca46bdce24df3abf59422b9cbfca9": {
      "model_module": "@jupyter-widgets/controls",
      "model_module_version": "1.5.0",
      "model_name": "ButtonModel",
      "state": {
       "description": "Generate Plot",
       "layout": "IPY_MODEL_3bb4326ae2fb42a38c97bbadf9245a20",
       "style": "IPY_MODEL_ee4c99bcd36b48c7997ff394d4cbf1f1"
      }
     },
     "14559c40f4df40fca9bcf08d802d207e": {
      "model_module": "@jupyter-widgets/controls",
      "model_module_version": "1.5.0",
      "model_name": "VBoxModel",
      "state": {
       "children": [
        "IPY_MODEL_f199299cbfcc4aba99d7449c82eecd10",
        "IPY_MODEL_68a29c69c2c0409da890314f57ce532d",
        "IPY_MODEL_fbd73a1619554f7598b65acd35eac63c",
        "IPY_MODEL_64e3ac4416014fa88a926a8e2956677b",
        "IPY_MODEL_55bfed8f87de48fc8222559235619e63"
       ],
       "layout": "IPY_MODEL_c8999f30a37b44e3b5da78210434717a"
      }
     },
     "151117aea1804dee9bbbcd38c12ac9f4": {
      "model_module": "@jupyter-widgets/base",
      "model_module_version": "1.2.0",
      "model_name": "LayoutModel",
      "state": {
       "display": "none"
      }
     },
     "16c18ebf25c147b28048bdf3477a91a0": {
      "model_module": "@jupyter-widgets/controls",
      "model_module_version": "1.5.0",
      "model_name": "DescriptionStyleModel",
      "state": {
       "description_width": ""
      }
     },
     "1899e22c3d46490481425e58944ee75b": {
      "model_module": "@jupyter-widgets/controls",
      "model_module_version": "1.5.0",
      "model_name": "HBoxModel",
      "state": {
       "children": [
        "IPY_MODEL_8f882ce211df402490453e309469d42a",
        "IPY_MODEL_e902ccf484b34e799c431eb5a03a59fb",
        "IPY_MODEL_f989540c531a47b6a1f3bfe1316a4de3",
        "IPY_MODEL_56a2c2ecf43e496794b0e29f678e4da4"
       ],
       "layout": "IPY_MODEL_c3d51ee4c9a64248901d2a8b05fcd0f9"
      }
     },
     "19f652a9cbee4993997395187dcc1be7": {
      "model_module": "@jupyter-widgets/controls",
      "model_module_version": "1.5.0",
      "model_name": "VBoxModel",
      "state": {
       "children": [
        "IPY_MODEL_1899e22c3d46490481425e58944ee75b",
        "IPY_MODEL_04ade74c83d0401a8b3e6ad919b095fa"
       ],
       "layout": "IPY_MODEL_ef6283217fc142c0acd0a673e91f9446"
      }
     },
     "1ab6b8ee326e45a79388b9f490aea13a": {
      "model_module": "@jupyter-widgets/controls",
      "model_module_version": "1.5.0",
      "model_name": "DescriptionStyleModel",
      "state": {
       "description_width": ""
      }
     },
     "1b25de5cc84340258c58b9c2abfaa262": {
      "model_module": "@jupyter-widgets/controls",
      "model_module_version": "1.5.0",
      "model_name": "ButtonStyleModel",
      "state": {}
     },
     "1b32664842ed4c38944c9b246fc487d7": {
      "model_module": "@jupyter-widgets/base",
      "model_module_version": "1.2.0",
      "model_name": "LayoutModel",
      "state": {}
     },
     "1c8e68bc47f14d6bb52139f59c90d340": {
      "model_module": "@jupyter-widgets/base",
      "model_module_version": "1.2.0",
      "model_name": "LayoutModel",
      "state": {}
     },
     "1e23b23d3dd743a49b2c30afee0a4617": {
      "model_module": "@jupyter-widgets/base",
      "model_module_version": "1.2.0",
      "model_name": "LayoutModel",
      "state": {}
     },
     "1e632c8693dc4b8f8368edb46ba02b1e": {
      "model_module": "@jupyter-widgets/base",
      "model_module_version": "1.2.0",
      "model_name": "LayoutModel",
      "state": {}
     },
     "208ef933ccd141c2a7a3d25a742bf93d": {
      "model_module": "@jupyter-widgets/base",
      "model_module_version": "1.2.0",
      "model_name": "LayoutModel",
      "state": {}
     },
     "26689dc32e504458a75fd00ba39f0370": {
      "model_module": "@jupyter-widgets/base",
      "model_module_version": "1.2.0",
      "model_name": "LayoutModel",
      "state": {}
     },
     "2ae34321b9c046ca8e0d098e311ff4d2": {
      "model_module": "@jupyter-widgets/controls",
      "model_module_version": "1.5.0",
      "model_name": "DescriptionStyleModel",
      "state": {
       "description_width": ""
      }
     },
     "2b21bcf25ae44029bee1333547b6bafb": {
      "model_module": "@jupyter-widgets/controls",
      "model_module_version": "1.5.0",
      "model_name": "BoundedIntTextModel",
      "state": {
       "description": "$m$",
       "layout": "IPY_MODEL_9f460aad97f84cf999affe7ba8136b91",
       "max": 0,
       "style": "IPY_MODEL_50f91f76a4264552895717472ba920dd"
      }
     },
     "2c8a226d39c04b3383c3ab6d37f34ec0": {
      "model_module": "@jupyter-widgets/controls",
      "model_module_version": "1.5.0",
      "model_name": "DescriptionStyleModel",
      "state": {
       "description_width": ""
      }
     },
     "2f2acfc1b8c342baa4877c65bfb2bab9": {
      "model_module": "@jupyter-widgets/controls",
      "model_module_version": "1.5.0",
      "model_name": "BoundedIntTextModel",
      "state": {
       "description": "$l$",
       "layout": "IPY_MODEL_b3ef608d78bf4e37a8ef65dd7ef09162",
       "style": "IPY_MODEL_10d4848bb4c4490d82685225b823231f"
      }
     },
     "2f2d479bbbe7420aa43ec478c828f8d3": {
      "model_module": "@jupyter-widgets/controls",
      "model_module_version": "1.5.0",
      "model_name": "BoundedIntTextModel",
      "state": {
       "description": "$l$",
       "layout": "IPY_MODEL_c4f8cc0e638649d4a3446af24f8a9bcc",
       "max": 0,
       "style": "IPY_MODEL_b861d7ebda234f46aa13894e85a3b40b"
      }
     },
     "2fc8e0dedfe14f09a713dc889d903e37": {
      "model_module": "@jupyter-widgets/controls",
      "model_module_version": "1.5.0",
      "model_name": "HBoxModel",
      "state": {
       "children": [
        "IPY_MODEL_e77f6655bb9d4d23a05cf121d3d5f771",
        "IPY_MODEL_2f2d479bbbe7420aa43ec478c828f8d3",
        "IPY_MODEL_93716aad933e40fa80d7a9d47cd994ba",
        "IPY_MODEL_0a08f8c365ea4fcf8d7182ba9aab0d64"
       ],
       "layout": "IPY_MODEL_93196e9903d442b685549221dae46fd0"
      }
     },
     "313594a1fa9a47e69837dd4f8770bcf7": {
      "model_module": "@jupyter-widgets/controls",
      "model_module_version": "1.5.0",
      "model_name": "ButtonModel",
      "state": {
       "description": "Generate Plot",
       "layout": "IPY_MODEL_9ba9e9ee36ee441ca2c5cf0b9305a459",
       "style": "IPY_MODEL_8a026f4fba0148709c4c4a6942e8a3bd"
      }
     },
     "31cbab946ff94b718a17a53ef7b097f8": {
      "model_module": "@jupyter-widgets/controls",
      "model_module_version": "1.5.0",
      "model_name": "DescriptionStyleModel",
      "state": {
       "description_width": ""
      }
     },
     "35244fb84fa149238e170a13bb13f488": {
      "model_module": "@jupyter-widgets/controls",
      "model_module_version": "1.5.0",
      "model_name": "ButtonStyleModel",
      "state": {}
     },
     "3690f0ced52b4c3a8e907c66412a88e7": {
      "model_module": "@jupyter-widgets/controls",
      "model_module_version": "1.5.0",
      "model_name": "DescriptionStyleModel",
      "state": {
       "description_width": ""
      }
     },
     "3750b32f248245b1bf888e556f6b490a": {
      "model_module": "@jupyter-widgets/base",
      "model_module_version": "1.2.0",
      "model_name": "LayoutModel",
      "state": {}
     },
     "3bb4326ae2fb42a38c97bbadf9245a20": {
      "model_module": "@jupyter-widgets/base",
      "model_module_version": "1.2.0",
      "model_name": "LayoutModel",
      "state": {}
     },
     "3c51cebda198471b956ac09b5746057e": {
      "model_module": "@jupyter-widgets/base",
      "model_module_version": "1.2.0",
      "model_name": "LayoutModel",
      "state": {}
     },
     "3daec74441da41d083efe2d839059a24": {
      "model_module": "@jupyter-widgets/controls",
      "model_module_version": "1.5.0",
      "model_name": "TabModel",
      "state": {
       "_titles": {
        "0": "real",
        "1": "complex"
       },
       "children": [
        "IPY_MODEL_14559c40f4df40fca9bcf08d802d207e",
        "IPY_MODEL_e8eb05f48f2e40099e33255a602d8c0e"
       ],
       "layout": "IPY_MODEL_26689dc32e504458a75fd00ba39f0370"
      }
     },
     "3fecc59c55bc4c749e270933e272c047": {
      "model_module": "@jupyter-widgets/base",
      "model_module_version": "1.2.0",
      "model_name": "LayoutModel",
      "state": {
       "display": "none"
      }
     },
     "4399cc6581d9481384680bdd1e682e1c": {
      "model_module": "@jupyter-widgets/base",
      "model_module_version": "1.2.0",
      "model_name": "LayoutModel",
      "state": {
       "display": "none"
      }
     },
     "445aa705c8bc4e3996428808ecb358da": {
      "model_module": "@jupyter-widgets/controls",
      "model_module_version": "1.5.0",
      "model_name": "ButtonStyleModel",
      "state": {}
     },
     "45421146bff94d68a9a051de8c587920": {
      "model_module": "@jupyter-widgets/controls",
      "model_module_version": "1.5.0",
      "model_name": "ButtonModel",
      "state": {
       "description": "Generate Plot",
       "layout": "IPY_MODEL_68e47e7511284adcb12eb4e821e8cd4d",
       "style": "IPY_MODEL_1b25de5cc84340258c58b9c2abfaa262"
      }
     },
     "4a623a22ab1c4e33951bf9cae685e188": {
      "model_module": "@jupyter-widgets/base",
      "model_module_version": "1.2.0",
      "model_name": "LayoutModel",
      "state": {}
     },
     "4e0f0be1a0c1497fb60b69704cc99bb2": {
      "model_module": "@jupyter-widgets/base",
      "model_module_version": "1.2.0",
      "model_name": "LayoutModel",
      "state": {}
     },
     "4fb8fbf445a74d729b027cd23f8d741e": {
      "model_module": "@jupyter-widgets/base",
      "model_module_version": "1.2.0",
      "model_name": "LayoutModel",
      "state": {}
     },
     "50f91f76a4264552895717472ba920dd": {
      "model_module": "@jupyter-widgets/controls",
      "model_module_version": "1.5.0",
      "model_name": "DescriptionStyleModel",
      "state": {
       "description_width": ""
      }
     },
     "52ea126ba0e4480ea6b8c55c0e618832": {
      "model_module": "@jupyter-widgets/controls",
      "model_module_version": "1.5.0",
      "model_name": "VBoxModel",
      "state": {
       "children": [
        "IPY_MODEL_6ee0fb767f2a48b4bb63c956abefc377",
        "IPY_MODEL_ebddce8b17274217bfe94bce7baf3c06"
       ],
       "layout": "IPY_MODEL_d32f2627965e4cb192f3b3695c337d00"
      }
     },
     "534c1044c5354823a2438ef2ab4da60d": {
      "model_module": "@jupyter-widgets/controls",
      "model_module_version": "1.5.0",
      "model_name": "DescriptionStyleModel",
      "state": {
       "description_width": ""
      }
     },
     "55bfed8f87de48fc8222559235619e63": {
      "model_module": "@jupyter-widgets/output",
      "model_module_version": "1.0.0",
      "model_name": "OutputModel",
      "state": {
       "layout": "IPY_MODEL_9f7b4214e8ee448589e107465877e671"
      }
     },
     "56a2c2ecf43e496794b0e29f678e4da4": {
      "model_module": "@jupyter-widgets/controls",
      "model_module_version": "1.5.0",
      "model_name": "ButtonModel",
      "state": {
       "description": "Generate Plot",
       "layout": "IPY_MODEL_a272e5971e67485a82a8636117c7d681",
       "style": "IPY_MODEL_58d3aaa14da74ec9bf036e0e7e72c822"
      }
     },
     "56d25bbb56764d158f056d9b1b016e97": {
      "model_module": "@jupyter-widgets/controls",
      "model_module_version": "1.5.0",
      "model_name": "RadioButtonsModel",
      "state": {
       "_options_labels": [
        "+",
        "-"
       ],
       "description": "$Y_l^m \\pm Y_l^{-m}$",
       "index": 0,
       "layout": "IPY_MODEL_4399cc6581d9481384680bdd1e682e1c",
       "style": "IPY_MODEL_022a285f33604f8ebbe187ffffc53476"
      }
     },
     "58d3aaa14da74ec9bf036e0e7e72c822": {
      "model_module": "@jupyter-widgets/controls",
      "model_module_version": "1.5.0",
      "model_name": "ButtonStyleModel",
      "state": {}
     },
     "5dbd9fb8b45848b5a5706ffdb05deab7": {
      "model_module": "@jupyter-widgets/controls",
      "model_module_version": "1.5.0",
      "model_name": "BoundedIntTextModel",
      "state": {
       "description": "$n$",
       "layout": "IPY_MODEL_c6402d373d07444cac0493db9836578f",
       "max": 10,
       "min": 1,
       "style": "IPY_MODEL_67b1000878994eb8ba35f7dbf3f6b553",
       "value": 1
      }
     },
     "639baece5b244c159a60cd2a6e2c8e9f": {
      "model_module": "@jupyter-widgets/controls",
      "model_module_version": "1.5.0",
      "model_name": "DescriptionStyleModel",
      "state": {
       "description_width": ""
      }
     },
     "63de374d87624a2d9e30a66a35f7c0c6": {
      "model_module": "@jupyter-widgets/base",
      "model_module_version": "1.2.0",
      "model_name": "LayoutModel",
      "state": {}
     },
     "64e3ac4416014fa88a926a8e2956677b": {
      "model_module": "@jupyter-widgets/controls",
      "model_module_version": "1.5.0",
      "model_name": "ButtonModel",
      "state": {
       "description": "Generate Plot",
       "layout": "IPY_MODEL_e6837cfb3f74470ab7e0c4c41dd440a0",
       "style": "IPY_MODEL_07f010ff3f984f18a06a548be841d871"
      }
     },
     "65dadaf137514a0ab0065b1735660085": {
      "model_module": "@jupyter-widgets/controls",
      "model_module_version": "1.5.0",
      "model_name": "TabModel",
      "state": {
       "_titles": {
        "0": "real",
        "1": "complex"
       },
       "children": [
        "IPY_MODEL_d148ed8f540940fcbe46c62a7968df84",
        "IPY_MODEL_f0ca78bcee274007bb23695afaaa383c"
       ],
       "layout": "IPY_MODEL_4e0f0be1a0c1497fb60b69704cc99bb2"
      }
     },
     "67b1000878994eb8ba35f7dbf3f6b553": {
      "model_module": "@jupyter-widgets/controls",
      "model_module_version": "1.5.0",
      "model_name": "DescriptionStyleModel",
      "state": {
       "description_width": ""
      }
     },
     "68a29c69c2c0409da890314f57ce532d": {
      "model_module": "@jupyter-widgets/controls",
      "model_module_version": "1.5.0",
      "model_name": "BoundedIntTextModel",
      "state": {
       "description": "$|m|$",
       "layout": "IPY_MODEL_fbdc4e5fff1b403db1b7324914760c4b",
       "max": 0,
       "style": "IPY_MODEL_7524fb2b68dd4811b4cbbdf7ef4efd0a"
      }
     },
     "68e47e7511284adcb12eb4e821e8cd4d": {
      "model_module": "@jupyter-widgets/base",
      "model_module_version": "1.2.0",
      "model_name": "LayoutModel",
      "state": {}
     },
     "6909ebc8a0534727808c88adb93f62b4": {
      "model_module": "@jupyter-widgets/output",
      "model_module_version": "1.0.0",
      "model_name": "OutputModel",
      "state": {
       "layout": "IPY_MODEL_1c8e68bc47f14d6bb52139f59c90d340"
      }
     },
     "6ee0fb767f2a48b4bb63c956abefc377": {
      "model_module": "@jupyter-widgets/controls",
      "model_module_version": "1.5.0",
      "model_name": "HBoxModel",
      "state": {
       "children": [
        "IPY_MODEL_5dbd9fb8b45848b5a5706ffdb05deab7",
        "IPY_MODEL_775b420db69d4563ae2af573788dce9e",
        "IPY_MODEL_c253207579cc497888bf77b65c20c3fe",
        "IPY_MODEL_fce6e0184d594160b2e90680cf935f76",
        "IPY_MODEL_d2324b39076847f08eb58173e33f2e69",
        "IPY_MODEL_110ca46bdce24df3abf59422b9cbfca9"
       ],
       "layout": "IPY_MODEL_0b44801a4f1044f29a0dad07ee48449f"
      }
     },
     "72a7caee97764fd2a618ba22941f9728": {
      "model_module": "@jupyter-widgets/base",
      "model_module_version": "1.2.0",
      "model_name": "LayoutModel",
      "state": {}
     },
     "7367cade0c634733bfc0c7be2f99bfa4": {
      "model_module": "@jupyter-widgets/controls",
      "model_module_version": "1.5.0",
      "model_name": "BoundedIntTextModel",
      "state": {
       "description": "$l$",
       "layout": "IPY_MODEL_63de374d87624a2d9e30a66a35f7c0c6",
       "style": "IPY_MODEL_534c1044c5354823a2438ef2ab4da60d"
      }
     },
     "74f9eb59aaf04a25939f3c9a746537f6": {
      "model_module": "@jupyter-widgets/base",
      "model_module_version": "1.2.0",
      "model_name": "LayoutModel",
      "state": {}
     },
     "7524fb2b68dd4811b4cbbdf7ef4efd0a": {
      "model_module": "@jupyter-widgets/controls",
      "model_module_version": "1.5.0",
      "model_name": "DescriptionStyleModel",
      "state": {
       "description_width": ""
      }
     },
     "75a50b01f0ec449782fd39803ad5aa9f": {
      "model_module": "@jupyter-widgets/base",
      "model_module_version": "1.2.0",
      "model_name": "LayoutModel",
      "state": {}
     },
     "775b420db69d4563ae2af573788dce9e": {
      "model_module": "@jupyter-widgets/controls",
      "model_module_version": "1.5.0",
      "model_name": "BoundedIntTextModel",
      "state": {
       "description": "$l$",
       "layout": "IPY_MODEL_defc7253d9204347928878d527096a20",
       "max": 0,
       "style": "IPY_MODEL_90905dffdc86408b93599e469ba90917"
      }
     },
     "7db8e893c0cc42fdb38970e7918bfad4": {
      "model_module": "@jupyter-widgets/controls",
      "model_module_version": "1.5.0",
      "model_name": "BoundedIntTextModel",
      "state": {
       "description": "$|m|$",
       "layout": "IPY_MODEL_89c40220602749d090228be8faa0ce05",
       "max": 0,
       "style": "IPY_MODEL_ece7a86200274f6bafed9d64b857a6d4"
      }
     },
     "7ff474075b5f4149888a30a539fb46aa": {
      "model_module": "@jupyter-widgets/controls",
      "model_module_version": "1.5.0",
      "model_name": "BoundedIntTextModel",
      "state": {
       "description": "$l$",
       "layout": "IPY_MODEL_02a2e537783e413cabb7fb37aa07de42",
       "max": 0,
       "style": "IPY_MODEL_86fe524c963b4d03a29e705ef414cc56"
      }
     },
     "80e497ca61174f54ad084d863ce9db08": {
      "model_module": "@jupyter-widgets/output",
      "model_module_version": "1.0.0",
      "model_name": "OutputModel",
      "state": {
       "layout": "IPY_MODEL_8e70ad96ebbf45c7b1c24c030e6a4597"
      }
     },
     "86fe524c963b4d03a29e705ef414cc56": {
      "model_module": "@jupyter-widgets/controls",
      "model_module_version": "1.5.0",
      "model_name": "DescriptionStyleModel",
      "state": {
       "description_width": ""
      }
     },
     "89c40220602749d090228be8faa0ce05": {
      "model_module": "@jupyter-widgets/base",
      "model_module_version": "1.2.0",
      "model_name": "LayoutModel",
      "state": {}
     },
     "8a026f4fba0148709c4c4a6942e8a3bd": {
      "model_module": "@jupyter-widgets/controls",
      "model_module_version": "1.5.0",
      "model_name": "ButtonStyleModel",
      "state": {}
     },
     "8e70ad96ebbf45c7b1c24c030e6a4597": {
      "model_module": "@jupyter-widgets/base",
      "model_module_version": "1.2.0",
      "model_name": "LayoutModel",
      "state": {}
     },
     "8f882ce211df402490453e309469d42a": {
      "model_module": "@jupyter-widgets/controls",
      "model_module_version": "1.5.0",
      "model_name": "BoundedIntTextModel",
      "state": {
       "description": "$n$",
       "layout": "IPY_MODEL_3750b32f248245b1bf888e556f6b490a",
       "max": 10,
       "min": 1,
       "style": "IPY_MODEL_03d7a5304c6e4415a500ea5cc4a13b64",
       "value": 1
      }
     },
     "90505b2d647e4b95abb9c7863b4ae2a6": {
      "model_module": "@jupyter-widgets/base",
      "model_module_version": "1.2.0",
      "model_name": "LayoutModel",
      "state": {}
     },
     "90905dffdc86408b93599e469ba90917": {
      "model_module": "@jupyter-widgets/controls",
      "model_module_version": "1.5.0",
      "model_name": "DescriptionStyleModel",
      "state": {
       "description_width": ""
      }
     },
     "93196e9903d442b685549221dae46fd0": {
      "model_module": "@jupyter-widgets/base",
      "model_module_version": "1.2.0",
      "model_name": "LayoutModel",
      "state": {}
     },
     "93716aad933e40fa80d7a9d47cd994ba": {
      "model_module": "@jupyter-widgets/controls",
      "model_module_version": "1.5.0",
      "model_name": "BoundedIntTextModel",
      "state": {
       "description": "$Z$",
       "layout": "IPY_MODEL_0dde74378b1d4554a4ea0f1cd7f0174a",
       "max": 180,
       "min": 1,
       "style": "IPY_MODEL_da34c43aa0d44caba20889084bcf26e6",
       "value": 1
      }
     },
     "94186af0f14c45eaada91198fea5e3e4": {
      "model_module": "@jupyter-widgets/base",
      "model_module_version": "1.2.0",
      "model_name": "LayoutModel",
      "state": {}
     },
     "94a67ab002764908bcc6b4ae9810434d": {
      "model_module": "@jupyter-widgets/base",
      "model_module_version": "1.2.0",
      "model_name": "LayoutModel",
      "state": {}
     },
     "961b10aac52b4224822f6dadc7f4fce9": {
      "model_module": "@jupyter-widgets/controls",
      "model_module_version": "1.5.0",
      "model_name": "ButtonStyleModel",
      "state": {}
     },
     "96e8fe4911f44eaeacdc17ef47dfddfc": {
      "model_module": "@jupyter-widgets/controls",
      "model_module_version": "1.5.0",
      "model_name": "DescriptionStyleModel",
      "state": {
       "description_width": ""
      }
     },
     "988e9938c6b8478488367d36cc41f079": {
      "model_module": "@jupyter-widgets/base",
      "model_module_version": "1.2.0",
      "model_name": "LayoutModel",
      "state": {}
     },
     "9904a899431e4e01818ecb2257782777": {
      "model_module": "@jupyter-widgets/controls",
      "model_module_version": "1.5.0",
      "model_name": "VBoxModel",
      "state": {
       "children": [
        "IPY_MODEL_2fc8e0dedfe14f09a713dc889d903e37",
        "IPY_MODEL_e23bcbce19a34de088760011d3ccd0fe"
       ],
       "layout": "IPY_MODEL_4fb8fbf445a74d729b027cd23f8d741e"
      }
     },
     "9ba9e9ee36ee441ca2c5cf0b9305a459": {
      "model_module": "@jupyter-widgets/base",
      "model_module_version": "1.2.0",
      "model_name": "LayoutModel",
      "state": {}
     },
     "9e0c58686ebe45e5afc35eea54ad6541": {
      "model_module": "@jupyter-widgets/controls",
      "model_module_version": "1.5.0",
      "model_name": "BoundedIntTextModel",
      "state": {
       "description": "$Z$",
       "layout": "IPY_MODEL_ccb9345be86e46388ab19fc1a9b5cec4",
       "max": 180,
       "min": 1,
       "style": "IPY_MODEL_2c8a226d39c04b3383c3ab6d37f34ec0",
       "value": 1
      }
     },
     "9e0f6154b56447d091d0f6ad45548526": {
      "model_module": "@jupyter-widgets/base",
      "model_module_version": "1.2.0",
      "model_name": "LayoutModel",
      "state": {}
     },
     "9e837413fd6b49a7841200970a1eb646": {
      "model_module": "@jupyter-widgets/controls",
      "model_module_version": "1.5.0",
      "model_name": "DescriptionStyleModel",
      "state": {
       "description_width": ""
      }
     },
     "9f460aad97f84cf999affe7ba8136b91": {
      "model_module": "@jupyter-widgets/base",
      "model_module_version": "1.2.0",
      "model_name": "LayoutModel",
      "state": {}
     },
     "9f7b4214e8ee448589e107465877e671": {
      "model_module": "@jupyter-widgets/base",
      "model_module_version": "1.2.0",
      "model_name": "LayoutModel",
      "state": {}
     },
     "a272e5971e67485a82a8636117c7d681": {
      "model_module": "@jupyter-widgets/base",
      "model_module_version": "1.2.0",
      "model_name": "LayoutModel",
      "state": {}
     },
     "afec193d1d0b42fabb8364f8710636b2": {
      "model_module": "@jupyter-widgets/controls",
      "model_module_version": "1.5.0",
      "model_name": "DescriptionStyleModel",
      "state": {
       "description_width": ""
      }
     },
     "b3ef608d78bf4e37a8ef65dd7ef09162": {
      "model_module": "@jupyter-widgets/base",
      "model_module_version": "1.2.0",
      "model_name": "LayoutModel",
      "state": {}
     },
     "b50c4a46eb9e4a0eb124e73ee68a9cde": {
      "model_module": "@jupyter-widgets/base",
      "model_module_version": "1.2.0",
      "model_name": "LayoutModel",
      "state": {}
     },
     "b861d7ebda234f46aa13894e85a3b40b": {
      "model_module": "@jupyter-widgets/controls",
      "model_module_version": "1.5.0",
      "model_name": "DescriptionStyleModel",
      "state": {
       "description_width": ""
      }
     },
     "bbeddc1a31a64591a69991f898d12741": {
      "model_module": "@jupyter-widgets/controls",
      "model_module_version": "1.5.0",
      "model_name": "ButtonModel",
      "state": {
       "description": "Generate Plot",
       "layout": "IPY_MODEL_ceac1816a12541da8151209ce9d1cae5",
       "style": "IPY_MODEL_961b10aac52b4224822f6dadc7f4fce9"
      }
     },
     "bf614850a3c34bef9f320d9f540eb873": {
      "model_module": "@jupyter-widgets/controls",
      "model_module_version": "1.5.0",
      "model_name": "BoundedIntTextModel",
      "state": {
       "description": "$\\left|m\\right|$",
       "layout": "IPY_MODEL_d04ff017edfb43abb0d3400d5625846b",
       "max": 0,
       "style": "IPY_MODEL_e2d15c448c2047fd8eb887b273c95802"
      }
     },
     "bfc63a0a8912494381425a011507ca35": {
      "model_module": "@jupyter-widgets/controls",
      "model_module_version": "1.5.0",
      "model_name": "VBoxModel",
      "state": {
       "children": [
        "IPY_MODEL_0771aeb769004a1c9606a1943fba0249",
        "IPY_MODEL_d8a2dbd4236f48feb06191703306553d"
       ],
       "layout": "IPY_MODEL_f854bd145db447688d0e3c75905195e7"
      }
     },
     "c253207579cc497888bf77b65c20c3fe": {
      "model_module": "@jupyter-widgets/controls",
      "model_module_version": "1.5.0",
      "model_name": "BoundedIntTextModel",
      "state": {
       "description": "$\\left|m\\right|$",
       "layout": "IPY_MODEL_90505b2d647e4b95abb9c7863b4ae2a6",
       "max": 0,
       "style": "IPY_MODEL_fd408e873bb743fc9204464c59c01b56"
      }
     },
     "c3d51ee4c9a64248901d2a8b05fcd0f9": {
      "model_module": "@jupyter-widgets/base",
      "model_module_version": "1.2.0",
      "model_name": "LayoutModel",
      "state": {}
     },
     "c4f8cc0e638649d4a3446af24f8a9bcc": {
      "model_module": "@jupyter-widgets/base",
      "model_module_version": "1.2.0",
      "model_name": "LayoutModel",
      "state": {}
     },
     "c6402d373d07444cac0493db9836578f": {
      "model_module": "@jupyter-widgets/base",
      "model_module_version": "1.2.0",
      "model_name": "LayoutModel",
      "state": {}
     },
     "c6e15a9702d64bc7b9b858a32220e744": {
      "model_module": "@jupyter-widgets/controls",
      "model_module_version": "1.5.0",
      "model_name": "ButtonModel",
      "state": {
       "description": "Generate Plot",
       "layout": "IPY_MODEL_1e23b23d3dd743a49b2c30afee0a4617",
       "style": "IPY_MODEL_445aa705c8bc4e3996428808ecb358da"
      }
     },
     "c8999f30a37b44e3b5da78210434717a": {
      "model_module": "@jupyter-widgets/base",
      "model_module_version": "1.2.0",
      "model_name": "LayoutModel",
      "state": {}
     },
     "ccb9345be86e46388ab19fc1a9b5cec4": {
      "model_module": "@jupyter-widgets/base",
      "model_module_version": "1.2.0",
      "model_name": "LayoutModel",
      "state": {}
     },
     "ceac1816a12541da8151209ce9d1cae5": {
      "model_module": "@jupyter-widgets/base",
      "model_module_version": "1.2.0",
      "model_name": "LayoutModel",
      "state": {}
     },
     "d04ff017edfb43abb0d3400d5625846b": {
      "model_module": "@jupyter-widgets/base",
      "model_module_version": "1.2.0",
      "model_name": "LayoutModel",
      "state": {}
     },
     "d148ed8f540940fcbe46c62a7968df84": {
      "model_module": "@jupyter-widgets/controls",
      "model_module_version": "1.5.0",
      "model_name": "VBoxModel",
      "state": {
       "children": [
        "IPY_MODEL_2f2acfc1b8c342baa4877c65bfb2bab9",
        "IPY_MODEL_7db8e893c0cc42fdb38970e7918bfad4",
        "IPY_MODEL_f74ab062d37848fc908f186ba7b8ce36",
        "IPY_MODEL_bbeddc1a31a64591a69991f898d12741",
        "IPY_MODEL_80e497ca61174f54ad084d863ce9db08"
       ],
       "layout": "IPY_MODEL_74f9eb59aaf04a25939f3c9a746537f6"
      }
     },
     "d2324b39076847f08eb58173e33f2e69": {
      "model_module": "@jupyter-widgets/controls",
      "model_module_version": "1.5.0",
      "model_name": "BoundedIntTextModel",
      "state": {
       "description": "$Z$",
       "layout": "IPY_MODEL_1e632c8693dc4b8f8368edb46ba02b1e",
       "max": 180,
       "min": 1,
       "style": "IPY_MODEL_3690f0ced52b4c3a8e907c66412a88e7",
       "value": 1
      }
     },
     "d32f2627965e4cb192f3b3695c337d00": {
      "model_module": "@jupyter-widgets/base",
      "model_module_version": "1.2.0",
      "model_name": "LayoutModel",
      "state": {}
     },
     "d71a9b7378c74810be57361d8c5782f2": {
      "model_module": "@jupyter-widgets/base",
      "model_module_version": "1.2.0",
      "model_name": "LayoutModel",
      "state": {}
     },
     "d8702c71155e436a864505dee6998388": {
      "model_module": "@jupyter-widgets/base",
      "model_module_version": "1.2.0",
      "model_name": "LayoutModel",
      "state": {
       "display": "none"
      }
     },
     "d8a2dbd4236f48feb06191703306553d": {
      "model_module": "@jupyter-widgets/output",
      "model_module_version": "1.0.0",
      "model_name": "OutputModel",
      "state": {
       "layout": "IPY_MODEL_75a50b01f0ec449782fd39803ad5aa9f"
      }
     },
     "d9d8034a1f7c4a1ea62a9da78147ee01": {
      "model_module": "@jupyter-widgets/base",
      "model_module_version": "1.2.0",
      "model_name": "LayoutModel",
      "state": {}
     },
     "da34c43aa0d44caba20889084bcf26e6": {
      "model_module": "@jupyter-widgets/controls",
      "model_module_version": "1.5.0",
      "model_name": "DescriptionStyleModel",
      "state": {
       "description_width": ""
      }
     },
     "da8e586f6439403dac38e346a98541c6": {
      "model_module": "@jupyter-widgets/controls",
      "model_module_version": "1.5.0",
      "model_name": "DescriptionStyleModel",
      "state": {
       "description_width": ""
      }
     },
     "dc4aadf0dd824636b0ee28b263a2734b": {
      "model_module": "@jupyter-widgets/base",
      "model_module_version": "1.2.0",
      "model_name": "LayoutModel",
      "state": {}
     },
     "defc7253d9204347928878d527096a20": {
      "model_module": "@jupyter-widgets/base",
      "model_module_version": "1.2.0",
      "model_name": "LayoutModel",
      "state": {}
     },
     "df8e2befe1124a91b12353db2e36f5d1": {
      "model_module": "@jupyter-widgets/output",
      "model_module_version": "1.0.0",
      "model_name": "OutputModel",
      "state": {
       "layout": "IPY_MODEL_e9cedba3b96048e9bb12e3d194a441ab"
      }
     },
     "e23bcbce19a34de088760011d3ccd0fe": {
      "model_module": "@jupyter-widgets/output",
      "model_module_version": "1.0.0",
      "model_name": "OutputModel",
      "state": {
       "layout": "IPY_MODEL_1b32664842ed4c38944c9b246fc487d7"
      }
     },
     "e2d15c448c2047fd8eb887b273c95802": {
      "model_module": "@jupyter-widgets/controls",
      "model_module_version": "1.5.0",
      "model_name": "DescriptionStyleModel",
      "state": {
       "description_width": ""
      }
     },
     "e6837cfb3f74470ab7e0c4c41dd440a0": {
      "model_module": "@jupyter-widgets/base",
      "model_module_version": "1.2.0",
      "model_name": "LayoutModel",
      "state": {}
     },
     "e77f6655bb9d4d23a05cf121d3d5f771": {
      "model_module": "@jupyter-widgets/controls",
      "model_module_version": "1.5.0",
      "model_name": "BoundedIntTextModel",
      "state": {
       "description": "$n$",
       "layout": "IPY_MODEL_0dbf0511e23045a19278e5cefa97e57a",
       "max": 10,
       "min": 1,
       "style": "IPY_MODEL_afec193d1d0b42fabb8364f8710636b2",
       "value": 1
      }
     },
     "e8eb05f48f2e40099e33255a602d8c0e": {
      "model_module": "@jupyter-widgets/controls",
      "model_module_version": "1.5.0",
      "model_name": "VBoxModel",
      "state": {
       "children": [
        "IPY_MODEL_0fd14c8937bb496292c9fabece994600",
        "IPY_MODEL_0ad12f259cde48eab8eb4699961535cc",
        "IPY_MODEL_313594a1fa9a47e69837dd4f8770bcf7",
        "IPY_MODEL_df8e2befe1124a91b12353db2e36f5d1"
       ],
       "layout": "IPY_MODEL_208ef933ccd141c2a7a3d25a742bf93d"
      }
     },
     "e902ccf484b34e799c431eb5a03a59fb": {
      "model_module": "@jupyter-widgets/controls",
      "model_module_version": "1.5.0",
      "model_name": "BoundedIntTextModel",
      "state": {
       "description": "$l$",
       "layout": "IPY_MODEL_b50c4a46eb9e4a0eb124e73ee68a9cde",
       "max": 0,
       "style": "IPY_MODEL_2ae34321b9c046ca8e0d098e311ff4d2"
      }
     },
     "e9cedba3b96048e9bb12e3d194a441ab": {
      "model_module": "@jupyter-widgets/base",
      "model_module_version": "1.2.0",
      "model_name": "LayoutModel",
      "state": {}
     },
     "ebddce8b17274217bfe94bce7baf3c06": {
      "model_module": "@jupyter-widgets/output",
      "model_module_version": "1.0.0",
      "model_name": "OutputModel",
      "state": {
       "layout": "IPY_MODEL_d71a9b7378c74810be57361d8c5782f2"
      }
     },
     "ece7a86200274f6bafed9d64b857a6d4": {
      "model_module": "@jupyter-widgets/controls",
      "model_module_version": "1.5.0",
      "model_name": "DescriptionStyleModel",
      "state": {
       "description_width": ""
      }
     },
     "ee4c99bcd36b48c7997ff394d4cbf1f1": {
      "model_module": "@jupyter-widgets/controls",
      "model_module_version": "1.5.0",
      "model_name": "ButtonStyleModel",
      "state": {}
     },
     "ef6283217fc142c0acd0a673e91f9446": {
      "model_module": "@jupyter-widgets/base",
      "model_module_version": "1.2.0",
      "model_name": "LayoutModel",
      "state": {}
     },
     "f0ca78bcee274007bb23695afaaa383c": {
      "model_module": "@jupyter-widgets/controls",
      "model_module_version": "1.5.0",
      "model_name": "VBoxModel",
      "state": {
       "children": [
        "IPY_MODEL_7367cade0c634733bfc0c7be2f99bfa4",
        "IPY_MODEL_2b21bcf25ae44029bee1333547b6bafb",
        "IPY_MODEL_45421146bff94d68a9a051de8c587920",
        "IPY_MODEL_6909ebc8a0534727808c88adb93f62b4"
       ],
       "layout": "IPY_MODEL_94a67ab002764908bcc6b4ae9810434d"
      }
     },
     "f199299cbfcc4aba99d7449c82eecd10": {
      "model_module": "@jupyter-widgets/controls",
      "model_module_version": "1.5.0",
      "model_name": "BoundedIntTextModel",
      "state": {
       "description": "$l$",
       "layout": "IPY_MODEL_9e0f6154b56447d091d0f6ad45548526",
       "style": "IPY_MODEL_076f2740bc8e48f9b9d5232447a315b5"
      }
     },
     "f74ab062d37848fc908f186ba7b8ce36": {
      "model_module": "@jupyter-widgets/controls",
      "model_module_version": "1.5.0",
      "model_name": "RadioButtonsModel",
      "state": {
       "_options_labels": [
        "+",
        "-"
       ],
       "description": "$Y_l^m \\pm Y_l^{-m}$",
       "index": 0,
       "layout": "IPY_MODEL_3fecc59c55bc4c749e270933e272c047",
       "style": "IPY_MODEL_9e837413fd6b49a7841200970a1eb646"
      }
     },
     "f854bd145db447688d0e3c75905195e7": {
      "model_module": "@jupyter-widgets/base",
      "model_module_version": "1.2.0",
      "model_name": "LayoutModel",
      "state": {}
     },
     "f989540c531a47b6a1f3bfe1316a4de3": {
      "model_module": "@jupyter-widgets/controls",
      "model_module_version": "1.5.0",
      "model_name": "BoundedIntTextModel",
      "state": {
       "description": "$Z$",
       "layout": "IPY_MODEL_3c51cebda198471b956ac09b5746057e",
       "max": 180,
       "min": 1,
       "style": "IPY_MODEL_16c18ebf25c147b28048bdf3477a91a0",
       "value": 1
      }
     },
     "f9d7ca1e6e264fe79e74a27793e600f3": {
      "model_module": "@jupyter-widgets/controls",
      "model_module_version": "1.5.0",
      "model_name": "BoundedIntTextModel",
      "state": {
       "description": "$n$",
       "layout": "IPY_MODEL_4a623a22ab1c4e33951bf9cae685e188",
       "max": 10,
       "min": 1,
       "style": "IPY_MODEL_31cbab946ff94b718a17a53ef7b097f8",
       "value": 1
      }
     },
     "fbd73a1619554f7598b65acd35eac63c": {
      "model_module": "@jupyter-widgets/controls",
      "model_module_version": "1.5.0",
      "model_name": "RadioButtonsModel",
      "state": {
       "_options_labels": [
        "+",
        "-"
       ],
       "description": "$Y_l^m \\pm Y_l^{-m}$",
       "index": 0,
       "layout": "IPY_MODEL_d8702c71155e436a864505dee6998388",
       "style": "IPY_MODEL_da8e586f6439403dac38e346a98541c6"
      }
     },
     "fbdc4e5fff1b403db1b7324914760c4b": {
      "model_module": "@jupyter-widgets/base",
      "model_module_version": "1.2.0",
      "model_name": "LayoutModel",
      "state": {}
     },
     "fce6e0184d594160b2e90680cf935f76": {
      "model_module": "@jupyter-widgets/controls",
      "model_module_version": "1.5.0",
      "model_name": "RadioButtonsModel",
      "state": {
       "_options_labels": [
        "+",
        "-"
       ],
       "description": "$Y_l^m \\pm Y_l^{-m}$",
       "index": 0,
       "layout": "IPY_MODEL_151117aea1804dee9bbbcd38c12ac9f4",
       "style": "IPY_MODEL_96e8fe4911f44eaeacdc17ef47dfddfc"
      }
     },
     "fd408e873bb743fc9204464c59c01b56": {
      "model_module": "@jupyter-widgets/controls",
      "model_module_version": "1.5.0",
      "model_name": "DescriptionStyleModel",
      "state": {
       "description_width": ""
      }
     }
    },
    "version_major": 2,
    "version_minor": 0
   }
  }
 },
 "nbformat": 4,
 "nbformat_minor": 4
}
